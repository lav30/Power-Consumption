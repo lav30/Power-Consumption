{
 "cells": [
  {
   "cell_type": "markdown",
   "metadata": {},
   "source": [
    "## Power plant data \n",
    "\n",
    "Source : https://archive.ics.uci.edu/ml/datasets/Combined+Cycle+Power+Plant#\n",
    "\n",
    "Pycaret Regression : https://github.com/pycaret/pycaret/blob/master/tutorials/Regression%20Tutorial%20Level%20Beginner%20-%20REG101.ipynb"
   ]
  },
  {
   "cell_type": "markdown",
   "metadata": {},
   "source": [
    "## Citation :\n",
    "\n",
    "Pınar Tüfekci, Prediction of full load electrical power output of a base load operated combined cycle power plant using machine learning methods, International Journal of Electrical Power & Energy Systems, Volume 60, September 2014, Pages 126-140, ISSN 0142-0615, [Web Link].\n",
    "([Web Link])\n",
    "\n",
    "Heysem Kaya, Pınar Tüfekci , Sadık Fikret Gürgen: Local and Global Learning Methods for Predicting Power of a Combined Gas & Steam Turbine, Proceedings of the International Conference on Emerging Trends in Computer and Electronics Engineering ICETCEE 2012, pp. 13-18 (Mar. 2012, Dubai)"
   ]
  },
  {
   "cell_type": "code",
   "execution_count": null,
   "metadata": {},
   "outputs": [],
   "source": [
    "pip install pycaret "
   ]
  },
  {
   "cell_type": "code",
   "execution_count": 59,
   "metadata": {},
   "outputs": [
    {
     "name": "stdout",
     "output_type": "stream",
     "text": [
      "PyCaret: 2.3.0\n"
     ]
    }
   ],
   "source": [
    "import pycaret\n",
    "print('PyCaret: %s' % pycaret.__version__)"
   ]
  },
  {
   "cell_type": "code",
   "execution_count": 2,
   "metadata": {},
   "outputs": [],
   "source": [
    "import pandas as pd\n",
    "import seaborn as sns\n",
    "import matplotlib.pyplot as plt\n",
    "import numpy as np"
   ]
  },
  {
   "cell_type": "code",
   "execution_count": 3,
   "metadata": {},
   "outputs": [],
   "source": [
    "df = pd.read_excel(\"Folds5x2_pp.xlsx\")"
   ]
  },
  {
   "cell_type": "markdown",
   "metadata": {},
   "source": [
    "## Dataset Information"
   ]
  },
  {
   "cell_type": "markdown",
   "metadata": {},
   "source": [
    "Features consist of hourly average ambient variables \n",
    "- Ambient Temperature (AT) in the range 1.81°C and 37.11°C,\n",
    "- Ambient Pressure (AP) in the range 992.89-1033.30 milibar,\n",
    "- Relative Humidity (RH) in the range 25.56% to 100.16%\n",
    "- Exhaust Vacuum (V) in teh range 25.36-81.56 cm Hg\n",
    "- Net hourly electrical energy output (EP) 420.26-495.76 MW\n",
    "The averages are taken from various sensors located around the plant that record the ambient variables every second. The variables are given without normalization."
   ]
  },
  {
   "cell_type": "markdown",
   "metadata": {},
   "source": [
    "## Feature Normalization?"
   ]
  },
  {
   "cell_type": "markdown",
   "metadata": {},
   "source": [
    "## Dataset Exploration"
   ]
  },
  {
   "cell_type": "code",
   "execution_count": 4,
   "metadata": {},
   "outputs": [
    {
     "data": {
      "text/html": [
       "<div>\n",
       "<style scoped>\n",
       "    .dataframe tbody tr th:only-of-type {\n",
       "        vertical-align: middle;\n",
       "    }\n",
       "\n",
       "    .dataframe tbody tr th {\n",
       "        vertical-align: top;\n",
       "    }\n",
       "\n",
       "    .dataframe thead th {\n",
       "        text-align: right;\n",
       "    }\n",
       "</style>\n",
       "<table border=\"1\" class=\"dataframe\">\n",
       "  <thead>\n",
       "    <tr style=\"text-align: right;\">\n",
       "      <th></th>\n",
       "      <th>AT</th>\n",
       "      <th>V</th>\n",
       "      <th>AP</th>\n",
       "      <th>RH</th>\n",
       "      <th>PE</th>\n",
       "    </tr>\n",
       "  </thead>\n",
       "  <tbody>\n",
       "    <tr>\n",
       "      <th>0</th>\n",
       "      <td>14.96</td>\n",
       "      <td>41.76</td>\n",
       "      <td>1024.07</td>\n",
       "      <td>73.17</td>\n",
       "      <td>463.26</td>\n",
       "    </tr>\n",
       "    <tr>\n",
       "      <th>1</th>\n",
       "      <td>25.18</td>\n",
       "      <td>62.96</td>\n",
       "      <td>1020.04</td>\n",
       "      <td>59.08</td>\n",
       "      <td>444.37</td>\n",
       "    </tr>\n",
       "    <tr>\n",
       "      <th>2</th>\n",
       "      <td>5.11</td>\n",
       "      <td>39.40</td>\n",
       "      <td>1012.16</td>\n",
       "      <td>92.14</td>\n",
       "      <td>488.56</td>\n",
       "    </tr>\n",
       "    <tr>\n",
       "      <th>3</th>\n",
       "      <td>20.86</td>\n",
       "      <td>57.32</td>\n",
       "      <td>1010.24</td>\n",
       "      <td>76.64</td>\n",
       "      <td>446.48</td>\n",
       "    </tr>\n",
       "    <tr>\n",
       "      <th>4</th>\n",
       "      <td>10.82</td>\n",
       "      <td>37.50</td>\n",
       "      <td>1009.23</td>\n",
       "      <td>96.62</td>\n",
       "      <td>473.90</td>\n",
       "    </tr>\n",
       "  </tbody>\n",
       "</table>\n",
       "</div>"
      ],
      "text/plain": [
       "      AT      V       AP     RH      PE\n",
       "0  14.96  41.76  1024.07  73.17  463.26\n",
       "1  25.18  62.96  1020.04  59.08  444.37\n",
       "2   5.11  39.40  1012.16  92.14  488.56\n",
       "3  20.86  57.32  1010.24  76.64  446.48\n",
       "4  10.82  37.50  1009.23  96.62  473.90"
      ]
     },
     "execution_count": 4,
     "metadata": {},
     "output_type": "execute_result"
    }
   ],
   "source": [
    "df.head()"
   ]
  },
  {
   "cell_type": "code",
   "execution_count": 5,
   "metadata": {},
   "outputs": [
    {
     "name": "stdout",
     "output_type": "stream",
     "text": [
      "<class 'pandas.core.frame.DataFrame'>\n",
      "RangeIndex: 9568 entries, 0 to 9567\n",
      "Data columns (total 5 columns):\n",
      " #   Column  Non-Null Count  Dtype  \n",
      "---  ------  --------------  -----  \n",
      " 0   AT      9568 non-null   float64\n",
      " 1   V       9568 non-null   float64\n",
      " 2   AP      9568 non-null   float64\n",
      " 3   RH      9568 non-null   float64\n",
      " 4   PE      9568 non-null   float64\n",
      "dtypes: float64(5)\n",
      "memory usage: 373.9 KB\n"
     ]
    }
   ],
   "source": [
    "df.info()"
   ]
  },
  {
   "cell_type": "code",
   "execution_count": 6,
   "metadata": {},
   "outputs": [
    {
     "data": {
      "text/plain": [
       "AT    9568\n",
       "V     9568\n",
       "AP    9568\n",
       "RH    9568\n",
       "PE    9568\n",
       "dtype: int64"
      ]
     },
     "execution_count": 6,
     "metadata": {},
     "output_type": "execute_result"
    }
   ],
   "source": [
    "df.count()"
   ]
  },
  {
   "cell_type": "code",
   "execution_count": 7,
   "metadata": {},
   "outputs": [
    {
     "data": {
      "text/html": [
       "<div>\n",
       "<style scoped>\n",
       "    .dataframe tbody tr th:only-of-type {\n",
       "        vertical-align: middle;\n",
       "    }\n",
       "\n",
       "    .dataframe tbody tr th {\n",
       "        vertical-align: top;\n",
       "    }\n",
       "\n",
       "    .dataframe thead th {\n",
       "        text-align: right;\n",
       "    }\n",
       "</style>\n",
       "<table border=\"1\" class=\"dataframe\">\n",
       "  <thead>\n",
       "    <tr style=\"text-align: right;\">\n",
       "      <th></th>\n",
       "      <th>AT</th>\n",
       "      <th>V</th>\n",
       "      <th>AP</th>\n",
       "      <th>RH</th>\n",
       "      <th>PE</th>\n",
       "    </tr>\n",
       "  </thead>\n",
       "  <tbody>\n",
       "    <tr>\n",
       "      <th>count</th>\n",
       "      <td>9568.000000</td>\n",
       "      <td>9568.000000</td>\n",
       "      <td>9568.000000</td>\n",
       "      <td>9568.000000</td>\n",
       "      <td>9568.000000</td>\n",
       "    </tr>\n",
       "    <tr>\n",
       "      <th>mean</th>\n",
       "      <td>19.651231</td>\n",
       "      <td>54.305804</td>\n",
       "      <td>1013.259078</td>\n",
       "      <td>73.308978</td>\n",
       "      <td>454.365009</td>\n",
       "    </tr>\n",
       "    <tr>\n",
       "      <th>std</th>\n",
       "      <td>7.452473</td>\n",
       "      <td>12.707893</td>\n",
       "      <td>5.938784</td>\n",
       "      <td>14.600269</td>\n",
       "      <td>17.066995</td>\n",
       "    </tr>\n",
       "    <tr>\n",
       "      <th>min</th>\n",
       "      <td>1.810000</td>\n",
       "      <td>25.360000</td>\n",
       "      <td>992.890000</td>\n",
       "      <td>25.560000</td>\n",
       "      <td>420.260000</td>\n",
       "    </tr>\n",
       "    <tr>\n",
       "      <th>25%</th>\n",
       "      <td>13.510000</td>\n",
       "      <td>41.740000</td>\n",
       "      <td>1009.100000</td>\n",
       "      <td>63.327500</td>\n",
       "      <td>439.750000</td>\n",
       "    </tr>\n",
       "    <tr>\n",
       "      <th>50%</th>\n",
       "      <td>20.345000</td>\n",
       "      <td>52.080000</td>\n",
       "      <td>1012.940000</td>\n",
       "      <td>74.975000</td>\n",
       "      <td>451.550000</td>\n",
       "    </tr>\n",
       "    <tr>\n",
       "      <th>75%</th>\n",
       "      <td>25.720000</td>\n",
       "      <td>66.540000</td>\n",
       "      <td>1017.260000</td>\n",
       "      <td>84.830000</td>\n",
       "      <td>468.430000</td>\n",
       "    </tr>\n",
       "    <tr>\n",
       "      <th>max</th>\n",
       "      <td>37.110000</td>\n",
       "      <td>81.560000</td>\n",
       "      <td>1033.300000</td>\n",
       "      <td>100.160000</td>\n",
       "      <td>495.760000</td>\n",
       "    </tr>\n",
       "  </tbody>\n",
       "</table>\n",
       "</div>"
      ],
      "text/plain": [
       "                AT            V           AP           RH           PE\n",
       "count  9568.000000  9568.000000  9568.000000  9568.000000  9568.000000\n",
       "mean     19.651231    54.305804  1013.259078    73.308978   454.365009\n",
       "std       7.452473    12.707893     5.938784    14.600269    17.066995\n",
       "min       1.810000    25.360000   992.890000    25.560000   420.260000\n",
       "25%      13.510000    41.740000  1009.100000    63.327500   439.750000\n",
       "50%      20.345000    52.080000  1012.940000    74.975000   451.550000\n",
       "75%      25.720000    66.540000  1017.260000    84.830000   468.430000\n",
       "max      37.110000    81.560000  1033.300000   100.160000   495.760000"
      ]
     },
     "execution_count": 7,
     "metadata": {},
     "output_type": "execute_result"
    }
   ],
   "source": [
    "df.describe()"
   ]
  },
  {
   "cell_type": "code",
   "execution_count": 8,
   "metadata": {},
   "outputs": [
    {
     "data": {
      "text/html": [
       "<div>\n",
       "<style scoped>\n",
       "    .dataframe tbody tr th:only-of-type {\n",
       "        vertical-align: middle;\n",
       "    }\n",
       "\n",
       "    .dataframe tbody tr th {\n",
       "        vertical-align: top;\n",
       "    }\n",
       "\n",
       "    .dataframe thead th {\n",
       "        text-align: right;\n",
       "    }\n",
       "</style>\n",
       "<table border=\"1\" class=\"dataframe\">\n",
       "  <thead>\n",
       "    <tr style=\"text-align: right;\">\n",
       "      <th></th>\n",
       "      <th>AT</th>\n",
       "      <th>V</th>\n",
       "      <th>AP</th>\n",
       "      <th>RH</th>\n",
       "      <th>PE</th>\n",
       "    </tr>\n",
       "  </thead>\n",
       "  <tbody>\n",
       "    <tr>\n",
       "      <th>AT</th>\n",
       "      <td>1.000000</td>\n",
       "      <td>0.844107</td>\n",
       "      <td>-0.507549</td>\n",
       "      <td>-0.542535</td>\n",
       "      <td>-0.948128</td>\n",
       "    </tr>\n",
       "    <tr>\n",
       "      <th>V</th>\n",
       "      <td>0.844107</td>\n",
       "      <td>1.000000</td>\n",
       "      <td>-0.413502</td>\n",
       "      <td>-0.312187</td>\n",
       "      <td>-0.869780</td>\n",
       "    </tr>\n",
       "    <tr>\n",
       "      <th>AP</th>\n",
       "      <td>-0.507549</td>\n",
       "      <td>-0.413502</td>\n",
       "      <td>1.000000</td>\n",
       "      <td>0.099574</td>\n",
       "      <td>0.518429</td>\n",
       "    </tr>\n",
       "    <tr>\n",
       "      <th>RH</th>\n",
       "      <td>-0.542535</td>\n",
       "      <td>-0.312187</td>\n",
       "      <td>0.099574</td>\n",
       "      <td>1.000000</td>\n",
       "      <td>0.389794</td>\n",
       "    </tr>\n",
       "    <tr>\n",
       "      <th>PE</th>\n",
       "      <td>-0.948128</td>\n",
       "      <td>-0.869780</td>\n",
       "      <td>0.518429</td>\n",
       "      <td>0.389794</td>\n",
       "      <td>1.000000</td>\n",
       "    </tr>\n",
       "  </tbody>\n",
       "</table>\n",
       "</div>"
      ],
      "text/plain": [
       "          AT         V        AP        RH        PE\n",
       "AT  1.000000  0.844107 -0.507549 -0.542535 -0.948128\n",
       "V   0.844107  1.000000 -0.413502 -0.312187 -0.869780\n",
       "AP -0.507549 -0.413502  1.000000  0.099574  0.518429\n",
       "RH -0.542535 -0.312187  0.099574  1.000000  0.389794\n",
       "PE -0.948128 -0.869780  0.518429  0.389794  1.000000"
      ]
     },
     "execution_count": 8,
     "metadata": {},
     "output_type": "execute_result"
    }
   ],
   "source": [
    "df.corr()"
   ]
  },
  {
   "cell_type": "code",
   "execution_count": 9,
   "metadata": {},
   "outputs": [
    {
     "data": {
      "text/plain": [
       "AT    0\n",
       "V     0\n",
       "AP    0\n",
       "RH    0\n",
       "PE    0\n",
       "dtype: int64"
      ]
     },
     "execution_count": 9,
     "metadata": {},
     "output_type": "execute_result"
    }
   ],
   "source": [
    "df.isnull().sum()"
   ]
  },
  {
   "cell_type": "code",
   "execution_count": 10,
   "metadata": {},
   "outputs": [
    {
     "data": {
      "text/plain": [
       "(9568, 5)"
      ]
     },
     "execution_count": 10,
     "metadata": {},
     "output_type": "execute_result"
    }
   ],
   "source": [
    "df.shape\n"
   ]
  },
  {
   "cell_type": "code",
   "execution_count": 11,
   "metadata": {},
   "outputs": [
    {
     "name": "stdout",
     "output_type": "stream",
     "text": [
      "There are 9568 observations and 5 features in this dataset \n"
     ]
    }
   ],
   "source": [
    "print(\"There are {} observations and {} features in this dataset \" . format(df.shape[0],df.shape[1]))"
   ]
  },
  {
   "cell_type": "markdown",
   "metadata": {},
   "source": [
    " In order to demonstrate the predict_model() function on unseen data, \n",
    "a sample of 1914 records have been withheld from the original dataset to be used for predictions. "
   ]
  },
  {
   "cell_type": "code",
   "execution_count": 13,
   "metadata": {},
   "outputs": [],
   "source": [
    "data = df.sample(frac=0.8, random_state=786)\n",
    "data_unseen = df.drop(data.index)"
   ]
  },
  {
   "cell_type": "code",
   "execution_count": 14,
   "metadata": {},
   "outputs": [],
   "source": [
    "data.reset_index(drop=True, inplace=True)\n",
    "data_unseen.reset_index(drop=True, inplace=True)\n"
   ]
  },
  {
   "cell_type": "code",
   "execution_count": 15,
   "metadata": {},
   "outputs": [
    {
     "name": "stdout",
     "output_type": "stream",
     "text": [
      "Data for Modeling: (7654, 5)\n",
      "Unseen Data For Predictions: (1914, 5)\n"
     ]
    }
   ],
   "source": [
    "print('Data for Modeling: ' + str(data.shape))\n",
    "print('Unseen Data For Predictions: ' + str(data_unseen.shape))"
   ]
  },
  {
   "cell_type": "code",
   "execution_count": 16,
   "metadata": {},
   "outputs": [
    {
     "data": {
      "text/html": [
       "<style  type=\"text/css\" >\n",
       "</style><table id=\"T_b372aadc_7c75_11eb_9230_8c8590b50c4a\" ><thead>    <tr>        <th class=\"blank level0\" ></th>        <th class=\"col_heading level0 col0\" >Description</th>        <th class=\"col_heading level0 col1\" >Value</th>    </tr></thead><tbody>\n",
       "                <tr>\n",
       "                        <th id=\"T_b372aadc_7c75_11eb_9230_8c8590b50c4alevel0_row0\" class=\"row_heading level0 row0\" >0</th>\n",
       "                        <td id=\"T_b372aadc_7c75_11eb_9230_8c8590b50c4arow0_col0\" class=\"data row0 col0\" >session_id</td>\n",
       "                        <td id=\"T_b372aadc_7c75_11eb_9230_8c8590b50c4arow0_col1\" class=\"data row0 col1\" >123</td>\n",
       "            </tr>\n",
       "            <tr>\n",
       "                        <th id=\"T_b372aadc_7c75_11eb_9230_8c8590b50c4alevel0_row1\" class=\"row_heading level0 row1\" >1</th>\n",
       "                        <td id=\"T_b372aadc_7c75_11eb_9230_8c8590b50c4arow1_col0\" class=\"data row1 col0\" >Target</td>\n",
       "                        <td id=\"T_b372aadc_7c75_11eb_9230_8c8590b50c4arow1_col1\" class=\"data row1 col1\" >PE</td>\n",
       "            </tr>\n",
       "            <tr>\n",
       "                        <th id=\"T_b372aadc_7c75_11eb_9230_8c8590b50c4alevel0_row2\" class=\"row_heading level0 row2\" >2</th>\n",
       "                        <td id=\"T_b372aadc_7c75_11eb_9230_8c8590b50c4arow2_col0\" class=\"data row2 col0\" >Original Data</td>\n",
       "                        <td id=\"T_b372aadc_7c75_11eb_9230_8c8590b50c4arow2_col1\" class=\"data row2 col1\" >(7654, 5)</td>\n",
       "            </tr>\n",
       "            <tr>\n",
       "                        <th id=\"T_b372aadc_7c75_11eb_9230_8c8590b50c4alevel0_row3\" class=\"row_heading level0 row3\" >3</th>\n",
       "                        <td id=\"T_b372aadc_7c75_11eb_9230_8c8590b50c4arow3_col0\" class=\"data row3 col0\" >Missing Values</td>\n",
       "                        <td id=\"T_b372aadc_7c75_11eb_9230_8c8590b50c4arow3_col1\" class=\"data row3 col1\" >False</td>\n",
       "            </tr>\n",
       "            <tr>\n",
       "                        <th id=\"T_b372aadc_7c75_11eb_9230_8c8590b50c4alevel0_row4\" class=\"row_heading level0 row4\" >4</th>\n",
       "                        <td id=\"T_b372aadc_7c75_11eb_9230_8c8590b50c4arow4_col0\" class=\"data row4 col0\" >Numeric Features</td>\n",
       "                        <td id=\"T_b372aadc_7c75_11eb_9230_8c8590b50c4arow4_col1\" class=\"data row4 col1\" >4</td>\n",
       "            </tr>\n",
       "            <tr>\n",
       "                        <th id=\"T_b372aadc_7c75_11eb_9230_8c8590b50c4alevel0_row5\" class=\"row_heading level0 row5\" >5</th>\n",
       "                        <td id=\"T_b372aadc_7c75_11eb_9230_8c8590b50c4arow5_col0\" class=\"data row5 col0\" >Categorical Features</td>\n",
       "                        <td id=\"T_b372aadc_7c75_11eb_9230_8c8590b50c4arow5_col1\" class=\"data row5 col1\" >0</td>\n",
       "            </tr>\n",
       "            <tr>\n",
       "                        <th id=\"T_b372aadc_7c75_11eb_9230_8c8590b50c4alevel0_row6\" class=\"row_heading level0 row6\" >6</th>\n",
       "                        <td id=\"T_b372aadc_7c75_11eb_9230_8c8590b50c4arow6_col0\" class=\"data row6 col0\" >Ordinal Features</td>\n",
       "                        <td id=\"T_b372aadc_7c75_11eb_9230_8c8590b50c4arow6_col1\" class=\"data row6 col1\" >False</td>\n",
       "            </tr>\n",
       "            <tr>\n",
       "                        <th id=\"T_b372aadc_7c75_11eb_9230_8c8590b50c4alevel0_row7\" class=\"row_heading level0 row7\" >7</th>\n",
       "                        <td id=\"T_b372aadc_7c75_11eb_9230_8c8590b50c4arow7_col0\" class=\"data row7 col0\" >High Cardinality Features</td>\n",
       "                        <td id=\"T_b372aadc_7c75_11eb_9230_8c8590b50c4arow7_col1\" class=\"data row7 col1\" >False</td>\n",
       "            </tr>\n",
       "            <tr>\n",
       "                        <th id=\"T_b372aadc_7c75_11eb_9230_8c8590b50c4alevel0_row8\" class=\"row_heading level0 row8\" >8</th>\n",
       "                        <td id=\"T_b372aadc_7c75_11eb_9230_8c8590b50c4arow8_col0\" class=\"data row8 col0\" >High Cardinality Method</td>\n",
       "                        <td id=\"T_b372aadc_7c75_11eb_9230_8c8590b50c4arow8_col1\" class=\"data row8 col1\" >None</td>\n",
       "            </tr>\n",
       "            <tr>\n",
       "                        <th id=\"T_b372aadc_7c75_11eb_9230_8c8590b50c4alevel0_row9\" class=\"row_heading level0 row9\" >9</th>\n",
       "                        <td id=\"T_b372aadc_7c75_11eb_9230_8c8590b50c4arow9_col0\" class=\"data row9 col0\" >Transformed Train Set</td>\n",
       "                        <td id=\"T_b372aadc_7c75_11eb_9230_8c8590b50c4arow9_col1\" class=\"data row9 col1\" >(5357, 4)</td>\n",
       "            </tr>\n",
       "            <tr>\n",
       "                        <th id=\"T_b372aadc_7c75_11eb_9230_8c8590b50c4alevel0_row10\" class=\"row_heading level0 row10\" >10</th>\n",
       "                        <td id=\"T_b372aadc_7c75_11eb_9230_8c8590b50c4arow10_col0\" class=\"data row10 col0\" >Transformed Test Set</td>\n",
       "                        <td id=\"T_b372aadc_7c75_11eb_9230_8c8590b50c4arow10_col1\" class=\"data row10 col1\" >(2297, 4)</td>\n",
       "            </tr>\n",
       "            <tr>\n",
       "                        <th id=\"T_b372aadc_7c75_11eb_9230_8c8590b50c4alevel0_row11\" class=\"row_heading level0 row11\" >11</th>\n",
       "                        <td id=\"T_b372aadc_7c75_11eb_9230_8c8590b50c4arow11_col0\" class=\"data row11 col0\" >Shuffle Train-Test</td>\n",
       "                        <td id=\"T_b372aadc_7c75_11eb_9230_8c8590b50c4arow11_col1\" class=\"data row11 col1\" >True</td>\n",
       "            </tr>\n",
       "            <tr>\n",
       "                        <th id=\"T_b372aadc_7c75_11eb_9230_8c8590b50c4alevel0_row12\" class=\"row_heading level0 row12\" >12</th>\n",
       "                        <td id=\"T_b372aadc_7c75_11eb_9230_8c8590b50c4arow12_col0\" class=\"data row12 col0\" >Stratify Train-Test</td>\n",
       "                        <td id=\"T_b372aadc_7c75_11eb_9230_8c8590b50c4arow12_col1\" class=\"data row12 col1\" >False</td>\n",
       "            </tr>\n",
       "            <tr>\n",
       "                        <th id=\"T_b372aadc_7c75_11eb_9230_8c8590b50c4alevel0_row13\" class=\"row_heading level0 row13\" >13</th>\n",
       "                        <td id=\"T_b372aadc_7c75_11eb_9230_8c8590b50c4arow13_col0\" class=\"data row13 col0\" >Fold Generator</td>\n",
       "                        <td id=\"T_b372aadc_7c75_11eb_9230_8c8590b50c4arow13_col1\" class=\"data row13 col1\" >KFold</td>\n",
       "            </tr>\n",
       "            <tr>\n",
       "                        <th id=\"T_b372aadc_7c75_11eb_9230_8c8590b50c4alevel0_row14\" class=\"row_heading level0 row14\" >14</th>\n",
       "                        <td id=\"T_b372aadc_7c75_11eb_9230_8c8590b50c4arow14_col0\" class=\"data row14 col0\" >Fold Number</td>\n",
       "                        <td id=\"T_b372aadc_7c75_11eb_9230_8c8590b50c4arow14_col1\" class=\"data row14 col1\" >10</td>\n",
       "            </tr>\n",
       "            <tr>\n",
       "                        <th id=\"T_b372aadc_7c75_11eb_9230_8c8590b50c4alevel0_row15\" class=\"row_heading level0 row15\" >15</th>\n",
       "                        <td id=\"T_b372aadc_7c75_11eb_9230_8c8590b50c4arow15_col0\" class=\"data row15 col0\" >CPU Jobs</td>\n",
       "                        <td id=\"T_b372aadc_7c75_11eb_9230_8c8590b50c4arow15_col1\" class=\"data row15 col1\" >-1</td>\n",
       "            </tr>\n",
       "            <tr>\n",
       "                        <th id=\"T_b372aadc_7c75_11eb_9230_8c8590b50c4alevel0_row16\" class=\"row_heading level0 row16\" >16</th>\n",
       "                        <td id=\"T_b372aadc_7c75_11eb_9230_8c8590b50c4arow16_col0\" class=\"data row16 col0\" >Use GPU</td>\n",
       "                        <td id=\"T_b372aadc_7c75_11eb_9230_8c8590b50c4arow16_col1\" class=\"data row16 col1\" >False</td>\n",
       "            </tr>\n",
       "            <tr>\n",
       "                        <th id=\"T_b372aadc_7c75_11eb_9230_8c8590b50c4alevel0_row17\" class=\"row_heading level0 row17\" >17</th>\n",
       "                        <td id=\"T_b372aadc_7c75_11eb_9230_8c8590b50c4arow17_col0\" class=\"data row17 col0\" >Log Experiment</td>\n",
       "                        <td id=\"T_b372aadc_7c75_11eb_9230_8c8590b50c4arow17_col1\" class=\"data row17 col1\" >False</td>\n",
       "            </tr>\n",
       "            <tr>\n",
       "                        <th id=\"T_b372aadc_7c75_11eb_9230_8c8590b50c4alevel0_row18\" class=\"row_heading level0 row18\" >18</th>\n",
       "                        <td id=\"T_b372aadc_7c75_11eb_9230_8c8590b50c4arow18_col0\" class=\"data row18 col0\" >Experiment Name</td>\n",
       "                        <td id=\"T_b372aadc_7c75_11eb_9230_8c8590b50c4arow18_col1\" class=\"data row18 col1\" >reg-default-name</td>\n",
       "            </tr>\n",
       "            <tr>\n",
       "                        <th id=\"T_b372aadc_7c75_11eb_9230_8c8590b50c4alevel0_row19\" class=\"row_heading level0 row19\" >19</th>\n",
       "                        <td id=\"T_b372aadc_7c75_11eb_9230_8c8590b50c4arow19_col0\" class=\"data row19 col0\" >USI</td>\n",
       "                        <td id=\"T_b372aadc_7c75_11eb_9230_8c8590b50c4arow19_col1\" class=\"data row19 col1\" >b225</td>\n",
       "            </tr>\n",
       "            <tr>\n",
       "                        <th id=\"T_b372aadc_7c75_11eb_9230_8c8590b50c4alevel0_row20\" class=\"row_heading level0 row20\" >20</th>\n",
       "                        <td id=\"T_b372aadc_7c75_11eb_9230_8c8590b50c4arow20_col0\" class=\"data row20 col0\" >Imputation Type</td>\n",
       "                        <td id=\"T_b372aadc_7c75_11eb_9230_8c8590b50c4arow20_col1\" class=\"data row20 col1\" >simple</td>\n",
       "            </tr>\n",
       "            <tr>\n",
       "                        <th id=\"T_b372aadc_7c75_11eb_9230_8c8590b50c4alevel0_row21\" class=\"row_heading level0 row21\" >21</th>\n",
       "                        <td id=\"T_b372aadc_7c75_11eb_9230_8c8590b50c4arow21_col0\" class=\"data row21 col0\" >Iterative Imputation Iteration</td>\n",
       "                        <td id=\"T_b372aadc_7c75_11eb_9230_8c8590b50c4arow21_col1\" class=\"data row21 col1\" >None</td>\n",
       "            </tr>\n",
       "            <tr>\n",
       "                        <th id=\"T_b372aadc_7c75_11eb_9230_8c8590b50c4alevel0_row22\" class=\"row_heading level0 row22\" >22</th>\n",
       "                        <td id=\"T_b372aadc_7c75_11eb_9230_8c8590b50c4arow22_col0\" class=\"data row22 col0\" >Numeric Imputer</td>\n",
       "                        <td id=\"T_b372aadc_7c75_11eb_9230_8c8590b50c4arow22_col1\" class=\"data row22 col1\" >mean</td>\n",
       "            </tr>\n",
       "            <tr>\n",
       "                        <th id=\"T_b372aadc_7c75_11eb_9230_8c8590b50c4alevel0_row23\" class=\"row_heading level0 row23\" >23</th>\n",
       "                        <td id=\"T_b372aadc_7c75_11eb_9230_8c8590b50c4arow23_col0\" class=\"data row23 col0\" >Iterative Imputation Numeric Model</td>\n",
       "                        <td id=\"T_b372aadc_7c75_11eb_9230_8c8590b50c4arow23_col1\" class=\"data row23 col1\" >None</td>\n",
       "            </tr>\n",
       "            <tr>\n",
       "                        <th id=\"T_b372aadc_7c75_11eb_9230_8c8590b50c4alevel0_row24\" class=\"row_heading level0 row24\" >24</th>\n",
       "                        <td id=\"T_b372aadc_7c75_11eb_9230_8c8590b50c4arow24_col0\" class=\"data row24 col0\" >Categorical Imputer</td>\n",
       "                        <td id=\"T_b372aadc_7c75_11eb_9230_8c8590b50c4arow24_col1\" class=\"data row24 col1\" >constant</td>\n",
       "            </tr>\n",
       "            <tr>\n",
       "                        <th id=\"T_b372aadc_7c75_11eb_9230_8c8590b50c4alevel0_row25\" class=\"row_heading level0 row25\" >25</th>\n",
       "                        <td id=\"T_b372aadc_7c75_11eb_9230_8c8590b50c4arow25_col0\" class=\"data row25 col0\" >Iterative Imputation Categorical Model</td>\n",
       "                        <td id=\"T_b372aadc_7c75_11eb_9230_8c8590b50c4arow25_col1\" class=\"data row25 col1\" >None</td>\n",
       "            </tr>\n",
       "            <tr>\n",
       "                        <th id=\"T_b372aadc_7c75_11eb_9230_8c8590b50c4alevel0_row26\" class=\"row_heading level0 row26\" >26</th>\n",
       "                        <td id=\"T_b372aadc_7c75_11eb_9230_8c8590b50c4arow26_col0\" class=\"data row26 col0\" >Unknown Categoricals Handling</td>\n",
       "                        <td id=\"T_b372aadc_7c75_11eb_9230_8c8590b50c4arow26_col1\" class=\"data row26 col1\" >least_frequent</td>\n",
       "            </tr>\n",
       "            <tr>\n",
       "                        <th id=\"T_b372aadc_7c75_11eb_9230_8c8590b50c4alevel0_row27\" class=\"row_heading level0 row27\" >27</th>\n",
       "                        <td id=\"T_b372aadc_7c75_11eb_9230_8c8590b50c4arow27_col0\" class=\"data row27 col0\" >Normalize</td>\n",
       "                        <td id=\"T_b372aadc_7c75_11eb_9230_8c8590b50c4arow27_col1\" class=\"data row27 col1\" >False</td>\n",
       "            </tr>\n",
       "            <tr>\n",
       "                        <th id=\"T_b372aadc_7c75_11eb_9230_8c8590b50c4alevel0_row28\" class=\"row_heading level0 row28\" >28</th>\n",
       "                        <td id=\"T_b372aadc_7c75_11eb_9230_8c8590b50c4arow28_col0\" class=\"data row28 col0\" >Normalize Method</td>\n",
       "                        <td id=\"T_b372aadc_7c75_11eb_9230_8c8590b50c4arow28_col1\" class=\"data row28 col1\" >None</td>\n",
       "            </tr>\n",
       "            <tr>\n",
       "                        <th id=\"T_b372aadc_7c75_11eb_9230_8c8590b50c4alevel0_row29\" class=\"row_heading level0 row29\" >29</th>\n",
       "                        <td id=\"T_b372aadc_7c75_11eb_9230_8c8590b50c4arow29_col0\" class=\"data row29 col0\" >Transformation</td>\n",
       "                        <td id=\"T_b372aadc_7c75_11eb_9230_8c8590b50c4arow29_col1\" class=\"data row29 col1\" >False</td>\n",
       "            </tr>\n",
       "            <tr>\n",
       "                        <th id=\"T_b372aadc_7c75_11eb_9230_8c8590b50c4alevel0_row30\" class=\"row_heading level0 row30\" >30</th>\n",
       "                        <td id=\"T_b372aadc_7c75_11eb_9230_8c8590b50c4arow30_col0\" class=\"data row30 col0\" >Transformation Method</td>\n",
       "                        <td id=\"T_b372aadc_7c75_11eb_9230_8c8590b50c4arow30_col1\" class=\"data row30 col1\" >None</td>\n",
       "            </tr>\n",
       "            <tr>\n",
       "                        <th id=\"T_b372aadc_7c75_11eb_9230_8c8590b50c4alevel0_row31\" class=\"row_heading level0 row31\" >31</th>\n",
       "                        <td id=\"T_b372aadc_7c75_11eb_9230_8c8590b50c4arow31_col0\" class=\"data row31 col0\" >PCA</td>\n",
       "                        <td id=\"T_b372aadc_7c75_11eb_9230_8c8590b50c4arow31_col1\" class=\"data row31 col1\" >False</td>\n",
       "            </tr>\n",
       "            <tr>\n",
       "                        <th id=\"T_b372aadc_7c75_11eb_9230_8c8590b50c4alevel0_row32\" class=\"row_heading level0 row32\" >32</th>\n",
       "                        <td id=\"T_b372aadc_7c75_11eb_9230_8c8590b50c4arow32_col0\" class=\"data row32 col0\" >PCA Method</td>\n",
       "                        <td id=\"T_b372aadc_7c75_11eb_9230_8c8590b50c4arow32_col1\" class=\"data row32 col1\" >None</td>\n",
       "            </tr>\n",
       "            <tr>\n",
       "                        <th id=\"T_b372aadc_7c75_11eb_9230_8c8590b50c4alevel0_row33\" class=\"row_heading level0 row33\" >33</th>\n",
       "                        <td id=\"T_b372aadc_7c75_11eb_9230_8c8590b50c4arow33_col0\" class=\"data row33 col0\" >PCA Components</td>\n",
       "                        <td id=\"T_b372aadc_7c75_11eb_9230_8c8590b50c4arow33_col1\" class=\"data row33 col1\" >None</td>\n",
       "            </tr>\n",
       "            <tr>\n",
       "                        <th id=\"T_b372aadc_7c75_11eb_9230_8c8590b50c4alevel0_row34\" class=\"row_heading level0 row34\" >34</th>\n",
       "                        <td id=\"T_b372aadc_7c75_11eb_9230_8c8590b50c4arow34_col0\" class=\"data row34 col0\" >Ignore Low Variance</td>\n",
       "                        <td id=\"T_b372aadc_7c75_11eb_9230_8c8590b50c4arow34_col1\" class=\"data row34 col1\" >False</td>\n",
       "            </tr>\n",
       "            <tr>\n",
       "                        <th id=\"T_b372aadc_7c75_11eb_9230_8c8590b50c4alevel0_row35\" class=\"row_heading level0 row35\" >35</th>\n",
       "                        <td id=\"T_b372aadc_7c75_11eb_9230_8c8590b50c4arow35_col0\" class=\"data row35 col0\" >Combine Rare Levels</td>\n",
       "                        <td id=\"T_b372aadc_7c75_11eb_9230_8c8590b50c4arow35_col1\" class=\"data row35 col1\" >False</td>\n",
       "            </tr>\n",
       "            <tr>\n",
       "                        <th id=\"T_b372aadc_7c75_11eb_9230_8c8590b50c4alevel0_row36\" class=\"row_heading level0 row36\" >36</th>\n",
       "                        <td id=\"T_b372aadc_7c75_11eb_9230_8c8590b50c4arow36_col0\" class=\"data row36 col0\" >Rare Level Threshold</td>\n",
       "                        <td id=\"T_b372aadc_7c75_11eb_9230_8c8590b50c4arow36_col1\" class=\"data row36 col1\" >None</td>\n",
       "            </tr>\n",
       "            <tr>\n",
       "                        <th id=\"T_b372aadc_7c75_11eb_9230_8c8590b50c4alevel0_row37\" class=\"row_heading level0 row37\" >37</th>\n",
       "                        <td id=\"T_b372aadc_7c75_11eb_9230_8c8590b50c4arow37_col0\" class=\"data row37 col0\" >Numeric Binning</td>\n",
       "                        <td id=\"T_b372aadc_7c75_11eb_9230_8c8590b50c4arow37_col1\" class=\"data row37 col1\" >False</td>\n",
       "            </tr>\n",
       "            <tr>\n",
       "                        <th id=\"T_b372aadc_7c75_11eb_9230_8c8590b50c4alevel0_row38\" class=\"row_heading level0 row38\" >38</th>\n",
       "                        <td id=\"T_b372aadc_7c75_11eb_9230_8c8590b50c4arow38_col0\" class=\"data row38 col0\" >Remove Outliers</td>\n",
       "                        <td id=\"T_b372aadc_7c75_11eb_9230_8c8590b50c4arow38_col1\" class=\"data row38 col1\" >False</td>\n",
       "            </tr>\n",
       "            <tr>\n",
       "                        <th id=\"T_b372aadc_7c75_11eb_9230_8c8590b50c4alevel0_row39\" class=\"row_heading level0 row39\" >39</th>\n",
       "                        <td id=\"T_b372aadc_7c75_11eb_9230_8c8590b50c4arow39_col0\" class=\"data row39 col0\" >Outliers Threshold</td>\n",
       "                        <td id=\"T_b372aadc_7c75_11eb_9230_8c8590b50c4arow39_col1\" class=\"data row39 col1\" >None</td>\n",
       "            </tr>\n",
       "            <tr>\n",
       "                        <th id=\"T_b372aadc_7c75_11eb_9230_8c8590b50c4alevel0_row40\" class=\"row_heading level0 row40\" >40</th>\n",
       "                        <td id=\"T_b372aadc_7c75_11eb_9230_8c8590b50c4arow40_col0\" class=\"data row40 col0\" >Remove Multicollinearity</td>\n",
       "                        <td id=\"T_b372aadc_7c75_11eb_9230_8c8590b50c4arow40_col1\" class=\"data row40 col1\" >False</td>\n",
       "            </tr>\n",
       "            <tr>\n",
       "                        <th id=\"T_b372aadc_7c75_11eb_9230_8c8590b50c4alevel0_row41\" class=\"row_heading level0 row41\" >41</th>\n",
       "                        <td id=\"T_b372aadc_7c75_11eb_9230_8c8590b50c4arow41_col0\" class=\"data row41 col0\" >Multicollinearity Threshold</td>\n",
       "                        <td id=\"T_b372aadc_7c75_11eb_9230_8c8590b50c4arow41_col1\" class=\"data row41 col1\" >None</td>\n",
       "            </tr>\n",
       "            <tr>\n",
       "                        <th id=\"T_b372aadc_7c75_11eb_9230_8c8590b50c4alevel0_row42\" class=\"row_heading level0 row42\" >42</th>\n",
       "                        <td id=\"T_b372aadc_7c75_11eb_9230_8c8590b50c4arow42_col0\" class=\"data row42 col0\" >Clustering</td>\n",
       "                        <td id=\"T_b372aadc_7c75_11eb_9230_8c8590b50c4arow42_col1\" class=\"data row42 col1\" >False</td>\n",
       "            </tr>\n",
       "            <tr>\n",
       "                        <th id=\"T_b372aadc_7c75_11eb_9230_8c8590b50c4alevel0_row43\" class=\"row_heading level0 row43\" >43</th>\n",
       "                        <td id=\"T_b372aadc_7c75_11eb_9230_8c8590b50c4arow43_col0\" class=\"data row43 col0\" >Clustering Iteration</td>\n",
       "                        <td id=\"T_b372aadc_7c75_11eb_9230_8c8590b50c4arow43_col1\" class=\"data row43 col1\" >None</td>\n",
       "            </tr>\n",
       "            <tr>\n",
       "                        <th id=\"T_b372aadc_7c75_11eb_9230_8c8590b50c4alevel0_row44\" class=\"row_heading level0 row44\" >44</th>\n",
       "                        <td id=\"T_b372aadc_7c75_11eb_9230_8c8590b50c4arow44_col0\" class=\"data row44 col0\" >Polynomial Features</td>\n",
       "                        <td id=\"T_b372aadc_7c75_11eb_9230_8c8590b50c4arow44_col1\" class=\"data row44 col1\" >False</td>\n",
       "            </tr>\n",
       "            <tr>\n",
       "                        <th id=\"T_b372aadc_7c75_11eb_9230_8c8590b50c4alevel0_row45\" class=\"row_heading level0 row45\" >45</th>\n",
       "                        <td id=\"T_b372aadc_7c75_11eb_9230_8c8590b50c4arow45_col0\" class=\"data row45 col0\" >Polynomial Degree</td>\n",
       "                        <td id=\"T_b372aadc_7c75_11eb_9230_8c8590b50c4arow45_col1\" class=\"data row45 col1\" >None</td>\n",
       "            </tr>\n",
       "            <tr>\n",
       "                        <th id=\"T_b372aadc_7c75_11eb_9230_8c8590b50c4alevel0_row46\" class=\"row_heading level0 row46\" >46</th>\n",
       "                        <td id=\"T_b372aadc_7c75_11eb_9230_8c8590b50c4arow46_col0\" class=\"data row46 col0\" >Trignometry Features</td>\n",
       "                        <td id=\"T_b372aadc_7c75_11eb_9230_8c8590b50c4arow46_col1\" class=\"data row46 col1\" >False</td>\n",
       "            </tr>\n",
       "            <tr>\n",
       "                        <th id=\"T_b372aadc_7c75_11eb_9230_8c8590b50c4alevel0_row47\" class=\"row_heading level0 row47\" >47</th>\n",
       "                        <td id=\"T_b372aadc_7c75_11eb_9230_8c8590b50c4arow47_col0\" class=\"data row47 col0\" >Polynomial Threshold</td>\n",
       "                        <td id=\"T_b372aadc_7c75_11eb_9230_8c8590b50c4arow47_col1\" class=\"data row47 col1\" >None</td>\n",
       "            </tr>\n",
       "            <tr>\n",
       "                        <th id=\"T_b372aadc_7c75_11eb_9230_8c8590b50c4alevel0_row48\" class=\"row_heading level0 row48\" >48</th>\n",
       "                        <td id=\"T_b372aadc_7c75_11eb_9230_8c8590b50c4arow48_col0\" class=\"data row48 col0\" >Group Features</td>\n",
       "                        <td id=\"T_b372aadc_7c75_11eb_9230_8c8590b50c4arow48_col1\" class=\"data row48 col1\" >False</td>\n",
       "            </tr>\n",
       "            <tr>\n",
       "                        <th id=\"T_b372aadc_7c75_11eb_9230_8c8590b50c4alevel0_row49\" class=\"row_heading level0 row49\" >49</th>\n",
       "                        <td id=\"T_b372aadc_7c75_11eb_9230_8c8590b50c4arow49_col0\" class=\"data row49 col0\" >Feature Selection</td>\n",
       "                        <td id=\"T_b372aadc_7c75_11eb_9230_8c8590b50c4arow49_col1\" class=\"data row49 col1\" >False</td>\n",
       "            </tr>\n",
       "            <tr>\n",
       "                        <th id=\"T_b372aadc_7c75_11eb_9230_8c8590b50c4alevel0_row50\" class=\"row_heading level0 row50\" >50</th>\n",
       "                        <td id=\"T_b372aadc_7c75_11eb_9230_8c8590b50c4arow50_col0\" class=\"data row50 col0\" >Feature Selection Method</td>\n",
       "                        <td id=\"T_b372aadc_7c75_11eb_9230_8c8590b50c4arow50_col1\" class=\"data row50 col1\" >classic</td>\n",
       "            </tr>\n",
       "            <tr>\n",
       "                        <th id=\"T_b372aadc_7c75_11eb_9230_8c8590b50c4alevel0_row51\" class=\"row_heading level0 row51\" >51</th>\n",
       "                        <td id=\"T_b372aadc_7c75_11eb_9230_8c8590b50c4arow51_col0\" class=\"data row51 col0\" >Features Selection Threshold</td>\n",
       "                        <td id=\"T_b372aadc_7c75_11eb_9230_8c8590b50c4arow51_col1\" class=\"data row51 col1\" >None</td>\n",
       "            </tr>\n",
       "            <tr>\n",
       "                        <th id=\"T_b372aadc_7c75_11eb_9230_8c8590b50c4alevel0_row52\" class=\"row_heading level0 row52\" >52</th>\n",
       "                        <td id=\"T_b372aadc_7c75_11eb_9230_8c8590b50c4arow52_col0\" class=\"data row52 col0\" >Feature Interaction</td>\n",
       "                        <td id=\"T_b372aadc_7c75_11eb_9230_8c8590b50c4arow52_col1\" class=\"data row52 col1\" >False</td>\n",
       "            </tr>\n",
       "            <tr>\n",
       "                        <th id=\"T_b372aadc_7c75_11eb_9230_8c8590b50c4alevel0_row53\" class=\"row_heading level0 row53\" >53</th>\n",
       "                        <td id=\"T_b372aadc_7c75_11eb_9230_8c8590b50c4arow53_col0\" class=\"data row53 col0\" >Feature Ratio</td>\n",
       "                        <td id=\"T_b372aadc_7c75_11eb_9230_8c8590b50c4arow53_col1\" class=\"data row53 col1\" >False</td>\n",
       "            </tr>\n",
       "            <tr>\n",
       "                        <th id=\"T_b372aadc_7c75_11eb_9230_8c8590b50c4alevel0_row54\" class=\"row_heading level0 row54\" >54</th>\n",
       "                        <td id=\"T_b372aadc_7c75_11eb_9230_8c8590b50c4arow54_col0\" class=\"data row54 col0\" >Interaction Threshold</td>\n",
       "                        <td id=\"T_b372aadc_7c75_11eb_9230_8c8590b50c4arow54_col1\" class=\"data row54 col1\" >None</td>\n",
       "            </tr>\n",
       "            <tr>\n",
       "                        <th id=\"T_b372aadc_7c75_11eb_9230_8c8590b50c4alevel0_row55\" class=\"row_heading level0 row55\" >55</th>\n",
       "                        <td id=\"T_b372aadc_7c75_11eb_9230_8c8590b50c4arow55_col0\" class=\"data row55 col0\" >Transform Target</td>\n",
       "                        <td id=\"T_b372aadc_7c75_11eb_9230_8c8590b50c4arow55_col1\" class=\"data row55 col1\" >False</td>\n",
       "            </tr>\n",
       "            <tr>\n",
       "                        <th id=\"T_b372aadc_7c75_11eb_9230_8c8590b50c4alevel0_row56\" class=\"row_heading level0 row56\" >56</th>\n",
       "                        <td id=\"T_b372aadc_7c75_11eb_9230_8c8590b50c4arow56_col0\" class=\"data row56 col0\" >Transform Target Method</td>\n",
       "                        <td id=\"T_b372aadc_7c75_11eb_9230_8c8590b50c4arow56_col1\" class=\"data row56 col1\" >box-cox</td>\n",
       "            </tr>\n",
       "    </tbody></table>"
      ],
      "text/plain": [
       "<pandas.io.formats.style.Styler at 0x7fe4f3b1ab38>"
      ]
     },
     "metadata": {},
     "output_type": "display_data"
    }
   ],
   "source": [
    "from pycaret.regression import *\n",
    "exp_reg = setup(data = data, target = 'PE', session_id=123)"
   ]
  },
  {
   "cell_type": "code",
   "execution_count": 17,
   "metadata": {},
   "outputs": [
    {
     "data": {
      "text/html": [
       "<style  type=\"text/css\" >\n",
       "    #T_cc44cf2c_7c75_11eb_9230_8c8590b50c4a th {\n",
       "          text-align: left;\n",
       "    }#T_cc44cf2c_7c75_11eb_9230_8c8590b50c4arow0_col0,#T_cc44cf2c_7c75_11eb_9230_8c8590b50c4arow1_col0,#T_cc44cf2c_7c75_11eb_9230_8c8590b50c4arow1_col1,#T_cc44cf2c_7c75_11eb_9230_8c8590b50c4arow1_col2,#T_cc44cf2c_7c75_11eb_9230_8c8590b50c4arow1_col3,#T_cc44cf2c_7c75_11eb_9230_8c8590b50c4arow1_col4,#T_cc44cf2c_7c75_11eb_9230_8c8590b50c4arow1_col5,#T_cc44cf2c_7c75_11eb_9230_8c8590b50c4arow1_col6,#T_cc44cf2c_7c75_11eb_9230_8c8590b50c4arow2_col0,#T_cc44cf2c_7c75_11eb_9230_8c8590b50c4arow2_col1,#T_cc44cf2c_7c75_11eb_9230_8c8590b50c4arow2_col2,#T_cc44cf2c_7c75_11eb_9230_8c8590b50c4arow2_col3,#T_cc44cf2c_7c75_11eb_9230_8c8590b50c4arow2_col4,#T_cc44cf2c_7c75_11eb_9230_8c8590b50c4arow2_col5,#T_cc44cf2c_7c75_11eb_9230_8c8590b50c4arow2_col6,#T_cc44cf2c_7c75_11eb_9230_8c8590b50c4arow3_col0,#T_cc44cf2c_7c75_11eb_9230_8c8590b50c4arow3_col1,#T_cc44cf2c_7c75_11eb_9230_8c8590b50c4arow3_col2,#T_cc44cf2c_7c75_11eb_9230_8c8590b50c4arow3_col3,#T_cc44cf2c_7c75_11eb_9230_8c8590b50c4arow3_col4,#T_cc44cf2c_7c75_11eb_9230_8c8590b50c4arow3_col5,#T_cc44cf2c_7c75_11eb_9230_8c8590b50c4arow3_col6,#T_cc44cf2c_7c75_11eb_9230_8c8590b50c4arow4_col0,#T_cc44cf2c_7c75_11eb_9230_8c8590b50c4arow4_col1,#T_cc44cf2c_7c75_11eb_9230_8c8590b50c4arow4_col2,#T_cc44cf2c_7c75_11eb_9230_8c8590b50c4arow4_col3,#T_cc44cf2c_7c75_11eb_9230_8c8590b50c4arow4_col4,#T_cc44cf2c_7c75_11eb_9230_8c8590b50c4arow4_col5,#T_cc44cf2c_7c75_11eb_9230_8c8590b50c4arow4_col6,#T_cc44cf2c_7c75_11eb_9230_8c8590b50c4arow5_col0,#T_cc44cf2c_7c75_11eb_9230_8c8590b50c4arow5_col1,#T_cc44cf2c_7c75_11eb_9230_8c8590b50c4arow5_col2,#T_cc44cf2c_7c75_11eb_9230_8c8590b50c4arow5_col3,#T_cc44cf2c_7c75_11eb_9230_8c8590b50c4arow5_col4,#T_cc44cf2c_7c75_11eb_9230_8c8590b50c4arow5_col5,#T_cc44cf2c_7c75_11eb_9230_8c8590b50c4arow5_col6,#T_cc44cf2c_7c75_11eb_9230_8c8590b50c4arow6_col0,#T_cc44cf2c_7c75_11eb_9230_8c8590b50c4arow6_col1,#T_cc44cf2c_7c75_11eb_9230_8c8590b50c4arow6_col2,#T_cc44cf2c_7c75_11eb_9230_8c8590b50c4arow6_col3,#T_cc44cf2c_7c75_11eb_9230_8c8590b50c4arow6_col4,#T_cc44cf2c_7c75_11eb_9230_8c8590b50c4arow6_col5,#T_cc44cf2c_7c75_11eb_9230_8c8590b50c4arow6_col6,#T_cc44cf2c_7c75_11eb_9230_8c8590b50c4arow7_col0,#T_cc44cf2c_7c75_11eb_9230_8c8590b50c4arow7_col1,#T_cc44cf2c_7c75_11eb_9230_8c8590b50c4arow7_col2,#T_cc44cf2c_7c75_11eb_9230_8c8590b50c4arow7_col3,#T_cc44cf2c_7c75_11eb_9230_8c8590b50c4arow7_col4,#T_cc44cf2c_7c75_11eb_9230_8c8590b50c4arow7_col5,#T_cc44cf2c_7c75_11eb_9230_8c8590b50c4arow7_col6,#T_cc44cf2c_7c75_11eb_9230_8c8590b50c4arow8_col0,#T_cc44cf2c_7c75_11eb_9230_8c8590b50c4arow8_col1,#T_cc44cf2c_7c75_11eb_9230_8c8590b50c4arow8_col2,#T_cc44cf2c_7c75_11eb_9230_8c8590b50c4arow8_col3,#T_cc44cf2c_7c75_11eb_9230_8c8590b50c4arow8_col4,#T_cc44cf2c_7c75_11eb_9230_8c8590b50c4arow8_col5,#T_cc44cf2c_7c75_11eb_9230_8c8590b50c4arow8_col6,#T_cc44cf2c_7c75_11eb_9230_8c8590b50c4arow9_col0,#T_cc44cf2c_7c75_11eb_9230_8c8590b50c4arow9_col1,#T_cc44cf2c_7c75_11eb_9230_8c8590b50c4arow9_col2,#T_cc44cf2c_7c75_11eb_9230_8c8590b50c4arow9_col3,#T_cc44cf2c_7c75_11eb_9230_8c8590b50c4arow9_col4,#T_cc44cf2c_7c75_11eb_9230_8c8590b50c4arow9_col5,#T_cc44cf2c_7c75_11eb_9230_8c8590b50c4arow9_col6,#T_cc44cf2c_7c75_11eb_9230_8c8590b50c4arow10_col0,#T_cc44cf2c_7c75_11eb_9230_8c8590b50c4arow10_col1,#T_cc44cf2c_7c75_11eb_9230_8c8590b50c4arow10_col2,#T_cc44cf2c_7c75_11eb_9230_8c8590b50c4arow10_col3,#T_cc44cf2c_7c75_11eb_9230_8c8590b50c4arow10_col4,#T_cc44cf2c_7c75_11eb_9230_8c8590b50c4arow10_col5,#T_cc44cf2c_7c75_11eb_9230_8c8590b50c4arow10_col6,#T_cc44cf2c_7c75_11eb_9230_8c8590b50c4arow11_col0,#T_cc44cf2c_7c75_11eb_9230_8c8590b50c4arow11_col1,#T_cc44cf2c_7c75_11eb_9230_8c8590b50c4arow11_col2,#T_cc44cf2c_7c75_11eb_9230_8c8590b50c4arow11_col3,#T_cc44cf2c_7c75_11eb_9230_8c8590b50c4arow11_col4,#T_cc44cf2c_7c75_11eb_9230_8c8590b50c4arow11_col5,#T_cc44cf2c_7c75_11eb_9230_8c8590b50c4arow11_col6,#T_cc44cf2c_7c75_11eb_9230_8c8590b50c4arow12_col0,#T_cc44cf2c_7c75_11eb_9230_8c8590b50c4arow12_col1,#T_cc44cf2c_7c75_11eb_9230_8c8590b50c4arow12_col2,#T_cc44cf2c_7c75_11eb_9230_8c8590b50c4arow12_col3,#T_cc44cf2c_7c75_11eb_9230_8c8590b50c4arow12_col4,#T_cc44cf2c_7c75_11eb_9230_8c8590b50c4arow12_col5,#T_cc44cf2c_7c75_11eb_9230_8c8590b50c4arow12_col6,#T_cc44cf2c_7c75_11eb_9230_8c8590b50c4arow13_col0,#T_cc44cf2c_7c75_11eb_9230_8c8590b50c4arow13_col1,#T_cc44cf2c_7c75_11eb_9230_8c8590b50c4arow13_col2,#T_cc44cf2c_7c75_11eb_9230_8c8590b50c4arow13_col3,#T_cc44cf2c_7c75_11eb_9230_8c8590b50c4arow13_col4,#T_cc44cf2c_7c75_11eb_9230_8c8590b50c4arow13_col5,#T_cc44cf2c_7c75_11eb_9230_8c8590b50c4arow13_col6,#T_cc44cf2c_7c75_11eb_9230_8c8590b50c4arow14_col0,#T_cc44cf2c_7c75_11eb_9230_8c8590b50c4arow14_col1,#T_cc44cf2c_7c75_11eb_9230_8c8590b50c4arow14_col2,#T_cc44cf2c_7c75_11eb_9230_8c8590b50c4arow14_col3,#T_cc44cf2c_7c75_11eb_9230_8c8590b50c4arow14_col4,#T_cc44cf2c_7c75_11eb_9230_8c8590b50c4arow14_col5,#T_cc44cf2c_7c75_11eb_9230_8c8590b50c4arow14_col6,#T_cc44cf2c_7c75_11eb_9230_8c8590b50c4arow15_col0,#T_cc44cf2c_7c75_11eb_9230_8c8590b50c4arow15_col1,#T_cc44cf2c_7c75_11eb_9230_8c8590b50c4arow15_col2,#T_cc44cf2c_7c75_11eb_9230_8c8590b50c4arow15_col3,#T_cc44cf2c_7c75_11eb_9230_8c8590b50c4arow15_col4,#T_cc44cf2c_7c75_11eb_9230_8c8590b50c4arow15_col5,#T_cc44cf2c_7c75_11eb_9230_8c8590b50c4arow15_col6,#T_cc44cf2c_7c75_11eb_9230_8c8590b50c4arow16_col0,#T_cc44cf2c_7c75_11eb_9230_8c8590b50c4arow16_col1,#T_cc44cf2c_7c75_11eb_9230_8c8590b50c4arow16_col2,#T_cc44cf2c_7c75_11eb_9230_8c8590b50c4arow16_col3,#T_cc44cf2c_7c75_11eb_9230_8c8590b50c4arow16_col4,#T_cc44cf2c_7c75_11eb_9230_8c8590b50c4arow16_col5,#T_cc44cf2c_7c75_11eb_9230_8c8590b50c4arow16_col6,#T_cc44cf2c_7c75_11eb_9230_8c8590b50c4arow17_col0,#T_cc44cf2c_7c75_11eb_9230_8c8590b50c4arow17_col1,#T_cc44cf2c_7c75_11eb_9230_8c8590b50c4arow17_col2,#T_cc44cf2c_7c75_11eb_9230_8c8590b50c4arow17_col3,#T_cc44cf2c_7c75_11eb_9230_8c8590b50c4arow17_col4,#T_cc44cf2c_7c75_11eb_9230_8c8590b50c4arow17_col5,#T_cc44cf2c_7c75_11eb_9230_8c8590b50c4arow17_col6{\n",
       "            text-align:  left;\n",
       "            text-align:  left;\n",
       "        }#T_cc44cf2c_7c75_11eb_9230_8c8590b50c4arow0_col1,#T_cc44cf2c_7c75_11eb_9230_8c8590b50c4arow0_col2,#T_cc44cf2c_7c75_11eb_9230_8c8590b50c4arow0_col3,#T_cc44cf2c_7c75_11eb_9230_8c8590b50c4arow0_col4,#T_cc44cf2c_7c75_11eb_9230_8c8590b50c4arow0_col5,#T_cc44cf2c_7c75_11eb_9230_8c8590b50c4arow0_col6{\n",
       "            text-align:  left;\n",
       "            text-align:  left;\n",
       "            background-color:  yellow;\n",
       "        }#T_cc44cf2c_7c75_11eb_9230_8c8590b50c4arow0_col7,#T_cc44cf2c_7c75_11eb_9230_8c8590b50c4arow1_col7,#T_cc44cf2c_7c75_11eb_9230_8c8590b50c4arow2_col7,#T_cc44cf2c_7c75_11eb_9230_8c8590b50c4arow3_col7,#T_cc44cf2c_7c75_11eb_9230_8c8590b50c4arow4_col7,#T_cc44cf2c_7c75_11eb_9230_8c8590b50c4arow5_col7,#T_cc44cf2c_7c75_11eb_9230_8c8590b50c4arow6_col7,#T_cc44cf2c_7c75_11eb_9230_8c8590b50c4arow7_col7,#T_cc44cf2c_7c75_11eb_9230_8c8590b50c4arow8_col7,#T_cc44cf2c_7c75_11eb_9230_8c8590b50c4arow9_col7,#T_cc44cf2c_7c75_11eb_9230_8c8590b50c4arow10_col7,#T_cc44cf2c_7c75_11eb_9230_8c8590b50c4arow11_col7,#T_cc44cf2c_7c75_11eb_9230_8c8590b50c4arow12_col7,#T_cc44cf2c_7c75_11eb_9230_8c8590b50c4arow13_col7,#T_cc44cf2c_7c75_11eb_9230_8c8590b50c4arow14_col7,#T_cc44cf2c_7c75_11eb_9230_8c8590b50c4arow16_col7,#T_cc44cf2c_7c75_11eb_9230_8c8590b50c4arow17_col7{\n",
       "            text-align:  left;\n",
       "            text-align:  left;\n",
       "            background-color:  lightgrey;\n",
       "        }#T_cc44cf2c_7c75_11eb_9230_8c8590b50c4arow15_col7{\n",
       "            text-align:  left;\n",
       "            text-align:  left;\n",
       "            background-color:  yellow;\n",
       "            background-color:  lightgrey;\n",
       "        }</style><table id=\"T_cc44cf2c_7c75_11eb_9230_8c8590b50c4a\" ><thead>    <tr>        <th class=\"blank level0\" ></th>        <th class=\"col_heading level0 col0\" >Model</th>        <th class=\"col_heading level0 col1\" >MAE</th>        <th class=\"col_heading level0 col2\" >MSE</th>        <th class=\"col_heading level0 col3\" >RMSE</th>        <th class=\"col_heading level0 col4\" >R2</th>        <th class=\"col_heading level0 col5\" >RMSLE</th>        <th class=\"col_heading level0 col6\" >MAPE</th>        <th class=\"col_heading level0 col7\" >TT (Sec)</th>    </tr></thead><tbody>\n",
       "                <tr>\n",
       "                        <th id=\"T_cc44cf2c_7c75_11eb_9230_8c8590b50c4alevel0_row0\" class=\"row_heading level0 row0\" >xgboost</th>\n",
       "                        <td id=\"T_cc44cf2c_7c75_11eb_9230_8c8590b50c4arow0_col0\" class=\"data row0 col0\" >Extreme Gradient Boosting</td>\n",
       "                        <td id=\"T_cc44cf2c_7c75_11eb_9230_8c8590b50c4arow0_col1\" class=\"data row0 col1\" >2.4108</td>\n",
       "                        <td id=\"T_cc44cf2c_7c75_11eb_9230_8c8590b50c4arow0_col2\" class=\"data row0 col2\" >11.4715</td>\n",
       "                        <td id=\"T_cc44cf2c_7c75_11eb_9230_8c8590b50c4arow0_col3\" class=\"data row0 col3\" >3.3687</td>\n",
       "                        <td id=\"T_cc44cf2c_7c75_11eb_9230_8c8590b50c4arow0_col4\" class=\"data row0 col4\" >0.9603</td>\n",
       "                        <td id=\"T_cc44cf2c_7c75_11eb_9230_8c8590b50c4arow0_col5\" class=\"data row0 col5\" >0.0074</td>\n",
       "                        <td id=\"T_cc44cf2c_7c75_11eb_9230_8c8590b50c4arow0_col6\" class=\"data row0 col6\" >0.0053</td>\n",
       "                        <td id=\"T_cc44cf2c_7c75_11eb_9230_8c8590b50c4arow0_col7\" class=\"data row0 col7\" >0.5240</td>\n",
       "            </tr>\n",
       "            <tr>\n",
       "                        <th id=\"T_cc44cf2c_7c75_11eb_9230_8c8590b50c4alevel0_row1\" class=\"row_heading level0 row1\" >lightgbm</th>\n",
       "                        <td id=\"T_cc44cf2c_7c75_11eb_9230_8c8590b50c4arow1_col0\" class=\"data row1 col0\" >Light Gradient Boosting Machine</td>\n",
       "                        <td id=\"T_cc44cf2c_7c75_11eb_9230_8c8590b50c4arow1_col1\" class=\"data row1 col1\" >2.5896</td>\n",
       "                        <td id=\"T_cc44cf2c_7c75_11eb_9230_8c8590b50c4arow1_col2\" class=\"data row1 col2\" >12.6481</td>\n",
       "                        <td id=\"T_cc44cf2c_7c75_11eb_9230_8c8590b50c4arow1_col3\" class=\"data row1 col3\" >3.5436</td>\n",
       "                        <td id=\"T_cc44cf2c_7c75_11eb_9230_8c8590b50c4arow1_col4\" class=\"data row1 col4\" >0.9562</td>\n",
       "                        <td id=\"T_cc44cf2c_7c75_11eb_9230_8c8590b50c4arow1_col5\" class=\"data row1 col5\" >0.0078</td>\n",
       "                        <td id=\"T_cc44cf2c_7c75_11eb_9230_8c8590b50c4arow1_col6\" class=\"data row1 col6\" >0.0057</td>\n",
       "                        <td id=\"T_cc44cf2c_7c75_11eb_9230_8c8590b50c4arow1_col7\" class=\"data row1 col7\" >0.2930</td>\n",
       "            </tr>\n",
       "            <tr>\n",
       "                        <th id=\"T_cc44cf2c_7c75_11eb_9230_8c8590b50c4alevel0_row2\" class=\"row_heading level0 row2\" >rf</th>\n",
       "                        <td id=\"T_cc44cf2c_7c75_11eb_9230_8c8590b50c4arow2_col0\" class=\"data row2 col0\" >Random Forest Regressor</td>\n",
       "                        <td id=\"T_cc44cf2c_7c75_11eb_9230_8c8590b50c4arow2_col1\" class=\"data row2 col1\" >2.5640</td>\n",
       "                        <td id=\"T_cc44cf2c_7c75_11eb_9230_8c8590b50c4arow2_col2\" class=\"data row2 col2\" >12.8741</td>\n",
       "                        <td id=\"T_cc44cf2c_7c75_11eb_9230_8c8590b50c4arow2_col3\" class=\"data row2 col3\" >3.5780</td>\n",
       "                        <td id=\"T_cc44cf2c_7c75_11eb_9230_8c8590b50c4arow2_col4\" class=\"data row2 col4\" >0.9554</td>\n",
       "                        <td id=\"T_cc44cf2c_7c75_11eb_9230_8c8590b50c4arow2_col5\" class=\"data row2 col5\" >0.0078</td>\n",
       "                        <td id=\"T_cc44cf2c_7c75_11eb_9230_8c8590b50c4arow2_col6\" class=\"data row2 col6\" >0.0057</td>\n",
       "                        <td id=\"T_cc44cf2c_7c75_11eb_9230_8c8590b50c4arow2_col7\" class=\"data row2 col7\" >0.6770</td>\n",
       "            </tr>\n",
       "            <tr>\n",
       "                        <th id=\"T_cc44cf2c_7c75_11eb_9230_8c8590b50c4alevel0_row3\" class=\"row_heading level0 row3\" >et</th>\n",
       "                        <td id=\"T_cc44cf2c_7c75_11eb_9230_8c8590b50c4arow3_col0\" class=\"data row3 col0\" >Extra Trees Regressor</td>\n",
       "                        <td id=\"T_cc44cf2c_7c75_11eb_9230_8c8590b50c4arow3_col1\" class=\"data row3 col1\" >2.5238</td>\n",
       "                        <td id=\"T_cc44cf2c_7c75_11eb_9230_8c8590b50c4arow3_col2\" class=\"data row3 col2\" >13.0291</td>\n",
       "                        <td id=\"T_cc44cf2c_7c75_11eb_9230_8c8590b50c4arow3_col3\" class=\"data row3 col3\" >3.5983</td>\n",
       "                        <td id=\"T_cc44cf2c_7c75_11eb_9230_8c8590b50c4arow3_col4\" class=\"data row3 col4\" >0.9549</td>\n",
       "                        <td id=\"T_cc44cf2c_7c75_11eb_9230_8c8590b50c4arow3_col5\" class=\"data row3 col5\" >0.0079</td>\n",
       "                        <td id=\"T_cc44cf2c_7c75_11eb_9230_8c8590b50c4arow3_col6\" class=\"data row3 col6\" >0.0056</td>\n",
       "                        <td id=\"T_cc44cf2c_7c75_11eb_9230_8c8590b50c4arow3_col7\" class=\"data row3 col7\" >0.4670</td>\n",
       "            </tr>\n",
       "            <tr>\n",
       "                        <th id=\"T_cc44cf2c_7c75_11eb_9230_8c8590b50c4alevel0_row4\" class=\"row_heading level0 row4\" >gbr</th>\n",
       "                        <td id=\"T_cc44cf2c_7c75_11eb_9230_8c8590b50c4arow4_col0\" class=\"data row4 col0\" >Gradient Boosting Regressor</td>\n",
       "                        <td id=\"T_cc44cf2c_7c75_11eb_9230_8c8590b50c4arow4_col1\" class=\"data row4 col1\" >3.0199</td>\n",
       "                        <td id=\"T_cc44cf2c_7c75_11eb_9230_8c8590b50c4arow4_col2\" class=\"data row4 col2\" >16.0384</td>\n",
       "                        <td id=\"T_cc44cf2c_7c75_11eb_9230_8c8590b50c4arow4_col3\" class=\"data row4 col3\" >3.9955</td>\n",
       "                        <td id=\"T_cc44cf2c_7c75_11eb_9230_8c8590b50c4arow4_col4\" class=\"data row4 col4\" >0.9445</td>\n",
       "                        <td id=\"T_cc44cf2c_7c75_11eb_9230_8c8590b50c4arow4_col5\" class=\"data row4 col5\" >0.0088</td>\n",
       "                        <td id=\"T_cc44cf2c_7c75_11eb_9230_8c8590b50c4arow4_col6\" class=\"data row4 col6\" >0.0067</td>\n",
       "                        <td id=\"T_cc44cf2c_7c75_11eb_9230_8c8590b50c4arow4_col7\" class=\"data row4 col7\" >0.1930</td>\n",
       "            </tr>\n",
       "            <tr>\n",
       "                        <th id=\"T_cc44cf2c_7c75_11eb_9230_8c8590b50c4alevel0_row5\" class=\"row_heading level0 row5\" >knn</th>\n",
       "                        <td id=\"T_cc44cf2c_7c75_11eb_9230_8c8590b50c4arow5_col0\" class=\"data row5 col0\" >K Neighbors Regressor</td>\n",
       "                        <td id=\"T_cc44cf2c_7c75_11eb_9230_8c8590b50c4arow5_col1\" class=\"data row5 col1\" >3.1116</td>\n",
       "                        <td id=\"T_cc44cf2c_7c75_11eb_9230_8c8590b50c4arow5_col2\" class=\"data row5 col2\" >17.8972</td>\n",
       "                        <td id=\"T_cc44cf2c_7c75_11eb_9230_8c8590b50c4arow5_col3\" class=\"data row5 col3\" >4.2247</td>\n",
       "                        <td id=\"T_cc44cf2c_7c75_11eb_9230_8c8590b50c4arow5_col4\" class=\"data row5 col4\" >0.9380</td>\n",
       "                        <td id=\"T_cc44cf2c_7c75_11eb_9230_8c8590b50c4arow5_col5\" class=\"data row5 col5\" >0.0093</td>\n",
       "                        <td id=\"T_cc44cf2c_7c75_11eb_9230_8c8590b50c4arow5_col6\" class=\"data row5 col6\" >0.0069</td>\n",
       "                        <td id=\"T_cc44cf2c_7c75_11eb_9230_8c8590b50c4arow5_col7\" class=\"data row5 col7\" >0.0390</td>\n",
       "            </tr>\n",
       "            <tr>\n",
       "                        <th id=\"T_cc44cf2c_7c75_11eb_9230_8c8590b50c4alevel0_row6\" class=\"row_heading level0 row6\" >lr</th>\n",
       "                        <td id=\"T_cc44cf2c_7c75_11eb_9230_8c8590b50c4arow6_col0\" class=\"data row6 col0\" >Linear Regression</td>\n",
       "                        <td id=\"T_cc44cf2c_7c75_11eb_9230_8c8590b50c4arow6_col1\" class=\"data row6 col1\" >3.6357</td>\n",
       "                        <td id=\"T_cc44cf2c_7c75_11eb_9230_8c8590b50c4arow6_col2\" class=\"data row6 col2\" >21.1994</td>\n",
       "                        <td id=\"T_cc44cf2c_7c75_11eb_9230_8c8590b50c4arow6_col3\" class=\"data row6 col3\" >4.5986</td>\n",
       "                        <td id=\"T_cc44cf2c_7c75_11eb_9230_8c8590b50c4arow6_col4\" class=\"data row6 col4\" >0.9266</td>\n",
       "                        <td id=\"T_cc44cf2c_7c75_11eb_9230_8c8590b50c4arow6_col5\" class=\"data row6 col5\" >0.0101</td>\n",
       "                        <td id=\"T_cc44cf2c_7c75_11eb_9230_8c8590b50c4arow6_col6\" class=\"data row6 col6\" >0.0080</td>\n",
       "                        <td id=\"T_cc44cf2c_7c75_11eb_9230_8c8590b50c4arow6_col7\" class=\"data row6 col7\" >0.6720</td>\n",
       "            </tr>\n",
       "            <tr>\n",
       "                        <th id=\"T_cc44cf2c_7c75_11eb_9230_8c8590b50c4alevel0_row7\" class=\"row_heading level0 row7\" >ridge</th>\n",
       "                        <td id=\"T_cc44cf2c_7c75_11eb_9230_8c8590b50c4arow7_col0\" class=\"data row7 col0\" >Ridge Regression</td>\n",
       "                        <td id=\"T_cc44cf2c_7c75_11eb_9230_8c8590b50c4arow7_col1\" class=\"data row7 col1\" >3.6357</td>\n",
       "                        <td id=\"T_cc44cf2c_7c75_11eb_9230_8c8590b50c4arow7_col2\" class=\"data row7 col2\" >21.1994</td>\n",
       "                        <td id=\"T_cc44cf2c_7c75_11eb_9230_8c8590b50c4arow7_col3\" class=\"data row7 col3\" >4.5986</td>\n",
       "                        <td id=\"T_cc44cf2c_7c75_11eb_9230_8c8590b50c4arow7_col4\" class=\"data row7 col4\" >0.9266</td>\n",
       "                        <td id=\"T_cc44cf2c_7c75_11eb_9230_8c8590b50c4arow7_col5\" class=\"data row7 col5\" >0.0101</td>\n",
       "                        <td id=\"T_cc44cf2c_7c75_11eb_9230_8c8590b50c4arow7_col6\" class=\"data row7 col6\" >0.0080</td>\n",
       "                        <td id=\"T_cc44cf2c_7c75_11eb_9230_8c8590b50c4arow7_col7\" class=\"data row7 col7\" >0.0160</td>\n",
       "            </tr>\n",
       "            <tr>\n",
       "                        <th id=\"T_cc44cf2c_7c75_11eb_9230_8c8590b50c4alevel0_row8\" class=\"row_heading level0 row8\" >lar</th>\n",
       "                        <td id=\"T_cc44cf2c_7c75_11eb_9230_8c8590b50c4arow8_col0\" class=\"data row8 col0\" >Least Angle Regression</td>\n",
       "                        <td id=\"T_cc44cf2c_7c75_11eb_9230_8c8590b50c4arow8_col1\" class=\"data row8 col1\" >3.6357</td>\n",
       "                        <td id=\"T_cc44cf2c_7c75_11eb_9230_8c8590b50c4arow8_col2\" class=\"data row8 col2\" >21.1994</td>\n",
       "                        <td id=\"T_cc44cf2c_7c75_11eb_9230_8c8590b50c4arow8_col3\" class=\"data row8 col3\" >4.5986</td>\n",
       "                        <td id=\"T_cc44cf2c_7c75_11eb_9230_8c8590b50c4arow8_col4\" class=\"data row8 col4\" >0.9266</td>\n",
       "                        <td id=\"T_cc44cf2c_7c75_11eb_9230_8c8590b50c4arow8_col5\" class=\"data row8 col5\" >0.0101</td>\n",
       "                        <td id=\"T_cc44cf2c_7c75_11eb_9230_8c8590b50c4arow8_col6\" class=\"data row8 col6\" >0.0080</td>\n",
       "                        <td id=\"T_cc44cf2c_7c75_11eb_9230_8c8590b50c4arow8_col7\" class=\"data row8 col7\" >0.0160</td>\n",
       "            </tr>\n",
       "            <tr>\n",
       "                        <th id=\"T_cc44cf2c_7c75_11eb_9230_8c8590b50c4alevel0_row9\" class=\"row_heading level0 row9\" >br</th>\n",
       "                        <td id=\"T_cc44cf2c_7c75_11eb_9230_8c8590b50c4arow9_col0\" class=\"data row9 col0\" >Bayesian Ridge</td>\n",
       "                        <td id=\"T_cc44cf2c_7c75_11eb_9230_8c8590b50c4arow9_col1\" class=\"data row9 col1\" >3.6358</td>\n",
       "                        <td id=\"T_cc44cf2c_7c75_11eb_9230_8c8590b50c4arow9_col2\" class=\"data row9 col2\" >21.1994</td>\n",
       "                        <td id=\"T_cc44cf2c_7c75_11eb_9230_8c8590b50c4arow9_col3\" class=\"data row9 col3\" >4.5986</td>\n",
       "                        <td id=\"T_cc44cf2c_7c75_11eb_9230_8c8590b50c4arow9_col4\" class=\"data row9 col4\" >0.9266</td>\n",
       "                        <td id=\"T_cc44cf2c_7c75_11eb_9230_8c8590b50c4arow9_col5\" class=\"data row9 col5\" >0.0101</td>\n",
       "                        <td id=\"T_cc44cf2c_7c75_11eb_9230_8c8590b50c4arow9_col6\" class=\"data row9 col6\" >0.0080</td>\n",
       "                        <td id=\"T_cc44cf2c_7c75_11eb_9230_8c8590b50c4arow9_col7\" class=\"data row9 col7\" >0.0140</td>\n",
       "            </tr>\n",
       "            <tr>\n",
       "                        <th id=\"T_cc44cf2c_7c75_11eb_9230_8c8590b50c4alevel0_row10\" class=\"row_heading level0 row10\" >lasso</th>\n",
       "                        <td id=\"T_cc44cf2c_7c75_11eb_9230_8c8590b50c4arow10_col0\" class=\"data row10 col0\" >Lasso Regression</td>\n",
       "                        <td id=\"T_cc44cf2c_7c75_11eb_9230_8c8590b50c4arow10_col1\" class=\"data row10 col1\" >3.6453</td>\n",
       "                        <td id=\"T_cc44cf2c_7c75_11eb_9230_8c8590b50c4arow10_col2\" class=\"data row10 col2\" >21.2647</td>\n",
       "                        <td id=\"T_cc44cf2c_7c75_11eb_9230_8c8590b50c4arow10_col3\" class=\"data row10 col3\" >4.6057</td>\n",
       "                        <td id=\"T_cc44cf2c_7c75_11eb_9230_8c8590b50c4arow10_col4\" class=\"data row10 col4\" >0.9264</td>\n",
       "                        <td id=\"T_cc44cf2c_7c75_11eb_9230_8c8590b50c4arow10_col5\" class=\"data row10 col5\" >0.0101</td>\n",
       "                        <td id=\"T_cc44cf2c_7c75_11eb_9230_8c8590b50c4arow10_col6\" class=\"data row10 col6\" >0.0080</td>\n",
       "                        <td id=\"T_cc44cf2c_7c75_11eb_9230_8c8590b50c4arow10_col7\" class=\"data row10 col7\" >0.0150</td>\n",
       "            </tr>\n",
       "            <tr>\n",
       "                        <th id=\"T_cc44cf2c_7c75_11eb_9230_8c8590b50c4alevel0_row11\" class=\"row_heading level0 row11\" >en</th>\n",
       "                        <td id=\"T_cc44cf2c_7c75_11eb_9230_8c8590b50c4arow11_col0\" class=\"data row11 col0\" >Elastic Net</td>\n",
       "                        <td id=\"T_cc44cf2c_7c75_11eb_9230_8c8590b50c4arow11_col1\" class=\"data row11 col1\" >3.6601</td>\n",
       "                        <td id=\"T_cc44cf2c_7c75_11eb_9230_8c8590b50c4arow11_col2\" class=\"data row11 col2\" >21.3479</td>\n",
       "                        <td id=\"T_cc44cf2c_7c75_11eb_9230_8c8590b50c4arow11_col3\" class=\"data row11 col3\" >4.6148</td>\n",
       "                        <td id=\"T_cc44cf2c_7c75_11eb_9230_8c8590b50c4arow11_col4\" class=\"data row11 col4\" >0.9261</td>\n",
       "                        <td id=\"T_cc44cf2c_7c75_11eb_9230_8c8590b50c4arow11_col5\" class=\"data row11 col5\" >0.0101</td>\n",
       "                        <td id=\"T_cc44cf2c_7c75_11eb_9230_8c8590b50c4arow11_col6\" class=\"data row11 col6\" >0.0081</td>\n",
       "                        <td id=\"T_cc44cf2c_7c75_11eb_9230_8c8590b50c4arow11_col7\" class=\"data row11 col7\" >0.0140</td>\n",
       "            </tr>\n",
       "            <tr>\n",
       "                        <th id=\"T_cc44cf2c_7c75_11eb_9230_8c8590b50c4alevel0_row12\" class=\"row_heading level0 row12\" >dt</th>\n",
       "                        <td id=\"T_cc44cf2c_7c75_11eb_9230_8c8590b50c4arow12_col0\" class=\"data row12 col0\" >Decision Tree Regressor</td>\n",
       "                        <td id=\"T_cc44cf2c_7c75_11eb_9230_8c8590b50c4arow12_col1\" class=\"data row12 col1\" >3.2883</td>\n",
       "                        <td id=\"T_cc44cf2c_7c75_11eb_9230_8c8590b50c4arow12_col2\" class=\"data row12 col2\" >23.7333</td>\n",
       "                        <td id=\"T_cc44cf2c_7c75_11eb_9230_8c8590b50c4arow12_col3\" class=\"data row12 col3\" >4.8629</td>\n",
       "                        <td id=\"T_cc44cf2c_7c75_11eb_9230_8c8590b50c4arow12_col4\" class=\"data row12 col4\" >0.9180</td>\n",
       "                        <td id=\"T_cc44cf2c_7c75_11eb_9230_8c8590b50c4arow12_col5\" class=\"data row12 col5\" >0.0107</td>\n",
       "                        <td id=\"T_cc44cf2c_7c75_11eb_9230_8c8590b50c4arow12_col6\" class=\"data row12 col6\" >0.0073</td>\n",
       "                        <td id=\"T_cc44cf2c_7c75_11eb_9230_8c8590b50c4arow12_col7\" class=\"data row12 col7\" >0.0210</td>\n",
       "            </tr>\n",
       "            <tr>\n",
       "                        <th id=\"T_cc44cf2c_7c75_11eb_9230_8c8590b50c4alevel0_row13\" class=\"row_heading level0 row13\" >huber</th>\n",
       "                        <td id=\"T_cc44cf2c_7c75_11eb_9230_8c8590b50c4arow13_col0\" class=\"data row13 col0\" >Huber Regressor</td>\n",
       "                        <td id=\"T_cc44cf2c_7c75_11eb_9230_8c8590b50c4arow13_col1\" class=\"data row13 col1\" >3.9427</td>\n",
       "                        <td id=\"T_cc44cf2c_7c75_11eb_9230_8c8590b50c4arow13_col2\" class=\"data row13 col2\" >24.9157</td>\n",
       "                        <td id=\"T_cc44cf2c_7c75_11eb_9230_8c8590b50c4arow13_col3\" class=\"data row13 col3\" >4.9853</td>\n",
       "                        <td id=\"T_cc44cf2c_7c75_11eb_9230_8c8590b50c4arow13_col4\" class=\"data row13 col4\" >0.9138</td>\n",
       "                        <td id=\"T_cc44cf2c_7c75_11eb_9230_8c8590b50c4arow13_col5\" class=\"data row13 col5\" >0.0109</td>\n",
       "                        <td id=\"T_cc44cf2c_7c75_11eb_9230_8c8590b50c4arow13_col6\" class=\"data row13 col6\" >0.0087</td>\n",
       "                        <td id=\"T_cc44cf2c_7c75_11eb_9230_8c8590b50c4arow13_col7\" class=\"data row13 col7\" >0.0540</td>\n",
       "            </tr>\n",
       "            <tr>\n",
       "                        <th id=\"T_cc44cf2c_7c75_11eb_9230_8c8590b50c4alevel0_row14\" class=\"row_heading level0 row14\" >ada</th>\n",
       "                        <td id=\"T_cc44cf2c_7c75_11eb_9230_8c8590b50c4arow14_col0\" class=\"data row14 col0\" >AdaBoost Regressor</td>\n",
       "                        <td id=\"T_cc44cf2c_7c75_11eb_9230_8c8590b50c4arow14_col1\" class=\"data row14 col1\" >4.1562</td>\n",
       "                        <td id=\"T_cc44cf2c_7c75_11eb_9230_8c8590b50c4arow14_col2\" class=\"data row14 col2\" >28.0574</td>\n",
       "                        <td id=\"T_cc44cf2c_7c75_11eb_9230_8c8590b50c4arow14_col3\" class=\"data row14 col3\" >5.2954</td>\n",
       "                        <td id=\"T_cc44cf2c_7c75_11eb_9230_8c8590b50c4arow14_col4\" class=\"data row14 col4\" >0.9029</td>\n",
       "                        <td id=\"T_cc44cf2c_7c75_11eb_9230_8c8590b50c4arow14_col5\" class=\"data row14 col5\" >0.0115</td>\n",
       "                        <td id=\"T_cc44cf2c_7c75_11eb_9230_8c8590b50c4arow14_col6\" class=\"data row14 col6\" >0.0091</td>\n",
       "                        <td id=\"T_cc44cf2c_7c75_11eb_9230_8c8590b50c4arow14_col7\" class=\"data row14 col7\" >0.1020</td>\n",
       "            </tr>\n",
       "            <tr>\n",
       "                        <th id=\"T_cc44cf2c_7c75_11eb_9230_8c8590b50c4alevel0_row15\" class=\"row_heading level0 row15\" >omp</th>\n",
       "                        <td id=\"T_cc44cf2c_7c75_11eb_9230_8c8590b50c4arow15_col0\" class=\"data row15 col0\" >Orthogonal Matching Pursuit</td>\n",
       "                        <td id=\"T_cc44cf2c_7c75_11eb_9230_8c8590b50c4arow15_col1\" class=\"data row15 col1\" >4.3160</td>\n",
       "                        <td id=\"T_cc44cf2c_7c75_11eb_9230_8c8590b50c4arow15_col2\" class=\"data row15 col2\" >30.0683</td>\n",
       "                        <td id=\"T_cc44cf2c_7c75_11eb_9230_8c8590b50c4arow15_col3\" class=\"data row15 col3\" >5.4781</td>\n",
       "                        <td id=\"T_cc44cf2c_7c75_11eb_9230_8c8590b50c4arow15_col4\" class=\"data row15 col4\" >0.8959</td>\n",
       "                        <td id=\"T_cc44cf2c_7c75_11eb_9230_8c8590b50c4arow15_col5\" class=\"data row15 col5\" >0.0121</td>\n",
       "                        <td id=\"T_cc44cf2c_7c75_11eb_9230_8c8590b50c4arow15_col6\" class=\"data row15 col6\" >0.0096</td>\n",
       "                        <td id=\"T_cc44cf2c_7c75_11eb_9230_8c8590b50c4arow15_col7\" class=\"data row15 col7\" >0.0100</td>\n",
       "            </tr>\n",
       "            <tr>\n",
       "                        <th id=\"T_cc44cf2c_7c75_11eb_9230_8c8590b50c4alevel0_row16\" class=\"row_heading level0 row16\" >par</th>\n",
       "                        <td id=\"T_cc44cf2c_7c75_11eb_9230_8c8590b50c4arow16_col0\" class=\"data row16 col0\" >Passive Aggressive Regressor</td>\n",
       "                        <td id=\"T_cc44cf2c_7c75_11eb_9230_8c8590b50c4arow16_col1\" class=\"data row16 col1\" >5.5804</td>\n",
       "                        <td id=\"T_cc44cf2c_7c75_11eb_9230_8c8590b50c4arow16_col2\" class=\"data row16 col2\" >49.1639</td>\n",
       "                        <td id=\"T_cc44cf2c_7c75_11eb_9230_8c8590b50c4arow16_col3\" class=\"data row16 col3\" >6.7698</td>\n",
       "                        <td id=\"T_cc44cf2c_7c75_11eb_9230_8c8590b50c4arow16_col4\" class=\"data row16 col4\" >0.8295</td>\n",
       "                        <td id=\"T_cc44cf2c_7c75_11eb_9230_8c8590b50c4arow16_col5\" class=\"data row16 col5\" >0.0148</td>\n",
       "                        <td id=\"T_cc44cf2c_7c75_11eb_9230_8c8590b50c4arow16_col6\" class=\"data row16 col6\" >0.0123</td>\n",
       "                        <td id=\"T_cc44cf2c_7c75_11eb_9230_8c8590b50c4arow16_col7\" class=\"data row16 col7\" >0.0180</td>\n",
       "            </tr>\n",
       "            <tr>\n",
       "                        <th id=\"T_cc44cf2c_7c75_11eb_9230_8c8590b50c4alevel0_row17\" class=\"row_heading level0 row17\" >llar</th>\n",
       "                        <td id=\"T_cc44cf2c_7c75_11eb_9230_8c8590b50c4arow17_col0\" class=\"data row17 col0\" >Lasso Least Angle Regression</td>\n",
       "                        <td id=\"T_cc44cf2c_7c75_11eb_9230_8c8590b50c4arow17_col1\" class=\"data row17 col1\" >14.7724</td>\n",
       "                        <td id=\"T_cc44cf2c_7c75_11eb_9230_8c8590b50c4arow17_col2\" class=\"data row17 col2\" >289.4375</td>\n",
       "                        <td id=\"T_cc44cf2c_7c75_11eb_9230_8c8590b50c4arow17_col3\" class=\"data row17 col3\" >17.0119</td>\n",
       "                        <td id=\"T_cc44cf2c_7c75_11eb_9230_8c8590b50c4arow17_col4\" class=\"data row17 col4\" >-0.0010</td>\n",
       "                        <td id=\"T_cc44cf2c_7c75_11eb_9230_8c8590b50c4arow17_col5\" class=\"data row17 col5\" >0.0372</td>\n",
       "                        <td id=\"T_cc44cf2c_7c75_11eb_9230_8c8590b50c4arow17_col6\" class=\"data row17 col6\" >0.0324</td>\n",
       "                        <td id=\"T_cc44cf2c_7c75_11eb_9230_8c8590b50c4arow17_col7\" class=\"data row17 col7\" >0.0120</td>\n",
       "            </tr>\n",
       "    </tbody></table>"
      ],
      "text/plain": [
       "<pandas.io.formats.style.Styler at 0x7fe4f3acd668>"
      ]
     },
     "metadata": {},
     "output_type": "display_data"
    }
   ],
   "source": [
    "## Training all models on the current dataset to determine the best model\n",
    "\n",
    "best = compare_models(exclude = ['ransac'])"
   ]
  },
  {
   "cell_type": "code",
   "execution_count": 42,
   "metadata": {},
   "outputs": [
    {
     "name": "stdout",
     "output_type": "stream",
     "text": [
      "Collecting xgboost\n",
      "  Using cached xgboost-1.3.3-py3-none-macosx_10_14_x86_64.macosx_10_15_x86_64.macosx_11_0_x86_64.whl (1.2 MB)\n",
      "Requirement already satisfied: scipy in ./anaconda3/lib/python3.7/site-packages (from xgboost) (1.5.2)\n",
      "Requirement already satisfied: numpy in ./anaconda3/lib/python3.7/site-packages (from xgboost) (1.19.5)\n",
      "Installing collected packages: xgboost\n",
      "Successfully installed xgboost-1.3.3\n",
      "Note: you may need to restart the kernel to use updated packages.\n"
     ]
    }
   ],
   "source": [
    "pip install xgboost"
   ]
  },
  {
   "cell_type": "code",
   "execution_count": 18,
   "metadata": {},
   "outputs": [
    {
     "data": {
      "text/html": [
       "<div>\n",
       "<style scoped>\n",
       "    .dataframe tbody tr th:only-of-type {\n",
       "        vertical-align: middle;\n",
       "    }\n",
       "\n",
       "    .dataframe tbody tr th {\n",
       "        vertical-align: top;\n",
       "    }\n",
       "\n",
       "    .dataframe thead th {\n",
       "        text-align: right;\n",
       "    }\n",
       "</style>\n",
       "<table border=\"1\" class=\"dataframe\">\n",
       "  <thead>\n",
       "    <tr style=\"text-align: right;\">\n",
       "      <th></th>\n",
       "      <th>Name</th>\n",
       "      <th>Reference</th>\n",
       "      <th>Turbo</th>\n",
       "    </tr>\n",
       "    <tr>\n",
       "      <th>ID</th>\n",
       "      <th></th>\n",
       "      <th></th>\n",
       "      <th></th>\n",
       "    </tr>\n",
       "  </thead>\n",
       "  <tbody>\n",
       "    <tr>\n",
       "      <th>lr</th>\n",
       "      <td>Linear Regression</td>\n",
       "      <td>sklearn.linear_model._base.LinearRegression</td>\n",
       "      <td>True</td>\n",
       "    </tr>\n",
       "    <tr>\n",
       "      <th>lasso</th>\n",
       "      <td>Lasso Regression</td>\n",
       "      <td>sklearn.linear_model._coordinate_descent.Lasso</td>\n",
       "      <td>True</td>\n",
       "    </tr>\n",
       "    <tr>\n",
       "      <th>ridge</th>\n",
       "      <td>Ridge Regression</td>\n",
       "      <td>sklearn.linear_model._ridge.Ridge</td>\n",
       "      <td>True</td>\n",
       "    </tr>\n",
       "    <tr>\n",
       "      <th>en</th>\n",
       "      <td>Elastic Net</td>\n",
       "      <td>sklearn.linear_model._coordinate_descent.Elast...</td>\n",
       "      <td>True</td>\n",
       "    </tr>\n",
       "    <tr>\n",
       "      <th>lar</th>\n",
       "      <td>Least Angle Regression</td>\n",
       "      <td>sklearn.linear_model._least_angle.Lars</td>\n",
       "      <td>True</td>\n",
       "    </tr>\n",
       "    <tr>\n",
       "      <th>llar</th>\n",
       "      <td>Lasso Least Angle Regression</td>\n",
       "      <td>sklearn.linear_model._least_angle.LassoLars</td>\n",
       "      <td>True</td>\n",
       "    </tr>\n",
       "    <tr>\n",
       "      <th>omp</th>\n",
       "      <td>Orthogonal Matching Pursuit</td>\n",
       "      <td>sklearn.linear_model._omp.OrthogonalMatchingPu...</td>\n",
       "      <td>True</td>\n",
       "    </tr>\n",
       "    <tr>\n",
       "      <th>br</th>\n",
       "      <td>Bayesian Ridge</td>\n",
       "      <td>sklearn.linear_model._bayes.BayesianRidge</td>\n",
       "      <td>True</td>\n",
       "    </tr>\n",
       "    <tr>\n",
       "      <th>ard</th>\n",
       "      <td>Automatic Relevance Determination</td>\n",
       "      <td>sklearn.linear_model._bayes.ARDRegression</td>\n",
       "      <td>False</td>\n",
       "    </tr>\n",
       "    <tr>\n",
       "      <th>par</th>\n",
       "      <td>Passive Aggressive Regressor</td>\n",
       "      <td>sklearn.linear_model._passive_aggressive.Passi...</td>\n",
       "      <td>True</td>\n",
       "    </tr>\n",
       "    <tr>\n",
       "      <th>ransac</th>\n",
       "      <td>Random Sample Consensus</td>\n",
       "      <td>sklearn.linear_model._ransac.RANSACRegressor</td>\n",
       "      <td>False</td>\n",
       "    </tr>\n",
       "    <tr>\n",
       "      <th>tr</th>\n",
       "      <td>TheilSen Regressor</td>\n",
       "      <td>sklearn.linear_model._theil_sen.TheilSenRegressor</td>\n",
       "      <td>False</td>\n",
       "    </tr>\n",
       "    <tr>\n",
       "      <th>huber</th>\n",
       "      <td>Huber Regressor</td>\n",
       "      <td>sklearn.linear_model._huber.HuberRegressor</td>\n",
       "      <td>True</td>\n",
       "    </tr>\n",
       "    <tr>\n",
       "      <th>kr</th>\n",
       "      <td>Kernel Ridge</td>\n",
       "      <td>sklearn.kernel_ridge.KernelRidge</td>\n",
       "      <td>False</td>\n",
       "    </tr>\n",
       "    <tr>\n",
       "      <th>svm</th>\n",
       "      <td>Support Vector Regression</td>\n",
       "      <td>sklearn.svm._classes.SVR</td>\n",
       "      <td>False</td>\n",
       "    </tr>\n",
       "    <tr>\n",
       "      <th>knn</th>\n",
       "      <td>K Neighbors Regressor</td>\n",
       "      <td>sklearn.neighbors._regression.KNeighborsRegressor</td>\n",
       "      <td>True</td>\n",
       "    </tr>\n",
       "    <tr>\n",
       "      <th>dt</th>\n",
       "      <td>Decision Tree Regressor</td>\n",
       "      <td>sklearn.tree._classes.DecisionTreeRegressor</td>\n",
       "      <td>True</td>\n",
       "    </tr>\n",
       "    <tr>\n",
       "      <th>rf</th>\n",
       "      <td>Random Forest Regressor</td>\n",
       "      <td>sklearn.ensemble._forest.RandomForestRegressor</td>\n",
       "      <td>True</td>\n",
       "    </tr>\n",
       "    <tr>\n",
       "      <th>et</th>\n",
       "      <td>Extra Trees Regressor</td>\n",
       "      <td>sklearn.ensemble._forest.ExtraTreesRegressor</td>\n",
       "      <td>True</td>\n",
       "    </tr>\n",
       "    <tr>\n",
       "      <th>ada</th>\n",
       "      <td>AdaBoost Regressor</td>\n",
       "      <td>sklearn.ensemble._weight_boosting.AdaBoostRegr...</td>\n",
       "      <td>True</td>\n",
       "    </tr>\n",
       "    <tr>\n",
       "      <th>gbr</th>\n",
       "      <td>Gradient Boosting Regressor</td>\n",
       "      <td>sklearn.ensemble._gb.GradientBoostingRegressor</td>\n",
       "      <td>True</td>\n",
       "    </tr>\n",
       "    <tr>\n",
       "      <th>mlp</th>\n",
       "      <td>MLP Regressor</td>\n",
       "      <td>sklearn.neural_network._multilayer_perceptron....</td>\n",
       "      <td>False</td>\n",
       "    </tr>\n",
       "    <tr>\n",
       "      <th>xgboost</th>\n",
       "      <td>Extreme Gradient Boosting</td>\n",
       "      <td>xgboost.sklearn.XGBRegressor</td>\n",
       "      <td>True</td>\n",
       "    </tr>\n",
       "    <tr>\n",
       "      <th>lightgbm</th>\n",
       "      <td>Light Gradient Boosting Machine</td>\n",
       "      <td>lightgbm.sklearn.LGBMRegressor</td>\n",
       "      <td>True</td>\n",
       "    </tr>\n",
       "  </tbody>\n",
       "</table>\n",
       "</div>"
      ],
      "text/plain": [
       "                                       Name  \\\n",
       "ID                                            \n",
       "lr                        Linear Regression   \n",
       "lasso                      Lasso Regression   \n",
       "ridge                      Ridge Regression   \n",
       "en                              Elastic Net   \n",
       "lar                  Least Angle Regression   \n",
       "llar           Lasso Least Angle Regression   \n",
       "omp             Orthogonal Matching Pursuit   \n",
       "br                           Bayesian Ridge   \n",
       "ard       Automatic Relevance Determination   \n",
       "par            Passive Aggressive Regressor   \n",
       "ransac              Random Sample Consensus   \n",
       "tr                       TheilSen Regressor   \n",
       "huber                       Huber Regressor   \n",
       "kr                             Kernel Ridge   \n",
       "svm               Support Vector Regression   \n",
       "knn                   K Neighbors Regressor   \n",
       "dt                  Decision Tree Regressor   \n",
       "rf                  Random Forest Regressor   \n",
       "et                    Extra Trees Regressor   \n",
       "ada                      AdaBoost Regressor   \n",
       "gbr             Gradient Boosting Regressor   \n",
       "mlp                           MLP Regressor   \n",
       "xgboost           Extreme Gradient Boosting   \n",
       "lightgbm    Light Gradient Boosting Machine   \n",
       "\n",
       "                                                  Reference  Turbo  \n",
       "ID                                                                  \n",
       "lr              sklearn.linear_model._base.LinearRegression   True  \n",
       "lasso        sklearn.linear_model._coordinate_descent.Lasso   True  \n",
       "ridge                     sklearn.linear_model._ridge.Ridge   True  \n",
       "en        sklearn.linear_model._coordinate_descent.Elast...   True  \n",
       "lar                  sklearn.linear_model._least_angle.Lars   True  \n",
       "llar            sklearn.linear_model._least_angle.LassoLars   True  \n",
       "omp       sklearn.linear_model._omp.OrthogonalMatchingPu...   True  \n",
       "br                sklearn.linear_model._bayes.BayesianRidge   True  \n",
       "ard               sklearn.linear_model._bayes.ARDRegression  False  \n",
       "par       sklearn.linear_model._passive_aggressive.Passi...   True  \n",
       "ransac         sklearn.linear_model._ransac.RANSACRegressor  False  \n",
       "tr        sklearn.linear_model._theil_sen.TheilSenRegressor  False  \n",
       "huber            sklearn.linear_model._huber.HuberRegressor   True  \n",
       "kr                         sklearn.kernel_ridge.KernelRidge  False  \n",
       "svm                                sklearn.svm._classes.SVR  False  \n",
       "knn       sklearn.neighbors._regression.KNeighborsRegressor   True  \n",
       "dt              sklearn.tree._classes.DecisionTreeRegressor   True  \n",
       "rf           sklearn.ensemble._forest.RandomForestRegressor   True  \n",
       "et             sklearn.ensemble._forest.ExtraTreesRegressor   True  \n",
       "ada       sklearn.ensemble._weight_boosting.AdaBoostRegr...   True  \n",
       "gbr          sklearn.ensemble._gb.GradientBoostingRegressor   True  \n",
       "mlp       sklearn.neural_network._multilayer_perceptron....  False  \n",
       "xgboost                        xgboost.sklearn.XGBRegressor   True  \n",
       "lightgbm                     lightgbm.sklearn.LGBMRegressor   True  "
      ]
     },
     "execution_count": 18,
     "metadata": {},
     "output_type": "execute_result"
    }
   ],
   "source": [
    "models()"
   ]
  },
  {
   "cell_type": "markdown",
   "metadata": {},
   "source": [
    "**create_model**  trains and evaluates a model using cross validation that can be set with fold parameter. \n",
    "The output prints a score grid that shows MAE, MSE, RMSE, R2, RMSLE and MAPE by fold."
   ]
  },
  {
   "cell_type": "markdown",
   "metadata": {},
   "source": [
    "## Working with three candidate models best suited for this dataset\n",
    "\n",
    "1. xgboost\n",
    "2. lightgbm\n",
    "3. rf"
   ]
  },
  {
   "cell_type": "markdown",
   "metadata": {},
   "source": [
    "## 1. XGBoost"
   ]
  },
  {
   "cell_type": "code",
   "execution_count": 19,
   "metadata": {},
   "outputs": [
    {
     "data": {
      "text/html": [
       "<style  type=\"text/css\" >\n",
       "#T_abf1fd10_7c77_11eb_9230_8c8590b50c4arow10_col0,#T_abf1fd10_7c77_11eb_9230_8c8590b50c4arow10_col1,#T_abf1fd10_7c77_11eb_9230_8c8590b50c4arow10_col2,#T_abf1fd10_7c77_11eb_9230_8c8590b50c4arow10_col3,#T_abf1fd10_7c77_11eb_9230_8c8590b50c4arow10_col4,#T_abf1fd10_7c77_11eb_9230_8c8590b50c4arow10_col5{\n",
       "            background:  yellow;\n",
       "        }</style><table id=\"T_abf1fd10_7c77_11eb_9230_8c8590b50c4a\" ><thead>    <tr>        <th class=\"blank level0\" ></th>        <th class=\"col_heading level0 col0\" >MAE</th>        <th class=\"col_heading level0 col1\" >MSE</th>        <th class=\"col_heading level0 col2\" >RMSE</th>        <th class=\"col_heading level0 col3\" >R2</th>        <th class=\"col_heading level0 col4\" >RMSLE</th>        <th class=\"col_heading level0 col5\" >MAPE</th>    </tr></thead><tbody>\n",
       "                <tr>\n",
       "                        <th id=\"T_abf1fd10_7c77_11eb_9230_8c8590b50c4alevel0_row0\" class=\"row_heading level0 row0\" >0</th>\n",
       "                        <td id=\"T_abf1fd10_7c77_11eb_9230_8c8590b50c4arow0_col0\" class=\"data row0 col0\" >2.3848</td>\n",
       "                        <td id=\"T_abf1fd10_7c77_11eb_9230_8c8590b50c4arow0_col1\" class=\"data row0 col1\" >10.9842</td>\n",
       "                        <td id=\"T_abf1fd10_7c77_11eb_9230_8c8590b50c4arow0_col2\" class=\"data row0 col2\" >3.3142</td>\n",
       "                        <td id=\"T_abf1fd10_7c77_11eb_9230_8c8590b50c4arow0_col3\" class=\"data row0 col3\" >0.9606</td>\n",
       "                        <td id=\"T_abf1fd10_7c77_11eb_9230_8c8590b50c4arow0_col4\" class=\"data row0 col4\" >0.0073</td>\n",
       "                        <td id=\"T_abf1fd10_7c77_11eb_9230_8c8590b50c4arow0_col5\" class=\"data row0 col5\" >0.0053</td>\n",
       "            </tr>\n",
       "            <tr>\n",
       "                        <th id=\"T_abf1fd10_7c77_11eb_9230_8c8590b50c4alevel0_row1\" class=\"row_heading level0 row1\" >1</th>\n",
       "                        <td id=\"T_abf1fd10_7c77_11eb_9230_8c8590b50c4arow1_col0\" class=\"data row1 col0\" >2.3924</td>\n",
       "                        <td id=\"T_abf1fd10_7c77_11eb_9230_8c8590b50c4arow1_col1\" class=\"data row1 col1\" >10.4531</td>\n",
       "                        <td id=\"T_abf1fd10_7c77_11eb_9230_8c8590b50c4arow1_col2\" class=\"data row1 col2\" >3.2331</td>\n",
       "                        <td id=\"T_abf1fd10_7c77_11eb_9230_8c8590b50c4arow1_col3\" class=\"data row1 col3\" >0.9642</td>\n",
       "                        <td id=\"T_abf1fd10_7c77_11eb_9230_8c8590b50c4arow1_col4\" class=\"data row1 col4\" >0.0071</td>\n",
       "                        <td id=\"T_abf1fd10_7c77_11eb_9230_8c8590b50c4arow1_col5\" class=\"data row1 col5\" >0.0053</td>\n",
       "            </tr>\n",
       "            <tr>\n",
       "                        <th id=\"T_abf1fd10_7c77_11eb_9230_8c8590b50c4alevel0_row2\" class=\"row_heading level0 row2\" >2</th>\n",
       "                        <td id=\"T_abf1fd10_7c77_11eb_9230_8c8590b50c4arow2_col0\" class=\"data row2 col0\" >2.4254</td>\n",
       "                        <td id=\"T_abf1fd10_7c77_11eb_9230_8c8590b50c4arow2_col1\" class=\"data row2 col1\" >10.8758</td>\n",
       "                        <td id=\"T_abf1fd10_7c77_11eb_9230_8c8590b50c4arow2_col2\" class=\"data row2 col2\" >3.2979</td>\n",
       "                        <td id=\"T_abf1fd10_7c77_11eb_9230_8c8590b50c4arow2_col3\" class=\"data row2 col3\" >0.9637</td>\n",
       "                        <td id=\"T_abf1fd10_7c77_11eb_9230_8c8590b50c4arow2_col4\" class=\"data row2 col4\" >0.0073</td>\n",
       "                        <td id=\"T_abf1fd10_7c77_11eb_9230_8c8590b50c4arow2_col5\" class=\"data row2 col5\" >0.0053</td>\n",
       "            </tr>\n",
       "            <tr>\n",
       "                        <th id=\"T_abf1fd10_7c77_11eb_9230_8c8590b50c4alevel0_row3\" class=\"row_heading level0 row3\" >3</th>\n",
       "                        <td id=\"T_abf1fd10_7c77_11eb_9230_8c8590b50c4arow3_col0\" class=\"data row3 col0\" >2.2840</td>\n",
       "                        <td id=\"T_abf1fd10_7c77_11eb_9230_8c8590b50c4arow3_col1\" class=\"data row3 col1\" >8.9812</td>\n",
       "                        <td id=\"T_abf1fd10_7c77_11eb_9230_8c8590b50c4arow3_col2\" class=\"data row3 col2\" >2.9969</td>\n",
       "                        <td id=\"T_abf1fd10_7c77_11eb_9230_8c8590b50c4arow3_col3\" class=\"data row3 col3\" >0.9682</td>\n",
       "                        <td id=\"T_abf1fd10_7c77_11eb_9230_8c8590b50c4arow3_col4\" class=\"data row3 col4\" >0.0066</td>\n",
       "                        <td id=\"T_abf1fd10_7c77_11eb_9230_8c8590b50c4arow3_col5\" class=\"data row3 col5\" >0.0050</td>\n",
       "            </tr>\n",
       "            <tr>\n",
       "                        <th id=\"T_abf1fd10_7c77_11eb_9230_8c8590b50c4alevel0_row4\" class=\"row_heading level0 row4\" >4</th>\n",
       "                        <td id=\"T_abf1fd10_7c77_11eb_9230_8c8590b50c4arow4_col0\" class=\"data row4 col0\" >2.3822</td>\n",
       "                        <td id=\"T_abf1fd10_7c77_11eb_9230_8c8590b50c4arow4_col1\" class=\"data row4 col1\" >8.9987</td>\n",
       "                        <td id=\"T_abf1fd10_7c77_11eb_9230_8c8590b50c4arow4_col2\" class=\"data row4 col2\" >2.9998</td>\n",
       "                        <td id=\"T_abf1fd10_7c77_11eb_9230_8c8590b50c4arow4_col3\" class=\"data row4 col3\" >0.9695</td>\n",
       "                        <td id=\"T_abf1fd10_7c77_11eb_9230_8c8590b50c4arow4_col4\" class=\"data row4 col4\" >0.0066</td>\n",
       "                        <td id=\"T_abf1fd10_7c77_11eb_9230_8c8590b50c4arow4_col5\" class=\"data row4 col5\" >0.0053</td>\n",
       "            </tr>\n",
       "            <tr>\n",
       "                        <th id=\"T_abf1fd10_7c77_11eb_9230_8c8590b50c4alevel0_row5\" class=\"row_heading level0 row5\" >5</th>\n",
       "                        <td id=\"T_abf1fd10_7c77_11eb_9230_8c8590b50c4arow5_col0\" class=\"data row5 col0\" >2.4296</td>\n",
       "                        <td id=\"T_abf1fd10_7c77_11eb_9230_8c8590b50c4arow5_col1\" class=\"data row5 col1\" >10.0141</td>\n",
       "                        <td id=\"T_abf1fd10_7c77_11eb_9230_8c8590b50c4arow5_col2\" class=\"data row5 col2\" >3.1645</td>\n",
       "                        <td id=\"T_abf1fd10_7c77_11eb_9230_8c8590b50c4arow5_col3\" class=\"data row5 col3\" >0.9659</td>\n",
       "                        <td id=\"T_abf1fd10_7c77_11eb_9230_8c8590b50c4arow5_col4\" class=\"data row5 col4\" >0.0070</td>\n",
       "                        <td id=\"T_abf1fd10_7c77_11eb_9230_8c8590b50c4arow5_col5\" class=\"data row5 col5\" >0.0054</td>\n",
       "            </tr>\n",
       "            <tr>\n",
       "                        <th id=\"T_abf1fd10_7c77_11eb_9230_8c8590b50c4alevel0_row6\" class=\"row_heading level0 row6\" >6</th>\n",
       "                        <td id=\"T_abf1fd10_7c77_11eb_9230_8c8590b50c4arow6_col0\" class=\"data row6 col0\" >2.4780</td>\n",
       "                        <td id=\"T_abf1fd10_7c77_11eb_9230_8c8590b50c4arow6_col1\" class=\"data row6 col1\" >17.6772</td>\n",
       "                        <td id=\"T_abf1fd10_7c77_11eb_9230_8c8590b50c4arow6_col2\" class=\"data row6 col2\" >4.2044</td>\n",
       "                        <td id=\"T_abf1fd10_7c77_11eb_9230_8c8590b50c4arow6_col3\" class=\"data row6 col3\" >0.9382</td>\n",
       "                        <td id=\"T_abf1fd10_7c77_11eb_9230_8c8590b50c4arow6_col4\" class=\"data row6 col4\" >0.0092</td>\n",
       "                        <td id=\"T_abf1fd10_7c77_11eb_9230_8c8590b50c4arow6_col5\" class=\"data row6 col5\" >0.0055</td>\n",
       "            </tr>\n",
       "            <tr>\n",
       "                        <th id=\"T_abf1fd10_7c77_11eb_9230_8c8590b50c4alevel0_row7\" class=\"row_heading level0 row7\" >7</th>\n",
       "                        <td id=\"T_abf1fd10_7c77_11eb_9230_8c8590b50c4arow7_col0\" class=\"data row7 col0\" >2.5791</td>\n",
       "                        <td id=\"T_abf1fd10_7c77_11eb_9230_8c8590b50c4arow7_col1\" class=\"data row7 col1\" >14.3678</td>\n",
       "                        <td id=\"T_abf1fd10_7c77_11eb_9230_8c8590b50c4arow7_col2\" class=\"data row7 col2\" >3.7905</td>\n",
       "                        <td id=\"T_abf1fd10_7c77_11eb_9230_8c8590b50c4arow7_col3\" class=\"data row7 col3\" >0.9504</td>\n",
       "                        <td id=\"T_abf1fd10_7c77_11eb_9230_8c8590b50c4arow7_col4\" class=\"data row7 col4\" >0.0083</td>\n",
       "                        <td id=\"T_abf1fd10_7c77_11eb_9230_8c8590b50c4arow7_col5\" class=\"data row7 col5\" >0.0057</td>\n",
       "            </tr>\n",
       "            <tr>\n",
       "                        <th id=\"T_abf1fd10_7c77_11eb_9230_8c8590b50c4alevel0_row8\" class=\"row_heading level0 row8\" >8</th>\n",
       "                        <td id=\"T_abf1fd10_7c77_11eb_9230_8c8590b50c4arow8_col0\" class=\"data row8 col0\" >2.3625</td>\n",
       "                        <td id=\"T_abf1fd10_7c77_11eb_9230_8c8590b50c4arow8_col1\" class=\"data row8 col1\" >10.6241</td>\n",
       "                        <td id=\"T_abf1fd10_7c77_11eb_9230_8c8590b50c4arow8_col2\" class=\"data row8 col2\" >3.2595</td>\n",
       "                        <td id=\"T_abf1fd10_7c77_11eb_9230_8c8590b50c4arow8_col3\" class=\"data row8 col3\" >0.9628</td>\n",
       "                        <td id=\"T_abf1fd10_7c77_11eb_9230_8c8590b50c4arow8_col4\" class=\"data row8 col4\" >0.0072</td>\n",
       "                        <td id=\"T_abf1fd10_7c77_11eb_9230_8c8590b50c4arow8_col5\" class=\"data row8 col5\" >0.0052</td>\n",
       "            </tr>\n",
       "            <tr>\n",
       "                        <th id=\"T_abf1fd10_7c77_11eb_9230_8c8590b50c4alevel0_row9\" class=\"row_heading level0 row9\" >9</th>\n",
       "                        <td id=\"T_abf1fd10_7c77_11eb_9230_8c8590b50c4arow9_col0\" class=\"data row9 col0\" >2.3903</td>\n",
       "                        <td id=\"T_abf1fd10_7c77_11eb_9230_8c8590b50c4arow9_col1\" class=\"data row9 col1\" >11.7394</td>\n",
       "                        <td id=\"T_abf1fd10_7c77_11eb_9230_8c8590b50c4arow9_col2\" class=\"data row9 col2\" >3.4263</td>\n",
       "                        <td id=\"T_abf1fd10_7c77_11eb_9230_8c8590b50c4arow9_col3\" class=\"data row9 col3\" >0.9593</td>\n",
       "                        <td id=\"T_abf1fd10_7c77_11eb_9230_8c8590b50c4arow9_col4\" class=\"data row9 col4\" >0.0076</td>\n",
       "                        <td id=\"T_abf1fd10_7c77_11eb_9230_8c8590b50c4arow9_col5\" class=\"data row9 col5\" >0.0053</td>\n",
       "            </tr>\n",
       "            <tr>\n",
       "                        <th id=\"T_abf1fd10_7c77_11eb_9230_8c8590b50c4alevel0_row10\" class=\"row_heading level0 row10\" >Mean</th>\n",
       "                        <td id=\"T_abf1fd10_7c77_11eb_9230_8c8590b50c4arow10_col0\" class=\"data row10 col0\" >2.4108</td>\n",
       "                        <td id=\"T_abf1fd10_7c77_11eb_9230_8c8590b50c4arow10_col1\" class=\"data row10 col1\" >11.4715</td>\n",
       "                        <td id=\"T_abf1fd10_7c77_11eb_9230_8c8590b50c4arow10_col2\" class=\"data row10 col2\" >3.3687</td>\n",
       "                        <td id=\"T_abf1fd10_7c77_11eb_9230_8c8590b50c4arow10_col3\" class=\"data row10 col3\" >0.9603</td>\n",
       "                        <td id=\"T_abf1fd10_7c77_11eb_9230_8c8590b50c4arow10_col4\" class=\"data row10 col4\" >0.0074</td>\n",
       "                        <td id=\"T_abf1fd10_7c77_11eb_9230_8c8590b50c4arow10_col5\" class=\"data row10 col5\" >0.0053</td>\n",
       "            </tr>\n",
       "            <tr>\n",
       "                        <th id=\"T_abf1fd10_7c77_11eb_9230_8c8590b50c4alevel0_row11\" class=\"row_heading level0 row11\" >SD</th>\n",
       "                        <td id=\"T_abf1fd10_7c77_11eb_9230_8c8590b50c4arow11_col0\" class=\"data row11 col0\" >0.0736</td>\n",
       "                        <td id=\"T_abf1fd10_7c77_11eb_9230_8c8590b50c4arow11_col1\" class=\"data row11 col1\" >2.5250</td>\n",
       "                        <td id=\"T_abf1fd10_7c77_11eb_9230_8c8590b50c4arow11_col2\" class=\"data row11 col2\" >0.3513</td>\n",
       "                        <td id=\"T_abf1fd10_7c77_11eb_9230_8c8590b50c4arow11_col3\" class=\"data row11 col3\" >0.0089</td>\n",
       "                        <td id=\"T_abf1fd10_7c77_11eb_9230_8c8590b50c4arow11_col4\" class=\"data row11 col4\" >0.0008</td>\n",
       "                        <td id=\"T_abf1fd10_7c77_11eb_9230_8c8590b50c4arow11_col5\" class=\"data row11 col5\" >0.0002</td>\n",
       "            </tr>\n",
       "    </tbody></table>"
      ],
      "text/plain": [
       "<pandas.io.formats.style.Styler at 0x7fe4f3c8fda0>"
      ]
     },
     "metadata": {},
     "output_type": "display_data"
    }
   ],
   "source": [
    "## 10 fold CV\n",
    "\n",
    "xgb = create_model('xgboost')"
   ]
  },
  {
   "cell_type": "code",
   "execution_count": 20,
   "metadata": {},
   "outputs": [
    {
     "name": "stdout",
     "output_type": "stream",
     "text": [
      "XGBRegressor(base_score=0.5, booster='gbtree', colsample_bylevel=1,\n",
      "             colsample_bynode=1, colsample_bytree=1, gamma=0, gpu_id=-1,\n",
      "             importance_type='gain', interaction_constraints='',\n",
      "             learning_rate=0.300000012, max_delta_step=0, max_depth=6,\n",
      "             min_child_weight=1, missing=nan, monotone_constraints='()',\n",
      "             n_estimators=100, n_jobs=-1, num_parallel_tree=1,\n",
      "             objective='reg:squarederror', random_state=123, reg_alpha=0,\n",
      "             reg_lambda=1, scale_pos_weight=1, subsample=1, tree_method='auto',\n",
      "             validate_parameters=1, verbosity=0)\n"
     ]
    }
   ],
   "source": [
    "print(xgb)"
   ]
  },
  {
   "cell_type": "markdown",
   "metadata": {},
   "source": [
    "## 2. LightGBM"
   ]
  },
  {
   "cell_type": "code",
   "execution_count": 21,
   "metadata": {},
   "outputs": [
    {
     "data": {
      "text/html": [
       "<style  type=\"text/css\" >\n",
       "#T_eefad6f4_7c77_11eb_9230_8c8590b50c4arow10_col0,#T_eefad6f4_7c77_11eb_9230_8c8590b50c4arow10_col1,#T_eefad6f4_7c77_11eb_9230_8c8590b50c4arow10_col2,#T_eefad6f4_7c77_11eb_9230_8c8590b50c4arow10_col3,#T_eefad6f4_7c77_11eb_9230_8c8590b50c4arow10_col4,#T_eefad6f4_7c77_11eb_9230_8c8590b50c4arow10_col5{\n",
       "            background:  yellow;\n",
       "        }</style><table id=\"T_eefad6f4_7c77_11eb_9230_8c8590b50c4a\" ><thead>    <tr>        <th class=\"blank level0\" ></th>        <th class=\"col_heading level0 col0\" >MAE</th>        <th class=\"col_heading level0 col1\" >MSE</th>        <th class=\"col_heading level0 col2\" >RMSE</th>        <th class=\"col_heading level0 col3\" >R2</th>        <th class=\"col_heading level0 col4\" >RMSLE</th>        <th class=\"col_heading level0 col5\" >MAPE</th>    </tr></thead><tbody>\n",
       "                <tr>\n",
       "                        <th id=\"T_eefad6f4_7c77_11eb_9230_8c8590b50c4alevel0_row0\" class=\"row_heading level0 row0\" >0</th>\n",
       "                        <td id=\"T_eefad6f4_7c77_11eb_9230_8c8590b50c4arow0_col0\" class=\"data row0 col0\" >2.6040</td>\n",
       "                        <td id=\"T_eefad6f4_7c77_11eb_9230_8c8590b50c4arow0_col1\" class=\"data row0 col1\" >12.5114</td>\n",
       "                        <td id=\"T_eefad6f4_7c77_11eb_9230_8c8590b50c4arow0_col2\" class=\"data row0 col2\" >3.5371</td>\n",
       "                        <td id=\"T_eefad6f4_7c77_11eb_9230_8c8590b50c4arow0_col3\" class=\"data row0 col3\" >0.9552</td>\n",
       "                        <td id=\"T_eefad6f4_7c77_11eb_9230_8c8590b50c4arow0_col4\" class=\"data row0 col4\" >0.0077</td>\n",
       "                        <td id=\"T_eefad6f4_7c77_11eb_9230_8c8590b50c4arow0_col5\" class=\"data row0 col5\" >0.0057</td>\n",
       "            </tr>\n",
       "            <tr>\n",
       "                        <th id=\"T_eefad6f4_7c77_11eb_9230_8c8590b50c4alevel0_row1\" class=\"row_heading level0 row1\" >1</th>\n",
       "                        <td id=\"T_eefad6f4_7c77_11eb_9230_8c8590b50c4arow1_col0\" class=\"data row1 col0\" >2.5276</td>\n",
       "                        <td id=\"T_eefad6f4_7c77_11eb_9230_8c8590b50c4arow1_col1\" class=\"data row1 col1\" >11.2518</td>\n",
       "                        <td id=\"T_eefad6f4_7c77_11eb_9230_8c8590b50c4arow1_col2\" class=\"data row1 col2\" >3.3544</td>\n",
       "                        <td id=\"T_eefad6f4_7c77_11eb_9230_8c8590b50c4arow1_col3\" class=\"data row1 col3\" >0.9614</td>\n",
       "                        <td id=\"T_eefad6f4_7c77_11eb_9230_8c8590b50c4arow1_col4\" class=\"data row1 col4\" >0.0074</td>\n",
       "                        <td id=\"T_eefad6f4_7c77_11eb_9230_8c8590b50c4arow1_col5\" class=\"data row1 col5\" >0.0056</td>\n",
       "            </tr>\n",
       "            <tr>\n",
       "                        <th id=\"T_eefad6f4_7c77_11eb_9230_8c8590b50c4alevel0_row2\" class=\"row_heading level0 row2\" >2</th>\n",
       "                        <td id=\"T_eefad6f4_7c77_11eb_9230_8c8590b50c4arow2_col0\" class=\"data row2 col0\" >2.5557</td>\n",
       "                        <td id=\"T_eefad6f4_7c77_11eb_9230_8c8590b50c4arow2_col1\" class=\"data row2 col1\" >11.9648</td>\n",
       "                        <td id=\"T_eefad6f4_7c77_11eb_9230_8c8590b50c4arow2_col2\" class=\"data row2 col2\" >3.4590</td>\n",
       "                        <td id=\"T_eefad6f4_7c77_11eb_9230_8c8590b50c4arow2_col3\" class=\"data row2 col3\" >0.9601</td>\n",
       "                        <td id=\"T_eefad6f4_7c77_11eb_9230_8c8590b50c4arow2_col4\" class=\"data row2 col4\" >0.0076</td>\n",
       "                        <td id=\"T_eefad6f4_7c77_11eb_9230_8c8590b50c4arow2_col5\" class=\"data row2 col5\" >0.0056</td>\n",
       "            </tr>\n",
       "            <tr>\n",
       "                        <th id=\"T_eefad6f4_7c77_11eb_9230_8c8590b50c4alevel0_row3\" class=\"row_heading level0 row3\" >3</th>\n",
       "                        <td id=\"T_eefad6f4_7c77_11eb_9230_8c8590b50c4arow3_col0\" class=\"data row3 col0\" >2.4857</td>\n",
       "                        <td id=\"T_eefad6f4_7c77_11eb_9230_8c8590b50c4arow3_col1\" class=\"data row3 col1\" >10.2802</td>\n",
       "                        <td id=\"T_eefad6f4_7c77_11eb_9230_8c8590b50c4arow3_col2\" class=\"data row3 col2\" >3.2063</td>\n",
       "                        <td id=\"T_eefad6f4_7c77_11eb_9230_8c8590b50c4arow3_col3\" class=\"data row3 col3\" >0.9636</td>\n",
       "                        <td id=\"T_eefad6f4_7c77_11eb_9230_8c8590b50c4arow3_col4\" class=\"data row3 col4\" >0.0070</td>\n",
       "                        <td id=\"T_eefad6f4_7c77_11eb_9230_8c8590b50c4arow3_col5\" class=\"data row3 col5\" >0.0055</td>\n",
       "            </tr>\n",
       "            <tr>\n",
       "                        <th id=\"T_eefad6f4_7c77_11eb_9230_8c8590b50c4alevel0_row4\" class=\"row_heading level0 row4\" >4</th>\n",
       "                        <td id=\"T_eefad6f4_7c77_11eb_9230_8c8590b50c4arow4_col0\" class=\"data row4 col0\" >2.6384</td>\n",
       "                        <td id=\"T_eefad6f4_7c77_11eb_9230_8c8590b50c4arow4_col1\" class=\"data row4 col1\" >11.0718</td>\n",
       "                        <td id=\"T_eefad6f4_7c77_11eb_9230_8c8590b50c4arow4_col2\" class=\"data row4 col2\" >3.3274</td>\n",
       "                        <td id=\"T_eefad6f4_7c77_11eb_9230_8c8590b50c4arow4_col3\" class=\"data row4 col3\" >0.9624</td>\n",
       "                        <td id=\"T_eefad6f4_7c77_11eb_9230_8c8590b50c4arow4_col4\" class=\"data row4 col4\" >0.0073</td>\n",
       "                        <td id=\"T_eefad6f4_7c77_11eb_9230_8c8590b50c4arow4_col5\" class=\"data row4 col5\" >0.0058</td>\n",
       "            </tr>\n",
       "            <tr>\n",
       "                        <th id=\"T_eefad6f4_7c77_11eb_9230_8c8590b50c4alevel0_row5\" class=\"row_heading level0 row5\" >5</th>\n",
       "                        <td id=\"T_eefad6f4_7c77_11eb_9230_8c8590b50c4arow5_col0\" class=\"data row5 col0\" >2.5642</td>\n",
       "                        <td id=\"T_eefad6f4_7c77_11eb_9230_8c8590b50c4arow5_col1\" class=\"data row5 col1\" >10.9204</td>\n",
       "                        <td id=\"T_eefad6f4_7c77_11eb_9230_8c8590b50c4arow5_col2\" class=\"data row5 col2\" >3.3046</td>\n",
       "                        <td id=\"T_eefad6f4_7c77_11eb_9230_8c8590b50c4arow5_col3\" class=\"data row5 col3\" >0.9628</td>\n",
       "                        <td id=\"T_eefad6f4_7c77_11eb_9230_8c8590b50c4arow5_col4\" class=\"data row5 col4\" >0.0073</td>\n",
       "                        <td id=\"T_eefad6f4_7c77_11eb_9230_8c8590b50c4arow5_col5\" class=\"data row5 col5\" >0.0057</td>\n",
       "            </tr>\n",
       "            <tr>\n",
       "                        <th id=\"T_eefad6f4_7c77_11eb_9230_8c8590b50c4alevel0_row6\" class=\"row_heading level0 row6\" >6</th>\n",
       "                        <td id=\"T_eefad6f4_7c77_11eb_9230_8c8590b50c4arow6_col0\" class=\"data row6 col0\" >2.6518</td>\n",
       "                        <td id=\"T_eefad6f4_7c77_11eb_9230_8c8590b50c4arow6_col1\" class=\"data row6 col1\" >18.3757</td>\n",
       "                        <td id=\"T_eefad6f4_7c77_11eb_9230_8c8590b50c4arow6_col2\" class=\"data row6 col2\" >4.2867</td>\n",
       "                        <td id=\"T_eefad6f4_7c77_11eb_9230_8c8590b50c4arow6_col3\" class=\"data row6 col3\" >0.9357</td>\n",
       "                        <td id=\"T_eefad6f4_7c77_11eb_9230_8c8590b50c4arow6_col4\" class=\"data row6 col4\" >0.0094</td>\n",
       "                        <td id=\"T_eefad6f4_7c77_11eb_9230_8c8590b50c4arow6_col5\" class=\"data row6 col5\" >0.0059</td>\n",
       "            </tr>\n",
       "            <tr>\n",
       "                        <th id=\"T_eefad6f4_7c77_11eb_9230_8c8590b50c4alevel0_row7\" class=\"row_heading level0 row7\" >7</th>\n",
       "                        <td id=\"T_eefad6f4_7c77_11eb_9230_8c8590b50c4arow7_col0\" class=\"data row7 col0\" >2.6403</td>\n",
       "                        <td id=\"T_eefad6f4_7c77_11eb_9230_8c8590b50c4arow7_col1\" class=\"data row7 col1\" >14.8205</td>\n",
       "                        <td id=\"T_eefad6f4_7c77_11eb_9230_8c8590b50c4arow7_col2\" class=\"data row7 col2\" >3.8497</td>\n",
       "                        <td id=\"T_eefad6f4_7c77_11eb_9230_8c8590b50c4arow7_col3\" class=\"data row7 col3\" >0.9489</td>\n",
       "                        <td id=\"T_eefad6f4_7c77_11eb_9230_8c8590b50c4arow7_col4\" class=\"data row7 col4\" >0.0084</td>\n",
       "                        <td id=\"T_eefad6f4_7c77_11eb_9230_8c8590b50c4arow7_col5\" class=\"data row7 col5\" >0.0058</td>\n",
       "            </tr>\n",
       "            <tr>\n",
       "                        <th id=\"T_eefad6f4_7c77_11eb_9230_8c8590b50c4alevel0_row8\" class=\"row_heading level0 row8\" >8</th>\n",
       "                        <td id=\"T_eefad6f4_7c77_11eb_9230_8c8590b50c4arow8_col0\" class=\"data row8 col0\" >2.6534</td>\n",
       "                        <td id=\"T_eefad6f4_7c77_11eb_9230_8c8590b50c4arow8_col1\" class=\"data row8 col1\" >12.3636</td>\n",
       "                        <td id=\"T_eefad6f4_7c77_11eb_9230_8c8590b50c4arow8_col2\" class=\"data row8 col2\" >3.5162</td>\n",
       "                        <td id=\"T_eefad6f4_7c77_11eb_9230_8c8590b50c4arow8_col3\" class=\"data row8 col3\" >0.9567</td>\n",
       "                        <td id=\"T_eefad6f4_7c77_11eb_9230_8c8590b50c4arow8_col4\" class=\"data row8 col4\" >0.0077</td>\n",
       "                        <td id=\"T_eefad6f4_7c77_11eb_9230_8c8590b50c4arow8_col5\" class=\"data row8 col5\" >0.0059</td>\n",
       "            </tr>\n",
       "            <tr>\n",
       "                        <th id=\"T_eefad6f4_7c77_11eb_9230_8c8590b50c4alevel0_row9\" class=\"row_heading level0 row9\" >9</th>\n",
       "                        <td id=\"T_eefad6f4_7c77_11eb_9230_8c8590b50c4arow9_col0\" class=\"data row9 col0\" >2.5752</td>\n",
       "                        <td id=\"T_eefad6f4_7c77_11eb_9230_8c8590b50c4arow9_col1\" class=\"data row9 col1\" >12.9213</td>\n",
       "                        <td id=\"T_eefad6f4_7c77_11eb_9230_8c8590b50c4arow9_col2\" class=\"data row9 col2\" >3.5946</td>\n",
       "                        <td id=\"T_eefad6f4_7c77_11eb_9230_8c8590b50c4arow9_col3\" class=\"data row9 col3\" >0.9552</td>\n",
       "                        <td id=\"T_eefad6f4_7c77_11eb_9230_8c8590b50c4arow9_col4\" class=\"data row9 col4\" >0.0079</td>\n",
       "                        <td id=\"T_eefad6f4_7c77_11eb_9230_8c8590b50c4arow9_col5\" class=\"data row9 col5\" >0.0057</td>\n",
       "            </tr>\n",
       "            <tr>\n",
       "                        <th id=\"T_eefad6f4_7c77_11eb_9230_8c8590b50c4alevel0_row10\" class=\"row_heading level0 row10\" >Mean</th>\n",
       "                        <td id=\"T_eefad6f4_7c77_11eb_9230_8c8590b50c4arow10_col0\" class=\"data row10 col0\" >2.5896</td>\n",
       "                        <td id=\"T_eefad6f4_7c77_11eb_9230_8c8590b50c4arow10_col1\" class=\"data row10 col1\" >12.6481</td>\n",
       "                        <td id=\"T_eefad6f4_7c77_11eb_9230_8c8590b50c4arow10_col2\" class=\"data row10 col2\" >3.5436</td>\n",
       "                        <td id=\"T_eefad6f4_7c77_11eb_9230_8c8590b50c4arow10_col3\" class=\"data row10 col3\" >0.9562</td>\n",
       "                        <td id=\"T_eefad6f4_7c77_11eb_9230_8c8590b50c4arow10_col4\" class=\"data row10 col4\" >0.0078</td>\n",
       "                        <td id=\"T_eefad6f4_7c77_11eb_9230_8c8590b50c4arow10_col5\" class=\"data row10 col5\" >0.0057</td>\n",
       "            </tr>\n",
       "            <tr>\n",
       "                        <th id=\"T_eefad6f4_7c77_11eb_9230_8c8590b50c4alevel0_row11\" class=\"row_heading level0 row11\" >SD</th>\n",
       "                        <td id=\"T_eefad6f4_7c77_11eb_9230_8c8590b50c4arow11_col0\" class=\"data row11 col0\" >0.0545</td>\n",
       "                        <td id=\"T_eefad6f4_7c77_11eb_9230_8c8590b50c4arow11_col1\" class=\"data row11 col1\" >2.2626</td>\n",
       "                        <td id=\"T_eefad6f4_7c77_11eb_9230_8c8590b50c4arow11_col2\" class=\"data row11 col2\" >0.3016</td>\n",
       "                        <td id=\"T_eefad6f4_7c77_11eb_9230_8c8590b50c4arow11_col3\" class=\"data row11 col3\" >0.0081</td>\n",
       "                        <td id=\"T_eefad6f4_7c77_11eb_9230_8c8590b50c4arow11_col4\" class=\"data row11 col4\" >0.0007</td>\n",
       "                        <td id=\"T_eefad6f4_7c77_11eb_9230_8c8590b50c4arow11_col5\" class=\"data row11 col5\" >0.0001</td>\n",
       "            </tr>\n",
       "    </tbody></table>"
      ],
      "text/plain": [
       "<pandas.io.formats.style.Styler at 0x7fe4f3bd0828>"
      ]
     },
     "metadata": {},
     "output_type": "display_data"
    }
   ],
   "source": [
    "lgbm = create_model('lightgbm')"
   ]
  },
  {
   "cell_type": "code",
   "execution_count": 22,
   "metadata": {},
   "outputs": [
    {
     "name": "stdout",
     "output_type": "stream",
     "text": [
      "LGBMRegressor(boosting_type='gbdt', class_weight=None, colsample_bytree=1.0,\n",
      "              importance_type='split', learning_rate=0.1, max_depth=-1,\n",
      "              min_child_samples=20, min_child_weight=0.001, min_split_gain=0.0,\n",
      "              n_estimators=100, n_jobs=-1, num_leaves=31, objective=None,\n",
      "              random_state=123, reg_alpha=0.0, reg_lambda=0.0, silent=True,\n",
      "              subsample=1.0, subsample_for_bin=200000, subsample_freq=0)\n"
     ]
    }
   ],
   "source": [
    "print(lgbm)"
   ]
  },
  {
   "cell_type": "markdown",
   "metadata": {},
   "source": [
    "## 3. Random Forest Regressor"
   ]
  },
  {
   "cell_type": "code",
   "execution_count": 23,
   "metadata": {},
   "outputs": [
    {
     "data": {
      "text/html": [
       "<style  type=\"text/css\" >\n",
       "#T_302f86ec_7c78_11eb_9230_8c8590b50c4arow10_col0,#T_302f86ec_7c78_11eb_9230_8c8590b50c4arow10_col1,#T_302f86ec_7c78_11eb_9230_8c8590b50c4arow10_col2,#T_302f86ec_7c78_11eb_9230_8c8590b50c4arow10_col3,#T_302f86ec_7c78_11eb_9230_8c8590b50c4arow10_col4,#T_302f86ec_7c78_11eb_9230_8c8590b50c4arow10_col5{\n",
       "            background:  yellow;\n",
       "        }</style><table id=\"T_302f86ec_7c78_11eb_9230_8c8590b50c4a\" ><thead>    <tr>        <th class=\"blank level0\" ></th>        <th class=\"col_heading level0 col0\" >MAE</th>        <th class=\"col_heading level0 col1\" >MSE</th>        <th class=\"col_heading level0 col2\" >RMSE</th>        <th class=\"col_heading level0 col3\" >R2</th>        <th class=\"col_heading level0 col4\" >RMSLE</th>        <th class=\"col_heading level0 col5\" >MAPE</th>    </tr></thead><tbody>\n",
       "                <tr>\n",
       "                        <th id=\"T_302f86ec_7c78_11eb_9230_8c8590b50c4alevel0_row0\" class=\"row_heading level0 row0\" >0</th>\n",
       "                        <td id=\"T_302f86ec_7c78_11eb_9230_8c8590b50c4arow0_col0\" class=\"data row0 col0\" >2.5745</td>\n",
       "                        <td id=\"T_302f86ec_7c78_11eb_9230_8c8590b50c4arow0_col1\" class=\"data row0 col1\" >12.9636</td>\n",
       "                        <td id=\"T_302f86ec_7c78_11eb_9230_8c8590b50c4arow0_col2\" class=\"data row0 col2\" >3.6005</td>\n",
       "                        <td id=\"T_302f86ec_7c78_11eb_9230_8c8590b50c4arow0_col3\" class=\"data row0 col3\" >0.9536</td>\n",
       "                        <td id=\"T_302f86ec_7c78_11eb_9230_8c8590b50c4arow0_col4\" class=\"data row0 col4\" >0.0079</td>\n",
       "                        <td id=\"T_302f86ec_7c78_11eb_9230_8c8590b50c4arow0_col5\" class=\"data row0 col5\" >0.0057</td>\n",
       "            </tr>\n",
       "            <tr>\n",
       "                        <th id=\"T_302f86ec_7c78_11eb_9230_8c8590b50c4alevel0_row1\" class=\"row_heading level0 row1\" >1</th>\n",
       "                        <td id=\"T_302f86ec_7c78_11eb_9230_8c8590b50c4arow1_col0\" class=\"data row1 col0\" >2.5808</td>\n",
       "                        <td id=\"T_302f86ec_7c78_11eb_9230_8c8590b50c4arow1_col1\" class=\"data row1 col1\" >12.4596</td>\n",
       "                        <td id=\"T_302f86ec_7c78_11eb_9230_8c8590b50c4arow1_col2\" class=\"data row1 col2\" >3.5298</td>\n",
       "                        <td id=\"T_302f86ec_7c78_11eb_9230_8c8590b50c4arow1_col3\" class=\"data row1 col3\" >0.9573</td>\n",
       "                        <td id=\"T_302f86ec_7c78_11eb_9230_8c8590b50c4arow1_col4\" class=\"data row1 col4\" >0.0077</td>\n",
       "                        <td id=\"T_302f86ec_7c78_11eb_9230_8c8590b50c4arow1_col5\" class=\"data row1 col5\" >0.0057</td>\n",
       "            </tr>\n",
       "            <tr>\n",
       "                        <th id=\"T_302f86ec_7c78_11eb_9230_8c8590b50c4alevel0_row2\" class=\"row_heading level0 row2\" >2</th>\n",
       "                        <td id=\"T_302f86ec_7c78_11eb_9230_8c8590b50c4arow2_col0\" class=\"data row2 col0\" >2.4944</td>\n",
       "                        <td id=\"T_302f86ec_7c78_11eb_9230_8c8590b50c4arow2_col1\" class=\"data row2 col1\" >11.6559</td>\n",
       "                        <td id=\"T_302f86ec_7c78_11eb_9230_8c8590b50c4arow2_col2\" class=\"data row2 col2\" >3.4141</td>\n",
       "                        <td id=\"T_302f86ec_7c78_11eb_9230_8c8590b50c4arow2_col3\" class=\"data row2 col3\" >0.9611</td>\n",
       "                        <td id=\"T_302f86ec_7c78_11eb_9230_8c8590b50c4arow2_col4\" class=\"data row2 col4\" >0.0075</td>\n",
       "                        <td id=\"T_302f86ec_7c78_11eb_9230_8c8590b50c4arow2_col5\" class=\"data row2 col5\" >0.0055</td>\n",
       "            </tr>\n",
       "            <tr>\n",
       "                        <th id=\"T_302f86ec_7c78_11eb_9230_8c8590b50c4alevel0_row3\" class=\"row_heading level0 row3\" >3</th>\n",
       "                        <td id=\"T_302f86ec_7c78_11eb_9230_8c8590b50c4arow3_col0\" class=\"data row3 col0\" >2.5289</td>\n",
       "                        <td id=\"T_302f86ec_7c78_11eb_9230_8c8590b50c4arow3_col1\" class=\"data row3 col1\" >11.0159</td>\n",
       "                        <td id=\"T_302f86ec_7c78_11eb_9230_8c8590b50c4arow3_col2\" class=\"data row3 col2\" >3.3190</td>\n",
       "                        <td id=\"T_302f86ec_7c78_11eb_9230_8c8590b50c4arow3_col3\" class=\"data row3 col3\" >0.9610</td>\n",
       "                        <td id=\"T_302f86ec_7c78_11eb_9230_8c8590b50c4arow3_col4\" class=\"data row3 col4\" >0.0073</td>\n",
       "                        <td id=\"T_302f86ec_7c78_11eb_9230_8c8590b50c4arow3_col5\" class=\"data row3 col5\" >0.0056</td>\n",
       "            </tr>\n",
       "            <tr>\n",
       "                        <th id=\"T_302f86ec_7c78_11eb_9230_8c8590b50c4alevel0_row4\" class=\"row_heading level0 row4\" >4</th>\n",
       "                        <td id=\"T_302f86ec_7c78_11eb_9230_8c8590b50c4arow4_col0\" class=\"data row4 col0\" >2.5972</td>\n",
       "                        <td id=\"T_302f86ec_7c78_11eb_9230_8c8590b50c4arow4_col1\" class=\"data row4 col1\" >10.9193</td>\n",
       "                        <td id=\"T_302f86ec_7c78_11eb_9230_8c8590b50c4arow4_col2\" class=\"data row4 col2\" >3.3044</td>\n",
       "                        <td id=\"T_302f86ec_7c78_11eb_9230_8c8590b50c4arow4_col3\" class=\"data row4 col3\" >0.9629</td>\n",
       "                        <td id=\"T_302f86ec_7c78_11eb_9230_8c8590b50c4arow4_col4\" class=\"data row4 col4\" >0.0073</td>\n",
       "                        <td id=\"T_302f86ec_7c78_11eb_9230_8c8590b50c4arow4_col5\" class=\"data row4 col5\" >0.0057</td>\n",
       "            </tr>\n",
       "            <tr>\n",
       "                        <th id=\"T_302f86ec_7c78_11eb_9230_8c8590b50c4alevel0_row5\" class=\"row_heading level0 row5\" >5</th>\n",
       "                        <td id=\"T_302f86ec_7c78_11eb_9230_8c8590b50c4arow5_col0\" class=\"data row5 col0\" >2.5696</td>\n",
       "                        <td id=\"T_302f86ec_7c78_11eb_9230_8c8590b50c4arow5_col1\" class=\"data row5 col1\" >11.5377</td>\n",
       "                        <td id=\"T_302f86ec_7c78_11eb_9230_8c8590b50c4arow5_col2\" class=\"data row5 col2\" >3.3967</td>\n",
       "                        <td id=\"T_302f86ec_7c78_11eb_9230_8c8590b50c4arow5_col3\" class=\"data row5 col3\" >0.9607</td>\n",
       "                        <td id=\"T_302f86ec_7c78_11eb_9230_8c8590b50c4arow5_col4\" class=\"data row5 col4\" >0.0075</td>\n",
       "                        <td id=\"T_302f86ec_7c78_11eb_9230_8c8590b50c4arow5_col5\" class=\"data row5 col5\" >0.0057</td>\n",
       "            </tr>\n",
       "            <tr>\n",
       "                        <th id=\"T_302f86ec_7c78_11eb_9230_8c8590b50c4alevel0_row6\" class=\"row_heading level0 row6\" >6</th>\n",
       "                        <td id=\"T_302f86ec_7c78_11eb_9230_8c8590b50c4arow6_col0\" class=\"data row6 col0\" >2.5729</td>\n",
       "                        <td id=\"T_302f86ec_7c78_11eb_9230_8c8590b50c4arow6_col1\" class=\"data row6 col1\" >17.6047</td>\n",
       "                        <td id=\"T_302f86ec_7c78_11eb_9230_8c8590b50c4arow6_col2\" class=\"data row6 col2\" >4.1958</td>\n",
       "                        <td id=\"T_302f86ec_7c78_11eb_9230_8c8590b50c4arow6_col3\" class=\"data row6 col3\" >0.9384</td>\n",
       "                        <td id=\"T_302f86ec_7c78_11eb_9230_8c8590b50c4arow6_col4\" class=\"data row6 col4\" >0.0092</td>\n",
       "                        <td id=\"T_302f86ec_7c78_11eb_9230_8c8590b50c4arow6_col5\" class=\"data row6 col5\" >0.0057</td>\n",
       "            </tr>\n",
       "            <tr>\n",
       "                        <th id=\"T_302f86ec_7c78_11eb_9230_8c8590b50c4alevel0_row7\" class=\"row_heading level0 row7\" >7</th>\n",
       "                        <td id=\"T_302f86ec_7c78_11eb_9230_8c8590b50c4arow7_col0\" class=\"data row7 col0\" >2.7023</td>\n",
       "                        <td id=\"T_302f86ec_7c78_11eb_9230_8c8590b50c4arow7_col1\" class=\"data row7 col1\" >15.5447</td>\n",
       "                        <td id=\"T_302f86ec_7c78_11eb_9230_8c8590b50c4arow7_col2\" class=\"data row7 col2\" >3.9427</td>\n",
       "                        <td id=\"T_302f86ec_7c78_11eb_9230_8c8590b50c4arow7_col3\" class=\"data row7 col3\" >0.9464</td>\n",
       "                        <td id=\"T_302f86ec_7c78_11eb_9230_8c8590b50c4arow7_col4\" class=\"data row7 col4\" >0.0086</td>\n",
       "                        <td id=\"T_302f86ec_7c78_11eb_9230_8c8590b50c4arow7_col5\" class=\"data row7 col5\" >0.0060</td>\n",
       "            </tr>\n",
       "            <tr>\n",
       "                        <th id=\"T_302f86ec_7c78_11eb_9230_8c8590b50c4alevel0_row8\" class=\"row_heading level0 row8\" >8</th>\n",
       "                        <td id=\"T_302f86ec_7c78_11eb_9230_8c8590b50c4arow8_col0\" class=\"data row8 col0\" >2.5480</td>\n",
       "                        <td id=\"T_302f86ec_7c78_11eb_9230_8c8590b50c4arow8_col1\" class=\"data row8 col1\" >12.3918</td>\n",
       "                        <td id=\"T_302f86ec_7c78_11eb_9230_8c8590b50c4arow8_col2\" class=\"data row8 col2\" >3.5202</td>\n",
       "                        <td id=\"T_302f86ec_7c78_11eb_9230_8c8590b50c4arow8_col3\" class=\"data row8 col3\" >0.9566</td>\n",
       "                        <td id=\"T_302f86ec_7c78_11eb_9230_8c8590b50c4arow8_col4\" class=\"data row8 col4\" >0.0077</td>\n",
       "                        <td id=\"T_302f86ec_7c78_11eb_9230_8c8590b50c4arow8_col5\" class=\"data row8 col5\" >0.0056</td>\n",
       "            </tr>\n",
       "            <tr>\n",
       "                        <th id=\"T_302f86ec_7c78_11eb_9230_8c8590b50c4alevel0_row9\" class=\"row_heading level0 row9\" >9</th>\n",
       "                        <td id=\"T_302f86ec_7c78_11eb_9230_8c8590b50c4arow9_col0\" class=\"data row9 col0\" >2.4710</td>\n",
       "                        <td id=\"T_302f86ec_7c78_11eb_9230_8c8590b50c4arow9_col1\" class=\"data row9 col1\" >12.6479</td>\n",
       "                        <td id=\"T_302f86ec_7c78_11eb_9230_8c8590b50c4arow9_col2\" class=\"data row9 col2\" >3.5564</td>\n",
       "                        <td id=\"T_302f86ec_7c78_11eb_9230_8c8590b50c4arow9_col3\" class=\"data row9 col3\" >0.9561</td>\n",
       "                        <td id=\"T_302f86ec_7c78_11eb_9230_8c8590b50c4arow9_col4\" class=\"data row9 col4\" >0.0078</td>\n",
       "                        <td id=\"T_302f86ec_7c78_11eb_9230_8c8590b50c4arow9_col5\" class=\"data row9 col5\" >0.0054</td>\n",
       "            </tr>\n",
       "            <tr>\n",
       "                        <th id=\"T_302f86ec_7c78_11eb_9230_8c8590b50c4alevel0_row10\" class=\"row_heading level0 row10\" >Mean</th>\n",
       "                        <td id=\"T_302f86ec_7c78_11eb_9230_8c8590b50c4arow10_col0\" class=\"data row10 col0\" >2.5640</td>\n",
       "                        <td id=\"T_302f86ec_7c78_11eb_9230_8c8590b50c4arow10_col1\" class=\"data row10 col1\" >12.8741</td>\n",
       "                        <td id=\"T_302f86ec_7c78_11eb_9230_8c8590b50c4arow10_col2\" class=\"data row10 col2\" >3.5780</td>\n",
       "                        <td id=\"T_302f86ec_7c78_11eb_9230_8c8590b50c4arow10_col3\" class=\"data row10 col3\" >0.9554</td>\n",
       "                        <td id=\"T_302f86ec_7c78_11eb_9230_8c8590b50c4arow10_col4\" class=\"data row10 col4\" >0.0078</td>\n",
       "                        <td id=\"T_302f86ec_7c78_11eb_9230_8c8590b50c4arow10_col5\" class=\"data row10 col5\" >0.0057</td>\n",
       "            </tr>\n",
       "            <tr>\n",
       "                        <th id=\"T_302f86ec_7c78_11eb_9230_8c8590b50c4alevel0_row11\" class=\"row_heading level0 row11\" >SD</th>\n",
       "                        <td id=\"T_302f86ec_7c78_11eb_9230_8c8590b50c4arow11_col0\" class=\"data row11 col0\" >0.0598</td>\n",
       "                        <td id=\"T_302f86ec_7c78_11eb_9230_8c8590b50c4arow11_col1\" class=\"data row11 col1\" >2.0129</td>\n",
       "                        <td id=\"T_302f86ec_7c78_11eb_9230_8c8590b50c4arow11_col2\" class=\"data row11 col2\" >0.2689</td>\n",
       "                        <td id=\"T_302f86ec_7c78_11eb_9230_8c8590b50c4arow11_col3\" class=\"data row11 col3\" >0.0073</td>\n",
       "                        <td id=\"T_302f86ec_7c78_11eb_9230_8c8590b50c4arow11_col4\" class=\"data row11 col4\" >0.0006</td>\n",
       "                        <td id=\"T_302f86ec_7c78_11eb_9230_8c8590b50c4arow11_col5\" class=\"data row11 col5\" >0.0001</td>\n",
       "            </tr>\n",
       "    </tbody></table>"
      ],
      "text/plain": [
       "<pandas.io.formats.style.Styler at 0x7fe4f1333ba8>"
      ]
     },
     "metadata": {},
     "output_type": "display_data"
    }
   ],
   "source": [
    "rf = create_model('rf')"
   ]
  },
  {
   "cell_type": "code",
   "execution_count": 24,
   "metadata": {},
   "outputs": [
    {
     "name": "stdout",
     "output_type": "stream",
     "text": [
      "RandomForestRegressor(bootstrap=True, ccp_alpha=0.0, criterion='mse',\n",
      "                      max_depth=None, max_features='auto', max_leaf_nodes=None,\n",
      "                      max_samples=None, min_impurity_decrease=0.0,\n",
      "                      min_impurity_split=None, min_samples_leaf=1,\n",
      "                      min_samples_split=2, min_weight_fraction_leaf=0.0,\n",
      "                      n_estimators=100, n_jobs=-1, oob_score=False,\n",
      "                      random_state=123, verbose=0, warm_start=False)\n"
     ]
    }
   ],
   "source": [
    "print(rf)"
   ]
  },
  {
   "cell_type": "markdown",
   "metadata": {},
   "source": [
    "## Model Tuning"
   ]
  },
  {
   "cell_type": "code",
   "execution_count": 41,
   "metadata": {},
   "outputs": [
    {
     "data": {
      "text/html": [
       "<style  type=\"text/css\" >\n",
       "#T_fa2cba5c_7c7b_11eb_9230_8c8590b50c4arow10_col0,#T_fa2cba5c_7c7b_11eb_9230_8c8590b50c4arow10_col1,#T_fa2cba5c_7c7b_11eb_9230_8c8590b50c4arow10_col2,#T_fa2cba5c_7c7b_11eb_9230_8c8590b50c4arow10_col3,#T_fa2cba5c_7c7b_11eb_9230_8c8590b50c4arow10_col4,#T_fa2cba5c_7c7b_11eb_9230_8c8590b50c4arow10_col5{\n",
       "            background:  yellow;\n",
       "        }</style><table id=\"T_fa2cba5c_7c7b_11eb_9230_8c8590b50c4a\" ><thead>    <tr>        <th class=\"blank level0\" ></th>        <th class=\"col_heading level0 col0\" >MAE</th>        <th class=\"col_heading level0 col1\" >MSE</th>        <th class=\"col_heading level0 col2\" >RMSE</th>        <th class=\"col_heading level0 col3\" >R2</th>        <th class=\"col_heading level0 col4\" >RMSLE</th>        <th class=\"col_heading level0 col5\" >MAPE</th>    </tr></thead><tbody>\n",
       "                <tr>\n",
       "                        <th id=\"T_fa2cba5c_7c7b_11eb_9230_8c8590b50c4alevel0_row0\" class=\"row_heading level0 row0\" >0</th>\n",
       "                        <td id=\"T_fa2cba5c_7c7b_11eb_9230_8c8590b50c4arow0_col0\" class=\"data row0 col0\" >2.4163</td>\n",
       "                        <td id=\"T_fa2cba5c_7c7b_11eb_9230_8c8590b50c4arow0_col1\" class=\"data row0 col1\" >11.2117</td>\n",
       "                        <td id=\"T_fa2cba5c_7c7b_11eb_9230_8c8590b50c4arow0_col2\" class=\"data row0 col2\" >3.3484</td>\n",
       "                        <td id=\"T_fa2cba5c_7c7b_11eb_9230_8c8590b50c4arow0_col3\" class=\"data row0 col3\" >0.9598</td>\n",
       "                        <td id=\"T_fa2cba5c_7c7b_11eb_9230_8c8590b50c4arow0_col4\" class=\"data row0 col4\" >0.0073</td>\n",
       "                        <td id=\"T_fa2cba5c_7c7b_11eb_9230_8c8590b50c4arow0_col5\" class=\"data row0 col5\" >0.0053</td>\n",
       "            </tr>\n",
       "            <tr>\n",
       "                        <th id=\"T_fa2cba5c_7c7b_11eb_9230_8c8590b50c4alevel0_row1\" class=\"row_heading level0 row1\" >1</th>\n",
       "                        <td id=\"T_fa2cba5c_7c7b_11eb_9230_8c8590b50c4arow1_col0\" class=\"data row1 col0\" >2.3764</td>\n",
       "                        <td id=\"T_fa2cba5c_7c7b_11eb_9230_8c8590b50c4arow1_col1\" class=\"data row1 col1\" >10.6155</td>\n",
       "                        <td id=\"T_fa2cba5c_7c7b_11eb_9230_8c8590b50c4arow1_col2\" class=\"data row1 col2\" >3.2581</td>\n",
       "                        <td id=\"T_fa2cba5c_7c7b_11eb_9230_8c8590b50c4arow1_col3\" class=\"data row1 col3\" >0.9636</td>\n",
       "                        <td id=\"T_fa2cba5c_7c7b_11eb_9230_8c8590b50c4arow1_col4\" class=\"data row1 col4\" >0.0071</td>\n",
       "                        <td id=\"T_fa2cba5c_7c7b_11eb_9230_8c8590b50c4arow1_col5\" class=\"data row1 col5\" >0.0052</td>\n",
       "            </tr>\n",
       "            <tr>\n",
       "                        <th id=\"T_fa2cba5c_7c7b_11eb_9230_8c8590b50c4alevel0_row2\" class=\"row_heading level0 row2\" >2</th>\n",
       "                        <td id=\"T_fa2cba5c_7c7b_11eb_9230_8c8590b50c4arow2_col0\" class=\"data row2 col0\" >2.4573</td>\n",
       "                        <td id=\"T_fa2cba5c_7c7b_11eb_9230_8c8590b50c4arow2_col1\" class=\"data row2 col1\" >11.1950</td>\n",
       "                        <td id=\"T_fa2cba5c_7c7b_11eb_9230_8c8590b50c4arow2_col2\" class=\"data row2 col2\" >3.3459</td>\n",
       "                        <td id=\"T_fa2cba5c_7c7b_11eb_9230_8c8590b50c4arow2_col3\" class=\"data row2 col3\" >0.9627</td>\n",
       "                        <td id=\"T_fa2cba5c_7c7b_11eb_9230_8c8590b50c4arow2_col4\" class=\"data row2 col4\" >0.0074</td>\n",
       "                        <td id=\"T_fa2cba5c_7c7b_11eb_9230_8c8590b50c4arow2_col5\" class=\"data row2 col5\" >0.0054</td>\n",
       "            </tr>\n",
       "            <tr>\n",
       "                        <th id=\"T_fa2cba5c_7c7b_11eb_9230_8c8590b50c4alevel0_row3\" class=\"row_heading level0 row3\" >3</th>\n",
       "                        <td id=\"T_fa2cba5c_7c7b_11eb_9230_8c8590b50c4arow3_col0\" class=\"data row3 col0\" >2.2295</td>\n",
       "                        <td id=\"T_fa2cba5c_7c7b_11eb_9230_8c8590b50c4arow3_col1\" class=\"data row3 col1\" >8.6223</td>\n",
       "                        <td id=\"T_fa2cba5c_7c7b_11eb_9230_8c8590b50c4arow3_col2\" class=\"data row3 col2\" >2.9364</td>\n",
       "                        <td id=\"T_fa2cba5c_7c7b_11eb_9230_8c8590b50c4arow3_col3\" class=\"data row3 col3\" >0.9695</td>\n",
       "                        <td id=\"T_fa2cba5c_7c7b_11eb_9230_8c8590b50c4arow3_col4\" class=\"data row3 col4\" >0.0064</td>\n",
       "                        <td id=\"T_fa2cba5c_7c7b_11eb_9230_8c8590b50c4arow3_col5\" class=\"data row3 col5\" >0.0049</td>\n",
       "            </tr>\n",
       "            <tr>\n",
       "                        <th id=\"T_fa2cba5c_7c7b_11eb_9230_8c8590b50c4alevel0_row4\" class=\"row_heading level0 row4\" >4</th>\n",
       "                        <td id=\"T_fa2cba5c_7c7b_11eb_9230_8c8590b50c4arow4_col0\" class=\"data row4 col0\" >2.4552</td>\n",
       "                        <td id=\"T_fa2cba5c_7c7b_11eb_9230_8c8590b50c4arow4_col1\" class=\"data row4 col1\" >10.1387</td>\n",
       "                        <td id=\"T_fa2cba5c_7c7b_11eb_9230_8c8590b50c4arow4_col2\" class=\"data row4 col2\" >3.1841</td>\n",
       "                        <td id=\"T_fa2cba5c_7c7b_11eb_9230_8c8590b50c4arow4_col3\" class=\"data row4 col3\" >0.9656</td>\n",
       "                        <td id=\"T_fa2cba5c_7c7b_11eb_9230_8c8590b50c4arow4_col4\" class=\"data row4 col4\" >0.0070</td>\n",
       "                        <td id=\"T_fa2cba5c_7c7b_11eb_9230_8c8590b50c4arow4_col5\" class=\"data row4 col5\" >0.0054</td>\n",
       "            </tr>\n",
       "            <tr>\n",
       "                        <th id=\"T_fa2cba5c_7c7b_11eb_9230_8c8590b50c4alevel0_row5\" class=\"row_heading level0 row5\" >5</th>\n",
       "                        <td id=\"T_fa2cba5c_7c7b_11eb_9230_8c8590b50c4arow5_col0\" class=\"data row5 col0\" >2.4278</td>\n",
       "                        <td id=\"T_fa2cba5c_7c7b_11eb_9230_8c8590b50c4arow5_col1\" class=\"data row5 col1\" >10.2478</td>\n",
       "                        <td id=\"T_fa2cba5c_7c7b_11eb_9230_8c8590b50c4arow5_col2\" class=\"data row5 col2\" >3.2012</td>\n",
       "                        <td id=\"T_fa2cba5c_7c7b_11eb_9230_8c8590b50c4arow5_col3\" class=\"data row5 col3\" >0.9651</td>\n",
       "                        <td id=\"T_fa2cba5c_7c7b_11eb_9230_8c8590b50c4arow5_col4\" class=\"data row5 col4\" >0.0071</td>\n",
       "                        <td id=\"T_fa2cba5c_7c7b_11eb_9230_8c8590b50c4arow5_col5\" class=\"data row5 col5\" >0.0054</td>\n",
       "            </tr>\n",
       "            <tr>\n",
       "                        <th id=\"T_fa2cba5c_7c7b_11eb_9230_8c8590b50c4alevel0_row6\" class=\"row_heading level0 row6\" >6</th>\n",
       "                        <td id=\"T_fa2cba5c_7c7b_11eb_9230_8c8590b50c4arow6_col0\" class=\"data row6 col0\" >2.3953</td>\n",
       "                        <td id=\"T_fa2cba5c_7c7b_11eb_9230_8c8590b50c4arow6_col1\" class=\"data row6 col1\" >16.7591</td>\n",
       "                        <td id=\"T_fa2cba5c_7c7b_11eb_9230_8c8590b50c4arow6_col2\" class=\"data row6 col2\" >4.0938</td>\n",
       "                        <td id=\"T_fa2cba5c_7c7b_11eb_9230_8c8590b50c4arow6_col3\" class=\"data row6 col3\" >0.9414</td>\n",
       "                        <td id=\"T_fa2cba5c_7c7b_11eb_9230_8c8590b50c4arow6_col4\" class=\"data row6 col4\" >0.0090</td>\n",
       "                        <td id=\"T_fa2cba5c_7c7b_11eb_9230_8c8590b50c4arow6_col5\" class=\"data row6 col5\" >0.0053</td>\n",
       "            </tr>\n",
       "            <tr>\n",
       "                        <th id=\"T_fa2cba5c_7c7b_11eb_9230_8c8590b50c4alevel0_row7\" class=\"row_heading level0 row7\" >7</th>\n",
       "                        <td id=\"T_fa2cba5c_7c7b_11eb_9230_8c8590b50c4arow7_col0\" class=\"data row7 col0\" >2.5496</td>\n",
       "                        <td id=\"T_fa2cba5c_7c7b_11eb_9230_8c8590b50c4arow7_col1\" class=\"data row7 col1\" >14.2815</td>\n",
       "                        <td id=\"T_fa2cba5c_7c7b_11eb_9230_8c8590b50c4arow7_col2\" class=\"data row7 col2\" >3.7791</td>\n",
       "                        <td id=\"T_fa2cba5c_7c7b_11eb_9230_8c8590b50c4arow7_col3\" class=\"data row7 col3\" >0.9507</td>\n",
       "                        <td id=\"T_fa2cba5c_7c7b_11eb_9230_8c8590b50c4arow7_col4\" class=\"data row7 col4\" >0.0083</td>\n",
       "                        <td id=\"T_fa2cba5c_7c7b_11eb_9230_8c8590b50c4arow7_col5\" class=\"data row7 col5\" >0.0056</td>\n",
       "            </tr>\n",
       "            <tr>\n",
       "                        <th id=\"T_fa2cba5c_7c7b_11eb_9230_8c8590b50c4alevel0_row8\" class=\"row_heading level0 row8\" >8</th>\n",
       "                        <td id=\"T_fa2cba5c_7c7b_11eb_9230_8c8590b50c4arow8_col0\" class=\"data row8 col0\" >2.2321</td>\n",
       "                        <td id=\"T_fa2cba5c_7c7b_11eb_9230_8c8590b50c4arow8_col1\" class=\"data row8 col1\" >10.0428</td>\n",
       "                        <td id=\"T_fa2cba5c_7c7b_11eb_9230_8c8590b50c4arow8_col2\" class=\"data row8 col2\" >3.1690</td>\n",
       "                        <td id=\"T_fa2cba5c_7c7b_11eb_9230_8c8590b50c4arow8_col3\" class=\"data row8 col3\" >0.9648</td>\n",
       "                        <td id=\"T_fa2cba5c_7c7b_11eb_9230_8c8590b50c4arow8_col4\" class=\"data row8 col4\" >0.0070</td>\n",
       "                        <td id=\"T_fa2cba5c_7c7b_11eb_9230_8c8590b50c4arow8_col5\" class=\"data row8 col5\" >0.0049</td>\n",
       "            </tr>\n",
       "            <tr>\n",
       "                        <th id=\"T_fa2cba5c_7c7b_11eb_9230_8c8590b50c4alevel0_row9\" class=\"row_heading level0 row9\" >9</th>\n",
       "                        <td id=\"T_fa2cba5c_7c7b_11eb_9230_8c8590b50c4arow9_col0\" class=\"data row9 col0\" >2.3334</td>\n",
       "                        <td id=\"T_fa2cba5c_7c7b_11eb_9230_8c8590b50c4arow9_col1\" class=\"data row9 col1\" >11.7064</td>\n",
       "                        <td id=\"T_fa2cba5c_7c7b_11eb_9230_8c8590b50c4arow9_col2\" class=\"data row9 col2\" >3.4215</td>\n",
       "                        <td id=\"T_fa2cba5c_7c7b_11eb_9230_8c8590b50c4arow9_col3\" class=\"data row9 col3\" >0.9594</td>\n",
       "                        <td id=\"T_fa2cba5c_7c7b_11eb_9230_8c8590b50c4arow9_col4\" class=\"data row9 col4\" >0.0075</td>\n",
       "                        <td id=\"T_fa2cba5c_7c7b_11eb_9230_8c8590b50c4arow9_col5\" class=\"data row9 col5\" >0.0051</td>\n",
       "            </tr>\n",
       "            <tr>\n",
       "                        <th id=\"T_fa2cba5c_7c7b_11eb_9230_8c8590b50c4alevel0_row10\" class=\"row_heading level0 row10\" >Mean</th>\n",
       "                        <td id=\"T_fa2cba5c_7c7b_11eb_9230_8c8590b50c4arow10_col0\" class=\"data row10 col0\" >2.3873</td>\n",
       "                        <td id=\"T_fa2cba5c_7c7b_11eb_9230_8c8590b50c4arow10_col1\" class=\"data row10 col1\" >11.4821</td>\n",
       "                        <td id=\"T_fa2cba5c_7c7b_11eb_9230_8c8590b50c4arow10_col2\" class=\"data row10 col2\" >3.3738</td>\n",
       "                        <td id=\"T_fa2cba5c_7c7b_11eb_9230_8c8590b50c4arow10_col3\" class=\"data row10 col3\" >0.9603</td>\n",
       "                        <td id=\"T_fa2cba5c_7c7b_11eb_9230_8c8590b50c4arow10_col4\" class=\"data row10 col4\" >0.0074</td>\n",
       "                        <td id=\"T_fa2cba5c_7c7b_11eb_9230_8c8590b50c4arow10_col5\" class=\"data row10 col5\" >0.0053</td>\n",
       "            </tr>\n",
       "            <tr>\n",
       "                        <th id=\"T_fa2cba5c_7c7b_11eb_9230_8c8590b50c4alevel0_row11\" class=\"row_heading level0 row11\" >SD</th>\n",
       "                        <td id=\"T_fa2cba5c_7c7b_11eb_9230_8c8590b50c4arow11_col0\" class=\"data row11 col0\" >0.0951</td>\n",
       "                        <td id=\"T_fa2cba5c_7c7b_11eb_9230_8c8590b50c4arow11_col1\" class=\"data row11 col1\" >2.2409</td>\n",
       "                        <td id=\"T_fa2cba5c_7c7b_11eb_9230_8c8590b50c4arow11_col2\" class=\"data row11 col2\" >0.3160</td>\n",
       "                        <td id=\"T_fa2cba5c_7c7b_11eb_9230_8c8590b50c4arow11_col3\" class=\"data row11 col3\" >0.0079</td>\n",
       "                        <td id=\"T_fa2cba5c_7c7b_11eb_9230_8c8590b50c4arow11_col4\" class=\"data row11 col4\" >0.0007</td>\n",
       "                        <td id=\"T_fa2cba5c_7c7b_11eb_9230_8c8590b50c4arow11_col5\" class=\"data row11 col5\" >0.0002</td>\n",
       "            </tr>\n",
       "    </tbody></table>"
      ],
      "text/plain": [
       "<pandas.io.formats.style.Styler at 0x7fe4ed3b52b0>"
      ]
     },
     "metadata": {},
     "output_type": "display_data"
    }
   ],
   "source": [
    "tuned_xgboost = tune_model(xgb)"
   ]
  },
  {
   "cell_type": "code",
   "execution_count": 28,
   "metadata": {},
   "outputs": [
    {
     "name": "stdout",
     "output_type": "stream",
     "text": [
      "XGBRegressor(base_score=0.5, booster='gbtree', colsample_bylevel=1,\n",
      "             colsample_bynode=1, colsample_bytree=0.9, gamma=0, gpu_id=-1,\n",
      "             importance_type='gain', interaction_constraints='',\n",
      "             learning_rate=0.15, max_delta_step=0, max_depth=7,\n",
      "             min_child_weight=3, missing=nan, monotone_constraints='()',\n",
      "             n_estimators=290, n_jobs=-1, num_parallel_tree=1,\n",
      "             objective='reg:squarederror', random_state=123, reg_alpha=2,\n",
      "             reg_lambda=0.7, scale_pos_weight=37.1, subsample=0.7,\n",
      "             tree_method='auto', validate_parameters=1, verbosity=0)\n"
     ]
    }
   ],
   "source": [
    "print(tuned_xgboost)"
   ]
  },
  {
   "cell_type": "code",
   "execution_count": 29,
   "metadata": {
    "scrolled": true
   },
   "outputs": [
    {
     "data": {
      "text/html": [
       "<style  type=\"text/css\" >\n",
       "#T_87f6727c_7c79_11eb_9230_8c8590b50c4arow10_col0,#T_87f6727c_7c79_11eb_9230_8c8590b50c4arow10_col1,#T_87f6727c_7c79_11eb_9230_8c8590b50c4arow10_col2,#T_87f6727c_7c79_11eb_9230_8c8590b50c4arow10_col3,#T_87f6727c_7c79_11eb_9230_8c8590b50c4arow10_col4,#T_87f6727c_7c79_11eb_9230_8c8590b50c4arow10_col5{\n",
       "            background:  yellow;\n",
       "        }</style><table id=\"T_87f6727c_7c79_11eb_9230_8c8590b50c4a\" ><thead>    <tr>        <th class=\"blank level0\" ></th>        <th class=\"col_heading level0 col0\" >MAE</th>        <th class=\"col_heading level0 col1\" >MSE</th>        <th class=\"col_heading level0 col2\" >RMSE</th>        <th class=\"col_heading level0 col3\" >R2</th>        <th class=\"col_heading level0 col4\" >RMSLE</th>        <th class=\"col_heading level0 col5\" >MAPE</th>    </tr></thead><tbody>\n",
       "                <tr>\n",
       "                        <th id=\"T_87f6727c_7c79_11eb_9230_8c8590b50c4alevel0_row0\" class=\"row_heading level0 row0\" >0</th>\n",
       "                        <td id=\"T_87f6727c_7c79_11eb_9230_8c8590b50c4arow0_col0\" class=\"data row0 col0\" >2.5692</td>\n",
       "                        <td id=\"T_87f6727c_7c79_11eb_9230_8c8590b50c4arow0_col1\" class=\"data row0 col1\" >13.0131</td>\n",
       "                        <td id=\"T_87f6727c_7c79_11eb_9230_8c8590b50c4arow0_col2\" class=\"data row0 col2\" >3.6074</td>\n",
       "                        <td id=\"T_87f6727c_7c79_11eb_9230_8c8590b50c4arow0_col3\" class=\"data row0 col3\" >0.9534</td>\n",
       "                        <td id=\"T_87f6727c_7c79_11eb_9230_8c8590b50c4arow0_col4\" class=\"data row0 col4\" >0.0079</td>\n",
       "                        <td id=\"T_87f6727c_7c79_11eb_9230_8c8590b50c4arow0_col5\" class=\"data row0 col5\" >0.0057</td>\n",
       "            </tr>\n",
       "            <tr>\n",
       "                        <th id=\"T_87f6727c_7c79_11eb_9230_8c8590b50c4alevel0_row1\" class=\"row_heading level0 row1\" >1</th>\n",
       "                        <td id=\"T_87f6727c_7c79_11eb_9230_8c8590b50c4arow1_col0\" class=\"data row1 col0\" >2.6689</td>\n",
       "                        <td id=\"T_87f6727c_7c79_11eb_9230_8c8590b50c4arow1_col1\" class=\"data row1 col1\" >12.7693</td>\n",
       "                        <td id=\"T_87f6727c_7c79_11eb_9230_8c8590b50c4arow1_col2\" class=\"data row1 col2\" >3.5734</td>\n",
       "                        <td id=\"T_87f6727c_7c79_11eb_9230_8c8590b50c4arow1_col3\" class=\"data row1 col3\" >0.9562</td>\n",
       "                        <td id=\"T_87f6727c_7c79_11eb_9230_8c8590b50c4arow1_col4\" class=\"data row1 col4\" >0.0078</td>\n",
       "                        <td id=\"T_87f6727c_7c79_11eb_9230_8c8590b50c4arow1_col5\" class=\"data row1 col5\" >0.0059</td>\n",
       "            </tr>\n",
       "            <tr>\n",
       "                        <th id=\"T_87f6727c_7c79_11eb_9230_8c8590b50c4alevel0_row2\" class=\"row_heading level0 row2\" >2</th>\n",
       "                        <td id=\"T_87f6727c_7c79_11eb_9230_8c8590b50c4arow2_col0\" class=\"data row2 col0\" >2.5785</td>\n",
       "                        <td id=\"T_87f6727c_7c79_11eb_9230_8c8590b50c4arow2_col1\" class=\"data row2 col1\" >11.7500</td>\n",
       "                        <td id=\"T_87f6727c_7c79_11eb_9230_8c8590b50c4arow2_col2\" class=\"data row2 col2\" >3.4278</td>\n",
       "                        <td id=\"T_87f6727c_7c79_11eb_9230_8c8590b50c4arow2_col3\" class=\"data row2 col3\" >0.9608</td>\n",
       "                        <td id=\"T_87f6727c_7c79_11eb_9230_8c8590b50c4arow2_col4\" class=\"data row2 col4\" >0.0075</td>\n",
       "                        <td id=\"T_87f6727c_7c79_11eb_9230_8c8590b50c4arow2_col5\" class=\"data row2 col5\" >0.0057</td>\n",
       "            </tr>\n",
       "            <tr>\n",
       "                        <th id=\"T_87f6727c_7c79_11eb_9230_8c8590b50c4alevel0_row3\" class=\"row_heading level0 row3\" >3</th>\n",
       "                        <td id=\"T_87f6727c_7c79_11eb_9230_8c8590b50c4arow3_col0\" class=\"data row3 col0\" >2.4234</td>\n",
       "                        <td id=\"T_87f6727c_7c79_11eb_9230_8c8590b50c4arow3_col1\" class=\"data row3 col1\" >10.0286</td>\n",
       "                        <td id=\"T_87f6727c_7c79_11eb_9230_8c8590b50c4arow3_col2\" class=\"data row3 col2\" >3.1668</td>\n",
       "                        <td id=\"T_87f6727c_7c79_11eb_9230_8c8590b50c4arow3_col3\" class=\"data row3 col3\" >0.9645</td>\n",
       "                        <td id=\"T_87f6727c_7c79_11eb_9230_8c8590b50c4arow3_col4\" class=\"data row3 col4\" >0.0070</td>\n",
       "                        <td id=\"T_87f6727c_7c79_11eb_9230_8c8590b50c4arow3_col5\" class=\"data row3 col5\" >0.0053</td>\n",
       "            </tr>\n",
       "            <tr>\n",
       "                        <th id=\"T_87f6727c_7c79_11eb_9230_8c8590b50c4alevel0_row4\" class=\"row_heading level0 row4\" >4</th>\n",
       "                        <td id=\"T_87f6727c_7c79_11eb_9230_8c8590b50c4arow4_col0\" class=\"data row4 col0\" >2.4867</td>\n",
       "                        <td id=\"T_87f6727c_7c79_11eb_9230_8c8590b50c4arow4_col1\" class=\"data row4 col1\" >10.0690</td>\n",
       "                        <td id=\"T_87f6727c_7c79_11eb_9230_8c8590b50c4arow4_col2\" class=\"data row4 col2\" >3.1732</td>\n",
       "                        <td id=\"T_87f6727c_7c79_11eb_9230_8c8590b50c4arow4_col3\" class=\"data row4 col3\" >0.9658</td>\n",
       "                        <td id=\"T_87f6727c_7c79_11eb_9230_8c8590b50c4arow4_col4\" class=\"data row4 col4\" >0.0070</td>\n",
       "                        <td id=\"T_87f6727c_7c79_11eb_9230_8c8590b50c4arow4_col5\" class=\"data row4 col5\" >0.0055</td>\n",
       "            </tr>\n",
       "            <tr>\n",
       "                        <th id=\"T_87f6727c_7c79_11eb_9230_8c8590b50c4alevel0_row5\" class=\"row_heading level0 row5\" >5</th>\n",
       "                        <td id=\"T_87f6727c_7c79_11eb_9230_8c8590b50c4arow5_col0\" class=\"data row5 col0\" >2.6287</td>\n",
       "                        <td id=\"T_87f6727c_7c79_11eb_9230_8c8590b50c4arow5_col1\" class=\"data row5 col1\" >11.8281</td>\n",
       "                        <td id=\"T_87f6727c_7c79_11eb_9230_8c8590b50c4arow5_col2\" class=\"data row5 col2\" >3.4392</td>\n",
       "                        <td id=\"T_87f6727c_7c79_11eb_9230_8c8590b50c4arow5_col3\" class=\"data row5 col3\" >0.9597</td>\n",
       "                        <td id=\"T_87f6727c_7c79_11eb_9230_8c8590b50c4arow5_col4\" class=\"data row5 col4\" >0.0076</td>\n",
       "                        <td id=\"T_87f6727c_7c79_11eb_9230_8c8590b50c4arow5_col5\" class=\"data row5 col5\" >0.0058</td>\n",
       "            </tr>\n",
       "            <tr>\n",
       "                        <th id=\"T_87f6727c_7c79_11eb_9230_8c8590b50c4alevel0_row6\" class=\"row_heading level0 row6\" >6</th>\n",
       "                        <td id=\"T_87f6727c_7c79_11eb_9230_8c8590b50c4arow6_col0\" class=\"data row6 col0\" >2.5850</td>\n",
       "                        <td id=\"T_87f6727c_7c79_11eb_9230_8c8590b50c4arow6_col1\" class=\"data row6 col1\" >17.9682</td>\n",
       "                        <td id=\"T_87f6727c_7c79_11eb_9230_8c8590b50c4arow6_col2\" class=\"data row6 col2\" >4.2389</td>\n",
       "                        <td id=\"T_87f6727c_7c79_11eb_9230_8c8590b50c4arow6_col3\" class=\"data row6 col3\" >0.9371</td>\n",
       "                        <td id=\"T_87f6727c_7c79_11eb_9230_8c8590b50c4arow6_col4\" class=\"data row6 col4\" >0.0093</td>\n",
       "                        <td id=\"T_87f6727c_7c79_11eb_9230_8c8590b50c4arow6_col5\" class=\"data row6 col5\" >0.0057</td>\n",
       "            </tr>\n",
       "            <tr>\n",
       "                        <th id=\"T_87f6727c_7c79_11eb_9230_8c8590b50c4alevel0_row7\" class=\"row_heading level0 row7\" >7</th>\n",
       "                        <td id=\"T_87f6727c_7c79_11eb_9230_8c8590b50c4arow7_col0\" class=\"data row7 col0\" >2.6148</td>\n",
       "                        <td id=\"T_87f6727c_7c79_11eb_9230_8c8590b50c4arow7_col1\" class=\"data row7 col1\" >14.9025</td>\n",
       "                        <td id=\"T_87f6727c_7c79_11eb_9230_8c8590b50c4arow7_col2\" class=\"data row7 col2\" >3.8604</td>\n",
       "                        <td id=\"T_87f6727c_7c79_11eb_9230_8c8590b50c4arow7_col3\" class=\"data row7 col3\" >0.9486</td>\n",
       "                        <td id=\"T_87f6727c_7c79_11eb_9230_8c8590b50c4arow7_col4\" class=\"data row7 col4\" >0.0084</td>\n",
       "                        <td id=\"T_87f6727c_7c79_11eb_9230_8c8590b50c4arow7_col5\" class=\"data row7 col5\" >0.0058</td>\n",
       "            </tr>\n",
       "            <tr>\n",
       "                        <th id=\"T_87f6727c_7c79_11eb_9230_8c8590b50c4alevel0_row8\" class=\"row_heading level0 row8\" >8</th>\n",
       "                        <td id=\"T_87f6727c_7c79_11eb_9230_8c8590b50c4arow8_col0\" class=\"data row8 col0\" >2.5477</td>\n",
       "                        <td id=\"T_87f6727c_7c79_11eb_9230_8c8590b50c4arow8_col1\" class=\"data row8 col1\" >11.8134</td>\n",
       "                        <td id=\"T_87f6727c_7c79_11eb_9230_8c8590b50c4arow8_col2\" class=\"data row8 col2\" >3.4371</td>\n",
       "                        <td id=\"T_87f6727c_7c79_11eb_9230_8c8590b50c4arow8_col3\" class=\"data row8 col3\" >0.9586</td>\n",
       "                        <td id=\"T_87f6727c_7c79_11eb_9230_8c8590b50c4arow8_col4\" class=\"data row8 col4\" >0.0076</td>\n",
       "                        <td id=\"T_87f6727c_7c79_11eb_9230_8c8590b50c4arow8_col5\" class=\"data row8 col5\" >0.0056</td>\n",
       "            </tr>\n",
       "            <tr>\n",
       "                        <th id=\"T_87f6727c_7c79_11eb_9230_8c8590b50c4alevel0_row9\" class=\"row_heading level0 row9\" >9</th>\n",
       "                        <td id=\"T_87f6727c_7c79_11eb_9230_8c8590b50c4arow9_col0\" class=\"data row9 col0\" >2.6718</td>\n",
       "                        <td id=\"T_87f6727c_7c79_11eb_9230_8c8590b50c4arow9_col1\" class=\"data row9 col1\" >13.6312</td>\n",
       "                        <td id=\"T_87f6727c_7c79_11eb_9230_8c8590b50c4arow9_col2\" class=\"data row9 col2\" >3.6920</td>\n",
       "                        <td id=\"T_87f6727c_7c79_11eb_9230_8c8590b50c4arow9_col3\" class=\"data row9 col3\" >0.9527</td>\n",
       "                        <td id=\"T_87f6727c_7c79_11eb_9230_8c8590b50c4arow9_col4\" class=\"data row9 col4\" >0.0081</td>\n",
       "                        <td id=\"T_87f6727c_7c79_11eb_9230_8c8590b50c4arow9_col5\" class=\"data row9 col5\" >0.0059</td>\n",
       "            </tr>\n",
       "            <tr>\n",
       "                        <th id=\"T_87f6727c_7c79_11eb_9230_8c8590b50c4alevel0_row10\" class=\"row_heading level0 row10\" >Mean</th>\n",
       "                        <td id=\"T_87f6727c_7c79_11eb_9230_8c8590b50c4arow10_col0\" class=\"data row10 col0\" >2.5775</td>\n",
       "                        <td id=\"T_87f6727c_7c79_11eb_9230_8c8590b50c4arow10_col1\" class=\"data row10 col1\" >12.7773</td>\n",
       "                        <td id=\"T_87f6727c_7c79_11eb_9230_8c8590b50c4arow10_col2\" class=\"data row10 col2\" >3.5616</td>\n",
       "                        <td id=\"T_87f6727c_7c79_11eb_9230_8c8590b50c4arow10_col3\" class=\"data row10 col3\" >0.9558</td>\n",
       "                        <td id=\"T_87f6727c_7c79_11eb_9230_8c8590b50c4arow10_col4\" class=\"data row10 col4\" >0.0078</td>\n",
       "                        <td id=\"T_87f6727c_7c79_11eb_9230_8c8590b50c4arow10_col5\" class=\"data row10 col5\" >0.0057</td>\n",
       "            </tr>\n",
       "            <tr>\n",
       "                        <th id=\"T_87f6727c_7c79_11eb_9230_8c8590b50c4alevel0_row11\" class=\"row_heading level0 row11\" >SD</th>\n",
       "                        <td id=\"T_87f6727c_7c79_11eb_9230_8c8590b50c4arow11_col0\" class=\"data row11 col0\" >0.0737</td>\n",
       "                        <td id=\"T_87f6727c_7c79_11eb_9230_8c8590b50c4arow11_col1\" class=\"data row11 col1\" >2.2366</td>\n",
       "                        <td id=\"T_87f6727c_7c79_11eb_9230_8c8590b50c4arow11_col2\" class=\"data row11 col2\" >0.3037</td>\n",
       "                        <td id=\"T_87f6727c_7c79_11eb_9230_8c8590b50c4arow11_col3\" class=\"data row11 col3\" >0.0080</td>\n",
       "                        <td id=\"T_87f6727c_7c79_11eb_9230_8c8590b50c4arow11_col4\" class=\"data row11 col4\" >0.0007</td>\n",
       "                        <td id=\"T_87f6727c_7c79_11eb_9230_8c8590b50c4arow11_col5\" class=\"data row11 col5\" >0.0002</td>\n",
       "            </tr>\n",
       "    </tbody></table>"
      ],
      "text/plain": [
       "<pandas.io.formats.style.Styler at 0x7fe4f06f8f28>"
      ]
     },
     "metadata": {},
     "output_type": "display_data"
    }
   ],
   "source": [
    "tuned_lightgbm = tune_model(lgbm)"
   ]
  },
  {
   "cell_type": "code",
   "execution_count": 30,
   "metadata": {},
   "outputs": [
    {
     "name": "stdout",
     "output_type": "stream",
     "text": [
      "LGBMRegressor(bagging_fraction=0.6, bagging_freq=2, boosting_type='gbdt',\n",
      "              class_weight=None, colsample_bytree=1.0, feature_fraction=0.4,\n",
      "              importance_type='split', learning_rate=0.1, max_depth=-1,\n",
      "              min_child_samples=41, min_child_weight=0.001, min_split_gain=0.9,\n",
      "              n_estimators=260, n_jobs=-1, num_leaves=70, objective=None,\n",
      "              random_state=123, reg_alpha=2, reg_lambda=3, silent=True,\n",
      "              subsample=1.0, subsample_for_bin=200000, subsample_freq=0)\n"
     ]
    }
   ],
   "source": [
    "print(tuned_lightgbm)"
   ]
  },
  {
   "cell_type": "code",
   "execution_count": 31,
   "metadata": {},
   "outputs": [
    {
     "data": {
      "text/html": [
       "<style  type=\"text/css\" >\n",
       "#T_2c741cb4_7c7a_11eb_9230_8c8590b50c4arow10_col0,#T_2c741cb4_7c7a_11eb_9230_8c8590b50c4arow10_col1,#T_2c741cb4_7c7a_11eb_9230_8c8590b50c4arow10_col2,#T_2c741cb4_7c7a_11eb_9230_8c8590b50c4arow10_col3,#T_2c741cb4_7c7a_11eb_9230_8c8590b50c4arow10_col4,#T_2c741cb4_7c7a_11eb_9230_8c8590b50c4arow10_col5{\n",
       "            background:  yellow;\n",
       "        }</style><table id=\"T_2c741cb4_7c7a_11eb_9230_8c8590b50c4a\" ><thead>    <tr>        <th class=\"blank level0\" ></th>        <th class=\"col_heading level0 col0\" >MAE</th>        <th class=\"col_heading level0 col1\" >MSE</th>        <th class=\"col_heading level0 col2\" >RMSE</th>        <th class=\"col_heading level0 col3\" >R2</th>        <th class=\"col_heading level0 col4\" >RMSLE</th>        <th class=\"col_heading level0 col5\" >MAPE</th>    </tr></thead><tbody>\n",
       "                <tr>\n",
       "                        <th id=\"T_2c741cb4_7c7a_11eb_9230_8c8590b50c4alevel0_row0\" class=\"row_heading level0 row0\" >0</th>\n",
       "                        <td id=\"T_2c741cb4_7c7a_11eb_9230_8c8590b50c4arow0_col0\" class=\"data row0 col0\" >2.5969</td>\n",
       "                        <td id=\"T_2c741cb4_7c7a_11eb_9230_8c8590b50c4arow0_col1\" class=\"data row0 col1\" >12.8126</td>\n",
       "                        <td id=\"T_2c741cb4_7c7a_11eb_9230_8c8590b50c4arow0_col2\" class=\"data row0 col2\" >3.5795</td>\n",
       "                        <td id=\"T_2c741cb4_7c7a_11eb_9230_8c8590b50c4arow0_col3\" class=\"data row0 col3\" >0.9541</td>\n",
       "                        <td id=\"T_2c741cb4_7c7a_11eb_9230_8c8590b50c4arow0_col4\" class=\"data row0 col4\" >0.0078</td>\n",
       "                        <td id=\"T_2c741cb4_7c7a_11eb_9230_8c8590b50c4arow0_col5\" class=\"data row0 col5\" >0.0057</td>\n",
       "            </tr>\n",
       "            <tr>\n",
       "                        <th id=\"T_2c741cb4_7c7a_11eb_9230_8c8590b50c4alevel0_row1\" class=\"row_heading level0 row1\" >1</th>\n",
       "                        <td id=\"T_2c741cb4_7c7a_11eb_9230_8c8590b50c4arow1_col0\" class=\"data row1 col0\" >2.5860</td>\n",
       "                        <td id=\"T_2c741cb4_7c7a_11eb_9230_8c8590b50c4arow1_col1\" class=\"data row1 col1\" >11.9389</td>\n",
       "                        <td id=\"T_2c741cb4_7c7a_11eb_9230_8c8590b50c4arow1_col2\" class=\"data row1 col2\" >3.4553</td>\n",
       "                        <td id=\"T_2c741cb4_7c7a_11eb_9230_8c8590b50c4arow1_col3\" class=\"data row1 col3\" >0.9591</td>\n",
       "                        <td id=\"T_2c741cb4_7c7a_11eb_9230_8c8590b50c4arow1_col4\" class=\"data row1 col4\" >0.0076</td>\n",
       "                        <td id=\"T_2c741cb4_7c7a_11eb_9230_8c8590b50c4arow1_col5\" class=\"data row1 col5\" >0.0057</td>\n",
       "            </tr>\n",
       "            <tr>\n",
       "                        <th id=\"T_2c741cb4_7c7a_11eb_9230_8c8590b50c4alevel0_row2\" class=\"row_heading level0 row2\" >2</th>\n",
       "                        <td id=\"T_2c741cb4_7c7a_11eb_9230_8c8590b50c4arow2_col0\" class=\"data row2 col0\" >2.5895</td>\n",
       "                        <td id=\"T_2c741cb4_7c7a_11eb_9230_8c8590b50c4arow2_col1\" class=\"data row2 col1\" >12.3445</td>\n",
       "                        <td id=\"T_2c741cb4_7c7a_11eb_9230_8c8590b50c4arow2_col2\" class=\"data row2 col2\" >3.5135</td>\n",
       "                        <td id=\"T_2c741cb4_7c7a_11eb_9230_8c8590b50c4arow2_col3\" class=\"data row2 col3\" >0.9588</td>\n",
       "                        <td id=\"T_2c741cb4_7c7a_11eb_9230_8c8590b50c4arow2_col4\" class=\"data row2 col4\" >0.0077</td>\n",
       "                        <td id=\"T_2c741cb4_7c7a_11eb_9230_8c8590b50c4arow2_col5\" class=\"data row2 col5\" >0.0057</td>\n",
       "            </tr>\n",
       "            <tr>\n",
       "                        <th id=\"T_2c741cb4_7c7a_11eb_9230_8c8590b50c4alevel0_row3\" class=\"row_heading level0 row3\" >3</th>\n",
       "                        <td id=\"T_2c741cb4_7c7a_11eb_9230_8c8590b50c4arow3_col0\" class=\"data row3 col0\" >2.6404</td>\n",
       "                        <td id=\"T_2c741cb4_7c7a_11eb_9230_8c8590b50c4arow3_col1\" class=\"data row3 col1\" >11.6434</td>\n",
       "                        <td id=\"T_2c741cb4_7c7a_11eb_9230_8c8590b50c4arow3_col2\" class=\"data row3 col2\" >3.4122</td>\n",
       "                        <td id=\"T_2c741cb4_7c7a_11eb_9230_8c8590b50c4arow3_col3\" class=\"data row3 col3\" >0.9588</td>\n",
       "                        <td id=\"T_2c741cb4_7c7a_11eb_9230_8c8590b50c4arow3_col4\" class=\"data row3 col4\" >0.0075</td>\n",
       "                        <td id=\"T_2c741cb4_7c7a_11eb_9230_8c8590b50c4arow3_col5\" class=\"data row3 col5\" >0.0058</td>\n",
       "            </tr>\n",
       "            <tr>\n",
       "                        <th id=\"T_2c741cb4_7c7a_11eb_9230_8c8590b50c4alevel0_row4\" class=\"row_heading level0 row4\" >4</th>\n",
       "                        <td id=\"T_2c741cb4_7c7a_11eb_9230_8c8590b50c4arow4_col0\" class=\"data row4 col0\" >2.6119</td>\n",
       "                        <td id=\"T_2c741cb4_7c7a_11eb_9230_8c8590b50c4arow4_col1\" class=\"data row4 col1\" >10.8081</td>\n",
       "                        <td id=\"T_2c741cb4_7c7a_11eb_9230_8c8590b50c4arow4_col2\" class=\"data row4 col2\" >3.2876</td>\n",
       "                        <td id=\"T_2c741cb4_7c7a_11eb_9230_8c8590b50c4arow4_col3\" class=\"data row4 col3\" >0.9633</td>\n",
       "                        <td id=\"T_2c741cb4_7c7a_11eb_9230_8c8590b50c4arow4_col4\" class=\"data row4 col4\" >0.0072</td>\n",
       "                        <td id=\"T_2c741cb4_7c7a_11eb_9230_8c8590b50c4arow4_col5\" class=\"data row4 col5\" >0.0058</td>\n",
       "            </tr>\n",
       "            <tr>\n",
       "                        <th id=\"T_2c741cb4_7c7a_11eb_9230_8c8590b50c4alevel0_row5\" class=\"row_heading level0 row5\" >5</th>\n",
       "                        <td id=\"T_2c741cb4_7c7a_11eb_9230_8c8590b50c4arow5_col0\" class=\"data row5 col0\" >2.5991</td>\n",
       "                        <td id=\"T_2c741cb4_7c7a_11eb_9230_8c8590b50c4arow5_col1\" class=\"data row5 col1\" >11.2820</td>\n",
       "                        <td id=\"T_2c741cb4_7c7a_11eb_9230_8c8590b50c4arow5_col2\" class=\"data row5 col2\" >3.3589</td>\n",
       "                        <td id=\"T_2c741cb4_7c7a_11eb_9230_8c8590b50c4arow5_col3\" class=\"data row5 col3\" >0.9616</td>\n",
       "                        <td id=\"T_2c741cb4_7c7a_11eb_9230_8c8590b50c4arow5_col4\" class=\"data row5 col4\" >0.0074</td>\n",
       "                        <td id=\"T_2c741cb4_7c7a_11eb_9230_8c8590b50c4arow5_col5\" class=\"data row5 col5\" >0.0057</td>\n",
       "            </tr>\n",
       "            <tr>\n",
       "                        <th id=\"T_2c741cb4_7c7a_11eb_9230_8c8590b50c4alevel0_row6\" class=\"row_heading level0 row6\" >6</th>\n",
       "                        <td id=\"T_2c741cb4_7c7a_11eb_9230_8c8590b50c4arow6_col0\" class=\"data row6 col0\" >2.6805</td>\n",
       "                        <td id=\"T_2c741cb4_7c7a_11eb_9230_8c8590b50c4arow6_col1\" class=\"data row6 col1\" >18.4051</td>\n",
       "                        <td id=\"T_2c741cb4_7c7a_11eb_9230_8c8590b50c4arow6_col2\" class=\"data row6 col2\" >4.2901</td>\n",
       "                        <td id=\"T_2c741cb4_7c7a_11eb_9230_8c8590b50c4arow6_col3\" class=\"data row6 col3\" >0.9356</td>\n",
       "                        <td id=\"T_2c741cb4_7c7a_11eb_9230_8c8590b50c4arow6_col4\" class=\"data row6 col4\" >0.0094</td>\n",
       "                        <td id=\"T_2c741cb4_7c7a_11eb_9230_8c8590b50c4arow6_col5\" class=\"data row6 col5\" >0.0059</td>\n",
       "            </tr>\n",
       "            <tr>\n",
       "                        <th id=\"T_2c741cb4_7c7a_11eb_9230_8c8590b50c4alevel0_row7\" class=\"row_heading level0 row7\" >7</th>\n",
       "                        <td id=\"T_2c741cb4_7c7a_11eb_9230_8c8590b50c4arow7_col0\" class=\"data row7 col0\" >2.7230</td>\n",
       "                        <td id=\"T_2c741cb4_7c7a_11eb_9230_8c8590b50c4arow7_col1\" class=\"data row7 col1\" >15.3459</td>\n",
       "                        <td id=\"T_2c741cb4_7c7a_11eb_9230_8c8590b50c4arow7_col2\" class=\"data row7 col2\" >3.9174</td>\n",
       "                        <td id=\"T_2c741cb4_7c7a_11eb_9230_8c8590b50c4arow7_col3\" class=\"data row7 col3\" >0.9471</td>\n",
       "                        <td id=\"T_2c741cb4_7c7a_11eb_9230_8c8590b50c4arow7_col4\" class=\"data row7 col4\" >0.0086</td>\n",
       "                        <td id=\"T_2c741cb4_7c7a_11eb_9230_8c8590b50c4arow7_col5\" class=\"data row7 col5\" >0.0060</td>\n",
       "            </tr>\n",
       "            <tr>\n",
       "                        <th id=\"T_2c741cb4_7c7a_11eb_9230_8c8590b50c4alevel0_row8\" class=\"row_heading level0 row8\" >8</th>\n",
       "                        <td id=\"T_2c741cb4_7c7a_11eb_9230_8c8590b50c4arow8_col0\" class=\"data row8 col0\" >2.6364</td>\n",
       "                        <td id=\"T_2c741cb4_7c7a_11eb_9230_8c8590b50c4arow8_col1\" class=\"data row8 col1\" >12.7323</td>\n",
       "                        <td id=\"T_2c741cb4_7c7a_11eb_9230_8c8590b50c4arow8_col2\" class=\"data row8 col2\" >3.5682</td>\n",
       "                        <td id=\"T_2c741cb4_7c7a_11eb_9230_8c8590b50c4arow8_col3\" class=\"data row8 col3\" >0.9554</td>\n",
       "                        <td id=\"T_2c741cb4_7c7a_11eb_9230_8c8590b50c4arow8_col4\" class=\"data row8 col4\" >0.0078</td>\n",
       "                        <td id=\"T_2c741cb4_7c7a_11eb_9230_8c8590b50c4arow8_col5\" class=\"data row8 col5\" >0.0058</td>\n",
       "            </tr>\n",
       "            <tr>\n",
       "                        <th id=\"T_2c741cb4_7c7a_11eb_9230_8c8590b50c4alevel0_row9\" class=\"row_heading level0 row9\" >9</th>\n",
       "                        <td id=\"T_2c741cb4_7c7a_11eb_9230_8c8590b50c4arow9_col0\" class=\"data row9 col0\" >2.5781</td>\n",
       "                        <td id=\"T_2c741cb4_7c7a_11eb_9230_8c8590b50c4arow9_col1\" class=\"data row9 col1\" >13.2296</td>\n",
       "                        <td id=\"T_2c741cb4_7c7a_11eb_9230_8c8590b50c4arow9_col2\" class=\"data row9 col2\" >3.6373</td>\n",
       "                        <td id=\"T_2c741cb4_7c7a_11eb_9230_8c8590b50c4arow9_col3\" class=\"data row9 col3\" >0.9541</td>\n",
       "                        <td id=\"T_2c741cb4_7c7a_11eb_9230_8c8590b50c4arow9_col4\" class=\"data row9 col4\" >0.0080</td>\n",
       "                        <td id=\"T_2c741cb4_7c7a_11eb_9230_8c8590b50c4arow9_col5\" class=\"data row9 col5\" >0.0057</td>\n",
       "            </tr>\n",
       "            <tr>\n",
       "                        <th id=\"T_2c741cb4_7c7a_11eb_9230_8c8590b50c4alevel0_row10\" class=\"row_heading level0 row10\" >Mean</th>\n",
       "                        <td id=\"T_2c741cb4_7c7a_11eb_9230_8c8590b50c4arow10_col0\" class=\"data row10 col0\" >2.6242</td>\n",
       "                        <td id=\"T_2c741cb4_7c7a_11eb_9230_8c8590b50c4arow10_col1\" class=\"data row10 col1\" >13.0542</td>\n",
       "                        <td id=\"T_2c741cb4_7c7a_11eb_9230_8c8590b50c4arow10_col2\" class=\"data row10 col2\" >3.6020</td>\n",
       "                        <td id=\"T_2c741cb4_7c7a_11eb_9230_8c8590b50c4arow10_col3\" class=\"data row10 col3\" >0.9548</td>\n",
       "                        <td id=\"T_2c741cb4_7c7a_11eb_9230_8c8590b50c4arow10_col4\" class=\"data row10 col4\" >0.0079</td>\n",
       "                        <td id=\"T_2c741cb4_7c7a_11eb_9230_8c8590b50c4arow10_col5\" class=\"data row10 col5\" >0.0058</td>\n",
       "            </tr>\n",
       "            <tr>\n",
       "                        <th id=\"T_2c741cb4_7c7a_11eb_9230_8c8590b50c4alevel0_row11\" class=\"row_heading level0 row11\" >SD</th>\n",
       "                        <td id=\"T_2c741cb4_7c7a_11eb_9230_8c8590b50c4arow11_col0\" class=\"data row11 col0\" >0.0443</td>\n",
       "                        <td id=\"T_2c741cb4_7c7a_11eb_9230_8c8590b50c4arow11_col1\" class=\"data row11 col1\" >2.1448</td>\n",
       "                        <td id=\"T_2c741cb4_7c7a_11eb_9230_8c8590b50c4arow11_col2\" class=\"data row11 col2\" >0.2827</td>\n",
       "                        <td id=\"T_2c741cb4_7c7a_11eb_9230_8c8590b50c4arow11_col3\" class=\"data row11 col3\" >0.0077</td>\n",
       "                        <td id=\"T_2c741cb4_7c7a_11eb_9230_8c8590b50c4arow11_col4\" class=\"data row11 col4\" >0.0006</td>\n",
       "                        <td id=\"T_2c741cb4_7c7a_11eb_9230_8c8590b50c4arow11_col5\" class=\"data row11 col5\" >0.0001</td>\n",
       "            </tr>\n",
       "    </tbody></table>"
      ],
      "text/plain": [
       "<pandas.io.formats.style.Styler at 0x7fe4f3b1ac18>"
      ]
     },
     "metadata": {},
     "output_type": "display_data"
    }
   ],
   "source": [
    "tuned_rf = tune_model(rf)"
   ]
  },
  {
   "cell_type": "code",
   "execution_count": 32,
   "metadata": {},
   "outputs": [
    {
     "name": "stdout",
     "output_type": "stream",
     "text": [
      "RandomForestRegressor(bootstrap=False, ccp_alpha=0.0, criterion='mse',\n",
      "                      max_depth=11, max_features='sqrt', max_leaf_nodes=None,\n",
      "                      max_samples=None, min_impurity_decrease=0.0002,\n",
      "                      min_impurity_split=None, min_samples_leaf=5,\n",
      "                      min_samples_split=7, min_weight_fraction_leaf=0.0,\n",
      "                      n_estimators=200, n_jobs=-1, oob_score=False,\n",
      "                      random_state=123, verbose=0, warm_start=False)\n"
     ]
    }
   ],
   "source": [
    "print(tuned_rf)"
   ]
  },
  {
   "cell_type": "markdown",
   "metadata": {},
   "source": [
    "## Plot a Model \n",
    "\n"
   ]
  },
  {
   "cell_type": "code",
   "execution_count": 33,
   "metadata": {},
   "outputs": [
    {
     "data": {
      "image/png": "[encoded data removed]",
      "text/plain": [
       "<Figure size 576x396 with 2 Axes>"
      ]
     },
     "metadata": {},
     "output_type": "display_data"
    }
   ],
   "source": [
    "# Residual Plot\n",
    "\n",
    "plot_model(tuned_xgboost)\n"
   ]
  },
  {
   "cell_type": "code",
   "execution_count": 35,
   "metadata": {},
   "outputs": [
    {
     "data": {
      "image/png": "[encoded data removed]",
      "text/plain": [
       "<Figure size 576x396 with 1 Axes>"
      ]
     },
     "metadata": {},
     "output_type": "display_data"
    }
   ],
   "source": [
    "# Prediction Error Plot\n",
    "\n",
    "plot_model(tuned_xgboost, plot = 'error')"
   ]
  },
  {
   "cell_type": "code",
   "execution_count": 36,
   "metadata": {},
   "outputs": [
    {
     "data": {
      "image/png": "[encoded data removed]",
      "text/plain": [
       "<Figure size 800x500 with 1 Axes>"
      ]
     },
     "metadata": {},
     "output_type": "display_data"
    }
   ],
   "source": [
    "# Feature Importance Plot \n",
    "\n",
    "plot_model(tuned_xgboost, plot='feature')"
   ]
  },
  {
   "cell_type": "markdown",
   "metadata": {},
   "source": [
    "Based on the plot above, ambient temperature (AT) contributes the most towards PE"
   ]
  },
  {
   "cell_type": "markdown",
   "metadata": {},
   "source": [
    "## Plotting all graphs at once using the evaluate_model function"
   ]
  },
  {
   "cell_type": "code",
   "execution_count": 39,
   "metadata": {},
   "outputs": [
    {
     "data": {
      "image/png": "[encoded data removed]",
      "text/plain": [
       "<Figure size 576x396 with 1 Axes>"
      ]
     },
     "metadata": {},
     "output_type": "display_data"
    },
    {
     "data": {
      "application/vnd.jupyter.widget-view+json": {
       "model_id": "4f04e09ea6d145f79302a3b4f6331c8a",
       "version_major": 2,
       "version_minor": 0
      },
      "text/plain": [
       "interactive(children=(ToggleButtons(description='Plot Type:', icons=('',), options=(('Hyperparameters', 'param…"
      ]
     },
     "metadata": {},
     "output_type": "display_data"
    }
   ],
   "source": [
    "evaluate_model(tuned_xgboost)"
   ]
  },
  {
   "cell_type": "markdown",
   "metadata": {},
   "source": [
    "## Prediction on Test Set"
   ]
  },
  {
   "cell_type": "code",
   "execution_count": 42,
   "metadata": {},
   "outputs": [
    {
     "data": {
      "text/html": [
       "<style  type=\"text/css\" >\n",
       "</style><table id=\"T_02f168d6_7c7c_11eb_9230_8c8590b50c4a\" ><thead>    <tr>        <th class=\"blank level0\" ></th>        <th class=\"col_heading level0 col0\" >Model</th>        <th class=\"col_heading level0 col1\" >MAE</th>        <th class=\"col_heading level0 col2\" >MSE</th>        <th class=\"col_heading level0 col3\" >RMSE</th>        <th class=\"col_heading level0 col4\" >R2</th>        <th class=\"col_heading level0 col5\" >RMSLE</th>        <th class=\"col_heading level0 col6\" >MAPE</th>    </tr></thead><tbody>\n",
       "                <tr>\n",
       "                        <th id=\"T_02f168d6_7c7c_11eb_9230_8c8590b50c4alevel0_row0\" class=\"row_heading level0 row0\" >0</th>\n",
       "                        <td id=\"T_02f168d6_7c7c_11eb_9230_8c8590b50c4arow0_col0\" class=\"data row0 col0\" >Extreme Gradient Boosting</td>\n",
       "                        <td id=\"T_02f168d6_7c7c_11eb_9230_8c8590b50c4arow0_col1\" class=\"data row0 col1\" >2.2767</td>\n",
       "                        <td id=\"T_02f168d6_7c7c_11eb_9230_8c8590b50c4arow0_col2\" class=\"data row0 col2\" >10.1624</td>\n",
       "                        <td id=\"T_02f168d6_7c7c_11eb_9230_8c8590b50c4arow0_col3\" class=\"data row0 col3\" >3.1879</td>\n",
       "                        <td id=\"T_02f168d6_7c7c_11eb_9230_8c8590b50c4arow0_col4\" class=\"data row0 col4\" >0.9657</td>\n",
       "                        <td id=\"T_02f168d6_7c7c_11eb_9230_8c8590b50c4arow0_col5\" class=\"data row0 col5\" >0.0070</td>\n",
       "                        <td id=\"T_02f168d6_7c7c_11eb_9230_8c8590b50c4arow0_col6\" class=\"data row0 col6\" >0.0050</td>\n",
       "            </tr>\n",
       "    </tbody></table>"
      ],
      "text/plain": [
       "<pandas.io.formats.style.Styler at 0x7fe4dac2d2e8>"
      ]
     },
     "metadata": {},
     "output_type": "display_data"
    }
   ],
   "source": [
    "predict_model(tuned_xgboost);"
   ]
  },
  {
   "cell_type": "markdown",
   "metadata": {},
   "source": [
    "Actual R2 : 0.9603\n",
    "\n",
    "Predicted R2 : 0.9657\n",
    "    "
   ]
  },
  {
   "cell_type": "code",
   "execution_count": 43,
   "metadata": {},
   "outputs": [
    {
     "data": {
      "text/html": [
       "<style  type=\"text/css\" >\n",
       "</style><table id=\"T_21cd6c64_7c7c_11eb_9230_8c8590b50c4a\" ><thead>    <tr>        <th class=\"blank level0\" ></th>        <th class=\"col_heading level0 col0\" >Model</th>        <th class=\"col_heading level0 col1\" >MAE</th>        <th class=\"col_heading level0 col2\" >MSE</th>        <th class=\"col_heading level0 col3\" >RMSE</th>        <th class=\"col_heading level0 col4\" >R2</th>        <th class=\"col_heading level0 col5\" >RMSLE</th>        <th class=\"col_heading level0 col6\" >MAPE</th>    </tr></thead><tbody>\n",
       "                <tr>\n",
       "                        <th id=\"T_21cd6c64_7c7c_11eb_9230_8c8590b50c4alevel0_row0\" class=\"row_heading level0 row0\" >0</th>\n",
       "                        <td id=\"T_21cd6c64_7c7c_11eb_9230_8c8590b50c4arow0_col0\" class=\"data row0 col0\" >Light Gradient Boosting Machine</td>\n",
       "                        <td id=\"T_21cd6c64_7c7c_11eb_9230_8c8590b50c4arow0_col1\" class=\"data row0 col1\" >2.5155</td>\n",
       "                        <td id=\"T_21cd6c64_7c7c_11eb_9230_8c8590b50c4arow0_col2\" class=\"data row0 col2\" >11.5669</td>\n",
       "                        <td id=\"T_21cd6c64_7c7c_11eb_9230_8c8590b50c4arow0_col3\" class=\"data row0 col3\" >3.4010</td>\n",
       "                        <td id=\"T_21cd6c64_7c7c_11eb_9230_8c8590b50c4arow0_col4\" class=\"data row0 col4\" >0.9609</td>\n",
       "                        <td id=\"T_21cd6c64_7c7c_11eb_9230_8c8590b50c4arow0_col5\" class=\"data row0 col5\" >0.0075</td>\n",
       "                        <td id=\"T_21cd6c64_7c7c_11eb_9230_8c8590b50c4arow0_col6\" class=\"data row0 col6\" >0.0055</td>\n",
       "            </tr>\n",
       "    </tbody></table>"
      ],
      "text/plain": [
       "<pandas.io.formats.style.Styler at 0x7fe4dac2d1d0>"
      ]
     },
     "metadata": {},
     "output_type": "display_data"
    }
   ],
   "source": [
    "predict_model(tuned_lightgbm);"
   ]
  },
  {
   "cell_type": "markdown",
   "metadata": {},
   "source": [
    "Actual R2 : 0.9558\n",
    "\n",
    "Predicted R2 : 0.9609\n",
    "    "
   ]
  },
  {
   "cell_type": "code",
   "execution_count": 44,
   "metadata": {},
   "outputs": [
    {
     "data": {
      "text/html": [
       "<style  type=\"text/css\" >\n",
       "</style><table id=\"T_3cbe8242_7c7c_11eb_9230_8c8590b50c4a\" ><thead>    <tr>        <th class=\"blank level0\" ></th>        <th class=\"col_heading level0 col0\" >Model</th>        <th class=\"col_heading level0 col1\" >MAE</th>        <th class=\"col_heading level0 col2\" >MSE</th>        <th class=\"col_heading level0 col3\" >RMSE</th>        <th class=\"col_heading level0 col4\" >R2</th>        <th class=\"col_heading level0 col5\" >RMSLE</th>        <th class=\"col_heading level0 col6\" >MAPE</th>    </tr></thead><tbody>\n",
       "                <tr>\n",
       "                        <th id=\"T_3cbe8242_7c7c_11eb_9230_8c8590b50c4alevel0_row0\" class=\"row_heading level0 row0\" >0</th>\n",
       "                        <td id=\"T_3cbe8242_7c7c_11eb_9230_8c8590b50c4arow0_col0\" class=\"data row0 col0\" >Random Forest Regressor</td>\n",
       "                        <td id=\"T_3cbe8242_7c7c_11eb_9230_8c8590b50c4arow0_col1\" class=\"data row0 col1\" >2.5500</td>\n",
       "                        <td id=\"T_3cbe8242_7c7c_11eb_9230_8c8590b50c4arow0_col2\" class=\"data row0 col2\" >12.0772</td>\n",
       "                        <td id=\"T_3cbe8242_7c7c_11eb_9230_8c8590b50c4arow0_col3\" class=\"data row0 col3\" >3.4752</td>\n",
       "                        <td id=\"T_3cbe8242_7c7c_11eb_9230_8c8590b50c4arow0_col4\" class=\"data row0 col4\" >0.9592</td>\n",
       "                        <td id=\"T_3cbe8242_7c7c_11eb_9230_8c8590b50c4arow0_col5\" class=\"data row0 col5\" >0.0076</td>\n",
       "                        <td id=\"T_3cbe8242_7c7c_11eb_9230_8c8590b50c4arow0_col6\" class=\"data row0 col6\" >0.0056</td>\n",
       "            </tr>\n",
       "    </tbody></table>"
      ],
      "text/plain": [
       "<pandas.io.formats.style.Styler at 0x7fe4db1e80f0>"
      ]
     },
     "metadata": {},
     "output_type": "display_data"
    }
   ],
   "source": [
    "predict_model(tuned_rf);"
   ]
  },
  {
   "cell_type": "markdown",
   "metadata": {},
   "source": [
    "Actual R2 : 0.9548\n",
    "\n",
    "Predicted R2 : 0.9592\n",
    "    "
   ]
  },
  {
   "cell_type": "markdown",
   "metadata": {},
   "source": [
    "## Finalize Model for Deployment"
   ]
  },
  {
   "cell_type": "code",
   "execution_count": 46,
   "metadata": {},
   "outputs": [],
   "source": [
    "final_xgb = finalize_model(tuned_xgboost)"
   ]
  },
  {
   "cell_type": "code",
   "execution_count": 47,
   "metadata": {},
   "outputs": [
    {
     "name": "stdout",
     "output_type": "stream",
     "text": [
      "XGBRegressor(base_score=0.5, booster='gbtree', colsample_bylevel=1,\n",
      "             colsample_bynode=1, colsample_bytree=0.9, gamma=0, gpu_id=-1,\n",
      "             importance_type='gain', interaction_constraints='',\n",
      "             learning_rate=0.15, max_delta_step=0, max_depth=7,\n",
      "             min_child_weight=3, missing=nan, monotone_constraints='()',\n",
      "             n_estimators=290, n_jobs=-1, num_parallel_tree=1,\n",
      "             objective='reg:squarederror', random_state=123, reg_alpha=2,\n",
      "             reg_lambda=0.7, scale_pos_weight=37.1, subsample=0.7,\n",
      "             tree_method='auto', validate_parameters=1, verbosity=0)\n"
     ]
    }
   ],
   "source": [
    "print(final_xgb)"
   ]
  },
  {
   "cell_type": "markdown",
   "metadata": {},
   "source": [
    "## Predict on Unseen Data"
   ]
  },
  {
   "cell_type": "markdown",
   "metadata": {},
   "source": [
    "*The predict_model() function is also used to predict on the unseen dataset. The only difference from section 11 above is that this time we will pass the data_unseen parameter. data_unseen is the variable created at the beginning of the tutorial and contains 10% (1914) of the original dataset which was never exposed to PyCaret*"
   ]
  },
  {
   "cell_type": "code",
   "execution_count": 48,
   "metadata": {},
   "outputs": [
    {
     "data": {
      "text/html": [
       "<div>\n",
       "<style scoped>\n",
       "    .dataframe tbody tr th:only-of-type {\n",
       "        vertical-align: middle;\n",
       "    }\n",
       "\n",
       "    .dataframe tbody tr th {\n",
       "        vertical-align: top;\n",
       "    }\n",
       "\n",
       "    .dataframe thead th {\n",
       "        text-align: right;\n",
       "    }\n",
       "</style>\n",
       "<table border=\"1\" class=\"dataframe\">\n",
       "  <thead>\n",
       "    <tr style=\"text-align: right;\">\n",
       "      <th></th>\n",
       "      <th>AT</th>\n",
       "      <th>V</th>\n",
       "      <th>AP</th>\n",
       "      <th>RH</th>\n",
       "      <th>PE</th>\n",
       "      <th>Label</th>\n",
       "    </tr>\n",
       "  </thead>\n",
       "  <tbody>\n",
       "    <tr>\n",
       "      <th>0</th>\n",
       "      <td>25.18</td>\n",
       "      <td>62.96</td>\n",
       "      <td>1020.04</td>\n",
       "      <td>59.08</td>\n",
       "      <td>444.37</td>\n",
       "      <td>444.548798</td>\n",
       "    </tr>\n",
       "    <tr>\n",
       "      <th>1</th>\n",
       "      <td>26.27</td>\n",
       "      <td>59.44</td>\n",
       "      <td>1012.23</td>\n",
       "      <td>58.77</td>\n",
       "      <td>443.67</td>\n",
       "      <td>445.010315</td>\n",
       "    </tr>\n",
       "    <tr>\n",
       "      <th>2</th>\n",
       "      <td>14.64</td>\n",
       "      <td>45.00</td>\n",
       "      <td>1021.78</td>\n",
       "      <td>41.25</td>\n",
       "      <td>475.98</td>\n",
       "      <td>470.347473</td>\n",
       "    </tr>\n",
       "    <tr>\n",
       "      <th>3</th>\n",
       "      <td>24.34</td>\n",
       "      <td>73.50</td>\n",
       "      <td>1011.31</td>\n",
       "      <td>84.15</td>\n",
       "      <td>440.29</td>\n",
       "      <td>437.442474</td>\n",
       "    </tr>\n",
       "    <tr>\n",
       "      <th>4</th>\n",
       "      <td>14.45</td>\n",
       "      <td>52.75</td>\n",
       "      <td>1023.97</td>\n",
       "      <td>63.59</td>\n",
       "      <td>459.85</td>\n",
       "      <td>462.504578</td>\n",
       "    </tr>\n",
       "  </tbody>\n",
       "</table>\n",
       "</div>"
      ],
      "text/plain": [
       "      AT      V       AP     RH      PE       Label\n",
       "0  25.18  62.96  1020.04  59.08  444.37  444.548798\n",
       "1  26.27  59.44  1012.23  58.77  443.67  445.010315\n",
       "2  14.64  45.00  1021.78  41.25  475.98  470.347473\n",
       "3  24.34  73.50  1011.31  84.15  440.29  437.442474\n",
       "4  14.45  52.75  1023.97  63.59  459.85  462.504578"
      ]
     },
     "execution_count": 48,
     "metadata": {},
     "output_type": "execute_result"
    }
   ],
   "source": [
    "unseen_predictions = predict_model(final_xgb, data=data_unseen)\n",
    "unseen_predictions.head()"
   ]
  },
  {
   "cell_type": "markdown",
   "metadata": {},
   "source": [
    "The Label column is added onto the data_unseen set. Label is the predicted value using the final_lightgbm model. If you want predictions to be rounded, you can use round parameter inside predict_model(). You can also check the metrics on this since you have actual target column **PE** available. To do that we will use pycaret.utils module. See example below:"
   ]
  },
  {
   "cell_type": "code",
   "execution_count": 49,
   "metadata": {},
   "outputs": [
    {
     "data": {
      "text/plain": [
       "0.9693"
      ]
     },
     "execution_count": 49,
     "metadata": {},
     "output_type": "execute_result"
    }
   ],
   "source": [
    "from pycaret.utils import check_metric\n",
    "check_metric(unseen_predictions.PE, unseen_predictions.Label, 'R2') "
   ]
  },
  {
   "cell_type": "markdown",
   "metadata": {},
   "source": [
    "## Saving the Model "
   ]
  },
  {
   "cell_type": "code",
   "execution_count": 50,
   "metadata": {},
   "outputs": [
    {
     "name": "stdout",
     "output_type": "stream",
     "text": [
      "Transformation Pipeline and Model Succesfully Saved\n"
     ]
    },
    {
     "data": {
      "text/plain": [
       "(Pipeline(memory=None,\n",
       "          steps=[('dtypes',\n",
       "                  DataTypes_Auto_infer(categorical_features=[],\n",
       "                                       display_types=True, features_todrop=[],\n",
       "                                       id_columns=[], ml_usecase='regression',\n",
       "                                       numerical_features=[], target='PE',\n",
       "                                       time_features=[])),\n",
       "                 ('imputer',\n",
       "                  Simple_Imputer(categorical_strategy='not_available',\n",
       "                                 fill_value_categorical=None,\n",
       "                                 fill_value_numerical=None,\n",
       "                                 numeric_strategy='mea...\n",
       "                               interaction_constraints='', learning_rate=0.15,\n",
       "                               max_delta_step=0, max_depth=7, min_child_weight=3,\n",
       "                               missing=nan, monotone_constraints='()',\n",
       "                               n_estimators=290, n_jobs=-1, num_parallel_tree=1,\n",
       "                               objective='reg:squarederror', random_state=123,\n",
       "                               reg_alpha=2, reg_lambda=0.7,\n",
       "                               scale_pos_weight=37.1, subsample=0.7,\n",
       "                               tree_method='auto', validate_parameters=1,\n",
       "                               verbosity=0)]],\n",
       "          verbose=False),\n",
       " 'Final XGBoost Model 3March2021.pkl')"
      ]
     },
     "execution_count": 50,
     "metadata": {},
     "output_type": "execute_result"
    }
   ],
   "source": [
    "save_model(final_xgb,'Final XGBoost Model 3March2021') # Saved using Pickle"
   ]
  },
  {
   "cell_type": "markdown",
   "metadata": {},
   "source": [
    "## Load the saved model and make predictions on unseen data"
   ]
  },
  {
   "cell_type": "code",
   "execution_count": 51,
   "metadata": {},
   "outputs": [
    {
     "name": "stdout",
     "output_type": "stream",
     "text": [
      "Transformation Pipeline and Model Successfully Loaded\n"
     ]
    }
   ],
   "source": [
    "saved_final_xgboost = load_model('Final XGBoost Model 3March2021')"
   ]
  },
  {
   "cell_type": "code",
   "execution_count": 52,
   "metadata": {},
   "outputs": [],
   "source": [
    "new_pred = predict_model(saved_final_xgboost, data=data_unseen)"
   ]
  },
  {
   "cell_type": "code",
   "execution_count": 53,
   "metadata": {},
   "outputs": [
    {
     "data": {
      "text/html": [
       "<div>\n",
       "<style scoped>\n",
       "    .dataframe tbody tr th:only-of-type {\n",
       "        vertical-align: middle;\n",
       "    }\n",
       "\n",
       "    .dataframe tbody tr th {\n",
       "        vertical-align: top;\n",
       "    }\n",
       "\n",
       "    .dataframe thead th {\n",
       "        text-align: right;\n",
       "    }\n",
       "</style>\n",
       "<table border=\"1\" class=\"dataframe\">\n",
       "  <thead>\n",
       "    <tr style=\"text-align: right;\">\n",
       "      <th></th>\n",
       "      <th>AT</th>\n",
       "      <th>V</th>\n",
       "      <th>AP</th>\n",
       "      <th>RH</th>\n",
       "      <th>PE</th>\n",
       "      <th>Label</th>\n",
       "    </tr>\n",
       "  </thead>\n",
       "  <tbody>\n",
       "    <tr>\n",
       "      <th>0</th>\n",
       "      <td>25.18</td>\n",
       "      <td>62.96</td>\n",
       "      <td>1020.04</td>\n",
       "      <td>59.08</td>\n",
       "      <td>444.37</td>\n",
       "      <td>444.548798</td>\n",
       "    </tr>\n",
       "    <tr>\n",
       "      <th>1</th>\n",
       "      <td>26.27</td>\n",
       "      <td>59.44</td>\n",
       "      <td>1012.23</td>\n",
       "      <td>58.77</td>\n",
       "      <td>443.67</td>\n",
       "      <td>445.010315</td>\n",
       "    </tr>\n",
       "    <tr>\n",
       "      <th>2</th>\n",
       "      <td>14.64</td>\n",
       "      <td>45.00</td>\n",
       "      <td>1021.78</td>\n",
       "      <td>41.25</td>\n",
       "      <td>475.98</td>\n",
       "      <td>470.347473</td>\n",
       "    </tr>\n",
       "    <tr>\n",
       "      <th>3</th>\n",
       "      <td>24.34</td>\n",
       "      <td>73.50</td>\n",
       "      <td>1011.31</td>\n",
       "      <td>84.15</td>\n",
       "      <td>440.29</td>\n",
       "      <td>437.442474</td>\n",
       "    </tr>\n",
       "    <tr>\n",
       "      <th>4</th>\n",
       "      <td>14.45</td>\n",
       "      <td>52.75</td>\n",
       "      <td>1023.97</td>\n",
       "      <td>63.59</td>\n",
       "      <td>459.85</td>\n",
       "      <td>462.504578</td>\n",
       "    </tr>\n",
       "  </tbody>\n",
       "</table>\n",
       "</div>"
      ],
      "text/plain": [
       "      AT      V       AP     RH      PE       Label\n",
       "0  25.18  62.96  1020.04  59.08  444.37  444.548798\n",
       "1  26.27  59.44  1012.23  58.77  443.67  445.010315\n",
       "2  14.64  45.00  1021.78  41.25  475.98  470.347473\n",
       "3  24.34  73.50  1011.31  84.15  440.29  437.442474\n",
       "4  14.45  52.75  1023.97  63.59  459.85  462.504578"
      ]
     },
     "execution_count": 53,
     "metadata": {},
     "output_type": "execute_result"
    }
   ],
   "source": [
    "new_pred.head()"
   ]
  },
  {
   "cell_type": "markdown",
   "metadata": {},
   "source": [
    "**Compare this with cell output # 48**\n",
    "\n",
    "Conclusion : Saved Model works well with unseen data. "
   ]
  },
  {
   "cell_type": "code",
   "execution_count": 54,
   "metadata": {},
   "outputs": [
    {
     "data": {
      "text/plain": [
       "0.9693"
      ]
     },
     "execution_count": 54,
     "metadata": {},
     "output_type": "execute_result"
    }
   ],
   "source": [
    "from pycaret.utils import check_metric\n",
    "check_metric(new_pred.PE, new_pred.Label, 'R2')"
   ]
  },
  {
   "cell_type": "markdown",
   "metadata": {},
   "source": [
    "**R2 identical to R2 obtained from prediction on unseen data.**"
   ]
  },
  {
   "cell_type": "code",
   "execution_count": 55,
   "metadata": {},
   "outputs": [
    {
     "data": {
      "text/plain": [
       "Index(['AT', 'V', 'AP', 'RH', 'PE'], dtype='object')"
      ]
     },
     "execution_count": 55,
     "metadata": {},
     "output_type": "execute_result"
    }
   ],
   "source": [
    "df.columns"
   ]
  },
  {
   "cell_type": "code",
   "execution_count": 57,
   "metadata": {},
   "outputs": [
    {
     "data": {
      "text/plain": [
       "444.5488"
      ]
     },
     "execution_count": 57,
     "metadata": {},
     "output_type": "execute_result"
    }
   ],
   "source": [
    "unseen_predictions[\"Label\"][0]"
   ]
  },
  {
   "cell_type": "code",
   "execution_count": null,
   "metadata": {},
   "outputs": [],
   "source": []
  }
 ],
 "metadata": {
  "kernelspec": {
   "display_name": "Python 3",
   "language": "python",
   "name": "python3"
  },
  "language_info": {
   "codemirror_mode": {
    "name": "ipython",
    "version": 3
   },
   "file_extension": ".py",
   "mimetype": "text/x-python",
   "name": "python",
   "nbconvert_exporter": "python",
   "pygments_lexer": "ipython3",
   "version": "3.7.0"
  }
 },
 "nbformat": 4,
 "nbformat_minor": 2
}
